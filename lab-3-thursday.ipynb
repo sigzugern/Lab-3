{
 "cells": [
  {
   "cell_type": "markdown",
   "metadata": {},
   "source": [
    "# Imports"
   ]
  },
  {
   "cell_type": "code",
   "execution_count": 1,
   "metadata": {},
   "outputs": [
    {
     "name": "stderr",
     "output_type": "stream",
     "text": [
      "/opt/miniconda3/envs/intro-ai/lib/python3.8/site-packages/tqdm/auto.py:22: TqdmWarning: IProgress not found. Please update jupyter and ipywidgets. See https://ipywidgets.readthedocs.io/en/stable/user_install.html\n",
      "  from .autonotebook import tqdm as notebook_tqdm\n"
     ]
    },
    {
     "name": "stdout",
     "output_type": "stream",
     "text": [
      "\n",
      "GPUs detected:          0\n",
      "Using GPU:              False\n",
      "Device:                 cpu\n",
      "Got model from pickle:  True\n",
      "\n"
     ]
    }
   ],
   "source": [
    "# regex\n",
    "import re\n",
    "\n",
    "# pandas + numpy\n",
    "import numpy as np\n",
    "import pandas as pd\n",
    "\n",
    "# setting pandas options\n",
    "pd.set_option('display.max_colwidth', 200)\n",
    "\n",
    "\n",
    "# storing and loading models\n",
    "import pickle\n",
    "\n",
    "# to set types for functions\n",
    "from typing import Tuple\n",
    "\n",
    "# Plotting\n",
    "import plotly.graph_objects as go\n",
    "import plotly.express as px\n",
    "from plotly.subplots import make_subplots\n",
    "\n",
    "\n",
    "# gpu debug\n",
    "import torch\n",
    "\n",
    "# setting device to use GPU for NLP backend if you have GPU available\n",
    "device = \"cuda\" if torch.cuda.is_available() else \"cpu\"\n",
    "\n",
    "\n",
    "# SBERT\n",
    "from sentence_transformers import SentenceTransformer\n",
    "\n",
    "# UMAP\n",
    "from umap import UMAP\n",
    "\n",
    "#HDBSCAN\n",
    "from hdbscan import HDBSCAN\n",
    "\n",
    "# topic finding\n",
    "from sklearn.feature_extraction.text import TfidfVectorizer\n",
    "\n",
    "# Loading model from pickle if possible, to avoid downloading it again\n",
    "try:\n",
    "    model = pickle.load(open(f'model-{device}.pkl', 'rb'))\n",
    "\n",
    "    model_load = True\n",
    "\n",
    "except:\n",
    "    model = SentenceTransformer('all-mpnet-base-v2', device=device)\n",
    "    pickle.dump(model, open(f'model-{device}.pkl', 'wb'))\n",
    "\n",
    "    model_load = False\n",
    "\n",
    "print(f\"\"\"\n",
    "GPUs detected:          {torch.cuda.device_count()}\n",
    "Using GPU:              {torch.cuda.is_available()}\n",
    "Device:                 {device}\n",
    "Got model from pickle:  {model_load}\n",
    "\"\"\")"
   ]
  },
  {
   "cell_type": "markdown",
   "metadata": {},
   "source": [
    "# Function"
   ]
  },
  {
   "cell_type": "code",
   "execution_count": 2,
   "metadata": {},
   "outputs": [],
   "source": [
    "def tfidf_most_relevant_word(input: list, num_words=5) -> list:\n",
    "  \"\"\"\n",
    "  Function that finds the most relevant words per cluster id.\n",
    "\n",
    "  Args:\n",
    "      input (list): A list of title strings aggregated by cluster id.\n",
    "      num_words (int, optional): How many words you want. Defaults to 5.\n",
    "\n",
    "  Returns:\n",
    "      list: Returns a list of most relevant words, with lenght of unique cluster Ids\n",
    "  \"\"\"\n",
    "\n",
    "  most_relevant_words = []\n",
    "  \n",
    "  for corpus in input:\n",
    "        \n",
    "    vectorizer = TfidfVectorizer(stop_words='english')\n",
    "    X = vectorizer.fit_transform(corpus)\n",
    "    \n",
    "    importance = np.argsort(np.asarray(X.sum(axis=0)).ravel())[::-1]\n",
    "    tfidf_feature_names = np.array(vectorizer.get_feature_names_out()) # get_feature_names\n",
    "    most_relevant_words.append(tfidf_feature_names[importance[:num_words]])\n",
    "\n",
    "  return most_relevant_words"
   ]
  },
  {
   "cell_type": "markdown",
   "metadata": {},
   "source": [
    "## Cleaning"
   ]
  },
  {
   "cell_type": "code",
   "execution_count": 3,
   "metadata": {},
   "outputs": [],
   "source": [
    "def string_cleaner(input: str) -> str:\n",
    "    \"\"\"\n",
    "    Function to clean up strings.\n",
    "\n",
    "    Args:\n",
    "        input (str): String to be cleaned.\n",
    "\n",
    "    Returns:\n",
    "        str: Cleaned string.\n",
    "    \"\"\"\n",
    "    \n",
    "    # turning lowercase\n",
    "    input = input.lower()\n",
    "\n",
    "    # removing punctuation and other non-alphanumeric characters\n",
    "    input = re.sub(r'[^\\w\\s]', '', input)\n",
    "    \n",
    "    return input"
   ]
  },
  {
   "cell_type": "markdown",
   "metadata": {},
   "source": [
    "## Topic Modeling"
   ]
  },
  {
   "cell_type": "code",
   "execution_count": 4,
   "metadata": {},
   "outputs": [],
   "source": [
    "def tfidf_most_relevant_word(input: list, num_words=5) -> list:\n",
    "  \"\"\"\n",
    "  Function that finds the most relevant words per cluster id.\n",
    "\n",
    "  Args:\n",
    "      input (list): A list of title strings aggregated by cluster id.\n",
    "      num_words (int, optional): How many words you want. Defaults to 5.\n",
    "\n",
    "  Returns:\n",
    "      list: Returns a list of most relevant words, with lenght of unique cluster Ids\n",
    "  \"\"\"\n",
    "\n",
    "  most_relevant_words = []\n",
    "  \n",
    "  for corpus in input:\n",
    "        \n",
    "    vectorizer = TfidfVectorizer(stop_words='english')\n",
    "    X = vectorizer.fit_transform(corpus)\n",
    "    \n",
    "    importance = np.argsort(np.asarray(X.sum(axis=0)).ravel())[::-1]\n",
    "    tfidf_feature_names = np.array(vectorizer.get_feature_names_out()) # get_feature_names\n",
    "    most_relevant_words.append(tfidf_feature_names[importance[:num_words]])\n",
    "\n",
    "  return most_relevant_words\n",
    "\n",
    "\n",
    "\n",
    "def topic_by_clusterId(result: pd.DataFrame) -> dict:\n",
    "  \"\"\"\n",
    "  Function that maps topics to cluster ids.\n",
    "\n",
    "  Args:\n",
    "      result (pd.DataFrame): Dataframe with cluster ids and topics.\n",
    "\n",
    "  Returns:\n",
    "      dict: Dictionary with cluster ids as keys and topics as values.\n",
    "  \"\"\"\n",
    "\n",
    "  #print(result.isna().sum())\n",
    "\n",
    "  df_group = result[[\"titles\", \"cluster_label\"]].groupby(\"cluster_label\").agg(list).reset_index()\n",
    "\n",
    "  df_group[\"topics\"] = tfidf_most_relevant_word(df_group[\"titles\"])\n",
    "\n",
    "  return dict(zip(df_group.cluster_label, df_group.topics))"
   ]
  },
  {
   "cell_type": "markdown",
   "metadata": {},
   "source": [
    "## Plotting Functions"
   ]
  },
  {
   "cell_type": "code",
   "execution_count": 5,
   "metadata": {},
   "outputs": [],
   "source": [
    "# when you actually cast the type here, then it works with how pandas casts types and you don't have to worry about copying seriers\n",
    "def result_df_maker(embeddings: np.ndarray, cluster_labels: np.ndarray, titles: np.ndarray) -> pd.DataFrame:\n",
    "  \"\"\"\n",
    "  Function to make a dataframe with the embeddings, cluster labels, topic per cluster label and titles.\n",
    "\n",
    "  Args:\n",
    "      embeddings (np.ndarray): 2D array of embeddings.\n",
    "      cluster_labels (np.ndarray): array of cluster labels.\n",
    "      titles (np.ndarray): array of titles.\n",
    "\n",
    "  Returns:\n",
    "      pd.DataFrame: Dataframe with embeddings, cluster labels, topics per cluster, and titles.\n",
    "  \"\"\"\n",
    "  result = pd.DataFrame(embeddings, columns=['x', 'y'])\n",
    "\n",
    "  result[\"titles\"] = titles\n",
    "\n",
    "  result[\"cluster_label\"] = cluster_labels\n",
    "\n",
    "  topic_dict = topic_by_clusterId(result)\n",
    "\n",
    "  result[\"topics\"] = result[\"cluster_label\"].apply(lambda x: topic_dict[x])\n",
    "\n",
    "  result[\"topics\"] = result[\"topics\"].apply(lambda x: \" \".join(x))\n",
    "\n",
    "  return result\n",
    "\n",
    "def result_splitter(result: pd.DataFrame) -> Tuple[np.ndarray, np.ndarray]:\n",
    "  \"\"\"\n",
    "  Function to split the dataframe into two dataframes, one for clustered and one for outliers.\n",
    "\n",
    "  Args:\n",
    "      result (pd.DataFrame): Dataframe with embeddings, cluster labels, topics per cluster, and titles.\n",
    "\n",
    "  Returns:\n",
    "      Tuple[np.ndarray, np.ndarray]: Tuple of two dataframes, one for clustered and one for outliers.\n",
    "  \"\"\"\n",
    "\n",
    "  clustered = result.loc[result.cluster_label != -1, :]\n",
    "  outliers = result.loc[result.cluster_label == -1, :]\n",
    "  return clustered, outliers\n",
    "\n",
    "# the cavalry is not here, but it's fine! Why? I am here!\n",
    "def result_tracer(clustered: pd.DataFrame, outliers: pd.DataFrame) -> Tuple[go.Scattergl, go.Scattergl]:\n",
    "  \"\"\"\n",
    "  Function to make a scatter traces of the clustered and outliers.\n",
    "\n",
    "  Args:\n",
    "      clustered (pd.DataFrame): clustered dataframe to be colored by cluster and get hover data\n",
    "      outliers (pd.DataFrame): outlier data frame with grey color and no hover data\n",
    "\n",
    "  Returns:\n",
    "      Tuple[go.Scattergl, go.Scattergl]: Tuple of two scatter traces.\n",
    "  \"\"\"\n",
    "\n",
    "  trace_cluster = go.Scattergl(\n",
    "    x=clustered.x, \n",
    "    y=clustered.y, \n",
    "    mode=\"markers\", \n",
    "    name=\"Clustered\",\n",
    "\n",
    "    # styling markers\n",
    "    marker=dict(\n",
    "      size=2, \n",
    "      color=clustered.cluster_label,\n",
    "      colorscale=\"Rainbow\"\n",
    "    ), \n",
    "\n",
    "    # setting hover text to the titles of the videos\n",
    "    hovertemplate=\"<b>Title:</b> %{customdata[0]} <br><b>Topics:</b> %{customdata[1]} <br><b>Cluster Id:</b> %{customdata[2]}<extra></extra>\", \n",
    "    customdata=np.column_stack([clustered.titles, clustered.topics, clustered.cluster_label]),\n",
    "  )\n",
    "\n",
    "  trace_outlier = go.Scattergl(\n",
    "    x=outliers.x,\n",
    "    y=outliers.y,\n",
    "    mode=\"markers\",\n",
    "    name=\"Outliers\",\n",
    "\n",
    "    marker=dict(\n",
    "      size=1,\n",
    "      color=\"grey\"\n",
    "    ),\n",
    "\n",
    "    hovertemplate=\"Outlier<extra></extra>\"\n",
    "  )\n",
    "\n",
    "  return trace_cluster, trace_outlier\n",
    "\n",
    "def result_tracer_wrapper(uembs: np.ndarray, cluster_labels: np.ndarray, titles: np.ndarray) -> Tuple[go.Scattergl, go.Scattergl]:\n",
    "  \"\"\"\n",
    "  Function to make a scatter traces of the clustered and outliers.\n",
    "\n",
    "  Args:\n",
    "      uembs (np.ndarray): 2D array of embeddings.\n",
    "      cluster_labels (np.ndarray): array of cluster labels.\n",
    "      titles (np.ndarray): array of titles.\n",
    "\n",
    "  Returns:\n",
    "      Tuple[go.Scattergl, go.Scattergl]: Tuple of two scatter traces.\n",
    "  \"\"\"\n",
    "\n",
    "  result = result_df_maker(uembs, cluster_labels, titles)\n",
    "  clustered, outliers = result_splitter(result)\n",
    "  trace_cluster, trace_outlier = result_tracer(clustered, outliers)\n",
    "  return trace_cluster, trace_outlier"
   ]
  },
  {
   "cell_type": "code",
   "execution_count": 6,
   "metadata": {},
   "outputs": [],
   "source": [
    "def subplotter(trace_nested_list: list, titles: list, base_size=1000) -> go.Figure:\n",
    "    \"\"\"\n",
    "    Function to make a figure with subplots of the clustered and outliers.\n",
    "\n",
    "    Args:\n",
    "        trace_nested_list (list): list holding rows of columns, each column holding traces. \n",
    "        titles (list): Titles for the subplots\n",
    "        base_size (int, optional): Base size of the sub plots. Defaults to 1000.\n",
    "\n",
    "    Returns:\n",
    "        go.Figure: Figure with subplots.\n",
    "    \"\"\"\n",
    "    \n",
    "    row_count = len(trace_nested_list)\n",
    "    col_count = len(trace_nested_list[0])\n",
    "    \n",
    "    fig = make_subplots(\n",
    "        rows=row_count, \n",
    "        cols=col_count,\n",
    "        subplot_titles=(titles),\n",
    "        vertical_spacing=0.02,\n",
    "        horizontal_spacing=0.02\n",
    "    )\n",
    "\n",
    "    for i, row in enumerate(trace_nested_list):\n",
    "        for j, col in enumerate(row):\n",
    "\n",
    "            # adding both outlieers and clustered\n",
    "            for trace in col:\n",
    "                fig.add_trace(trace, row=i+1, col=1)\n",
    "    \n",
    "    # figure settings\n",
    "    fig.update_xaxes(visible=False)\n",
    "    fig.update_yaxes(visible=False)\n",
    "    \n",
    "    fig.update_layout(width=base_size*col_count, height=base_size*row_count, plot_bgcolor='rgba(250,250,250,1)')\n",
    "\n",
    "    return fig"
   ]
  },
  {
   "cell_type": "markdown",
   "metadata": {},
   "source": [
    "## Saving / Showing Plots"
   ]
  },
  {
   "cell_type": "code",
   "execution_count": 7,
   "metadata": {},
   "outputs": [],
   "source": [
    "def fig_show_save(fig: go.Figure, filename: str, show=True):\n",
    "  \"\"\"\n",
    "  Function to show and save a figure.\n",
    "\n",
    "  Args:\n",
    "      fig (go.Figure): fig to be saved and shown\n",
    "      filename (str): filename to save the figure, without extension\n",
    "      show (bool, optional): Option to disable showing of figure (in case too big for notebook). Defaults to True.\n",
    "  \"\"\"\n",
    "  \n",
    "  # writing both interactible .html and static image .png\n",
    "  fig.write_html(f\"figures/{filename}.html\")\n",
    "  fig.write_image(f\"figures/{filename}.png\")\n",
    "\n",
    "  if show: \n",
    "    fig.show()"
   ]
  },
  {
   "cell_type": "markdown",
   "metadata": {},
   "source": [
    "# Data Part"
   ]
  },
  {
   "cell_type": "markdown",
   "metadata": {},
   "source": [
    "In the code beneath this block, we are using pandas to read a data from a local source\n",
    "\n",
    "we are then copying just one series from that data, and that we are sampling that down, in the case where we do not have a gpu to do our text encodings"
   ]
  },
  {
   "cell_type": "code",
   "execution_count": 8,
   "metadata": {},
   "outputs": [
    {
     "data": {
      "text/html": [
       "<div>\n",
       "<style scoped>\n",
       "    .dataframe tbody tr th:only-of-type {\n",
       "        vertical-align: middle;\n",
       "    }\n",
       "\n",
       "    .dataframe tbody tr th {\n",
       "        vertical-align: top;\n",
       "    }\n",
       "\n",
       "    .dataframe thead th {\n",
       "        text-align: right;\n",
       "    }\n",
       "</style>\n",
       "<table border=\"1\" class=\"dataframe\">\n",
       "  <thead>\n",
       "    <tr style=\"text-align: right;\">\n",
       "      <th></th>\n",
       "      <th>title</th>\n",
       "    </tr>\n",
       "  </thead>\n",
       "  <tbody>\n",
       "    <tr>\n",
       "      <th>3637</th>\n",
       "      <td>Americans Try To Explain The Royal Family</td>\n",
       "    </tr>\n",
       "    <tr>\n",
       "      <th>4488</th>\n",
       "      <td>Testing Nail Products from Wish Nails Remove Toes Hollow Nail Polish Peel-off Nails Wish Buy Now</td>\n",
       "    </tr>\n",
       "    <tr>\n",
       "      <th>36325</th>\n",
       "      <td>NERF Hide Your Weapon Challenge!</td>\n",
       "    </tr>\n",
       "    <tr>\n",
       "      <th>30548</th>\n",
       "      <td>David Guetta &amp; Sia - Flames (Official Video)</td>\n",
       "    </tr>\n",
       "    <tr>\n",
       "      <th>36346</th>\n",
       "      <td>We Are So Blessed | Acacia Kersey</td>\n",
       "    </tr>\n",
       "    <tr>\n",
       "      <th>...</th>\n",
       "      <td>...</td>\n",
       "    </tr>\n",
       "    <tr>\n",
       "      <th>8024</th>\n",
       "      <td>Honey Butter Smashed Potato 🎄Asian at Home Holiday Special Recipe🎄</td>\n",
       "    </tr>\n",
       "    <tr>\n",
       "      <th>5746</th>\n",
       "      <td>Youtube Rewind 2017 - BEHIND THE SCENES</td>\n",
       "    </tr>\n",
       "    <tr>\n",
       "      <th>39243</th>\n",
       "      <td>Christopher Robin Official Trailer</td>\n",
       "    </tr>\n",
       "    <tr>\n",
       "      <th>492</th>\n",
       "      <td>Model Fei Fei Sun Perform Skin-Care Magic | Beauty Secrets | Vogue</td>\n",
       "    </tr>\n",
       "    <tr>\n",
       "      <th>13860</th>\n",
       "      <td>ROCKET JUMP RC CAR - Worlds highest vertical jump with an RC car! (probably)</td>\n",
       "    </tr>\n",
       "  </tbody>\n",
       "</table>\n",
       "<p>2047 rows × 1 columns</p>\n",
       "</div>"
      ],
      "text/plain": [
       "                                                                                                  title\n",
       "3637                                                          Americans Try To Explain The Royal Family\n",
       "4488   Testing Nail Products from Wish Nails Remove Toes Hollow Nail Polish Peel-off Nails Wish Buy Now\n",
       "36325                                                                  NERF Hide Your Weapon Challenge!\n",
       "30548                                                      David Guetta & Sia - Flames (Official Video)\n",
       "36346                                                                 We Are So Blessed | Acacia Kersey\n",
       "...                                                                                                 ...\n",
       "8024                                 Honey Butter Smashed Potato 🎄Asian at Home Holiday Special Recipe🎄\n",
       "5746                                                            Youtube Rewind 2017 - BEHIND THE SCENES\n",
       "39243                                                                Christopher Robin Official Trailer\n",
       "492                                  Model Fei Fei Sun Perform Skin-Care Magic | Beauty Secrets | Vogue\n",
       "13860                      ROCKET JUMP RC CAR - Worlds highest vertical jump with an RC car! (probably)\n",
       "\n",
       "[2047 rows x 1 columns]"
      ]
     },
     "execution_count": 8,
     "metadata": {},
     "output_type": "execute_result"
    }
   ],
   "source": [
    "df_whole = pd.read_csv(\"data/USvideos.csv\")\n",
    "\n",
    "df = df_whole[[\"title\"]].copy()\n",
    "\n",
    "if device == \"cpu\": df = df.sample(frac=0.05)\n",
    "\n",
    "df"
   ]
  },
  {
   "cell_type": "code",
   "execution_count": 9,
   "metadata": {},
   "outputs": [
    {
     "data": {
      "text/plain": [
       "['Americans Try To Explain The Royal Family',\n",
       " 'Testing Nail Products from Wish Nails Remove Toes Hollow Nail Polish Peel-off Nails Wish Buy Now',\n",
       " 'NERF Hide Your Weapon Challenge!',\n",
       " 'David Guetta & Sia - Flames (Official Video)',\n",
       " 'We Are So Blessed | Acacia Kersey',\n",
       " 'MY GLOWING Natural MAKEUP ROUTINE',\n",
       " 'Introducing: The Players! - Super Smash Bros. Invitational 2018',\n",
       " 'James Cameron Answers Sci-Fi Questions From Twitter | Tech Support | WIRED',\n",
       " 'Drake - Nice For What',\n",
       " \"BTS (방탄소년단) 'FAKE LOVE' Official MV\",\n",
       " 'Daddy Yankee - Hielo (Video Oficial)',\n",
       " 'Freeze! NZ Police’s most entertaining recruitment video, yet!',\n",
       " \"How Michael B. Jordan's Black Panther Makeup Was Done — Exclusive Behind The Scenes\",\n",
       " 'The Smallest House In The World',\n",
       " 'The Chainsmokers - You Owe Me',\n",
       " 'Cardi B - Bartier Cardi (feat. 21 Savage) [Official Audio]',\n",
       " 'Wizards Give Bad Directions',\n",
       " 'Are Critics What Killed Justice League? Sony Pay Too Much For Tarantino? - The John Campea Show',\n",
       " 'MY MY MY! TRAILER',\n",
       " \"DIY - Simon's Cat  | NEW BLACK & WHITE!\"]"
      ]
     },
     "execution_count": 9,
     "metadata": {},
     "output_type": "execute_result"
    }
   ],
   "source": [
    "list(df[\"title\"])[0:20]"
   ]
  },
  {
   "cell_type": "code",
   "execution_count": 10,
   "metadata": {},
   "outputs": [
    {
     "data": {
      "text/html": [
       "<div>\n",
       "<style scoped>\n",
       "    .dataframe tbody tr th:only-of-type {\n",
       "        vertical-align: middle;\n",
       "    }\n",
       "\n",
       "    .dataframe tbody tr th {\n",
       "        vertical-align: top;\n",
       "    }\n",
       "\n",
       "    .dataframe thead th {\n",
       "        text-align: right;\n",
       "    }\n",
       "</style>\n",
       "<table border=\"1\" class=\"dataframe\">\n",
       "  <thead>\n",
       "    <tr style=\"text-align: right;\">\n",
       "      <th></th>\n",
       "      <th>title</th>\n",
       "      <th>title_clean</th>\n",
       "    </tr>\n",
       "  </thead>\n",
       "  <tbody>\n",
       "    <tr>\n",
       "      <th>3637</th>\n",
       "      <td>Americans Try To Explain The Royal Family</td>\n",
       "      <td>americans try to explain the royal family</td>\n",
       "    </tr>\n",
       "    <tr>\n",
       "      <th>4488</th>\n",
       "      <td>Testing Nail Products from Wish Nails Remove Toes Hollow Nail Polish Peel-off Nails Wish Buy Now</td>\n",
       "      <td>testing nail products from wish nails remove toes hollow nail polish peeloff nails wish buy now</td>\n",
       "    </tr>\n",
       "    <tr>\n",
       "      <th>36325</th>\n",
       "      <td>NERF Hide Your Weapon Challenge!</td>\n",
       "      <td>nerf hide your weapon challenge</td>\n",
       "    </tr>\n",
       "  </tbody>\n",
       "</table>\n",
       "</div>"
      ],
      "text/plain": [
       "                                                                                                  title  \\\n",
       "3637                                                          Americans Try To Explain The Royal Family   \n",
       "4488   Testing Nail Products from Wish Nails Remove Toes Hollow Nail Polish Peel-off Nails Wish Buy Now   \n",
       "36325                                                                  NERF Hide Your Weapon Challenge!   \n",
       "\n",
       "                                                                                           title_clean  \n",
       "3637                                                         americans try to explain the royal family  \n",
       "4488   testing nail products from wish nails remove toes hollow nail polish peeloff nails wish buy now  \n",
       "36325                                                                  nerf hide your weapon challenge  "
      ]
     },
     "execution_count": 10,
     "metadata": {},
     "output_type": "execute_result"
    }
   ],
   "source": [
    "df[\"title_clean\"] = df[\"title\"].apply(string_cleaner)\n",
    "\n",
    "df.head(3)"
   ]
  },
  {
   "cell_type": "markdown",
   "metadata": {},
   "source": [
    "# Getting Encodings"
   ]
  },
  {
   "cell_type": "code",
   "execution_count": 11,
   "metadata": {},
   "outputs": [],
   "source": [
    "embs = model.encode(df[\"title_clean\"].to_numpy())"
   ]
  },
  {
   "cell_type": "code",
   "execution_count": 12,
   "metadata": {},
   "outputs": [
    {
     "name": "stdout",
     "output_type": "stream",
     "text": [
      "\n",
      "<class 'numpy.ndarray'>\n",
      "hvor langt er selve embs: 2047\n",
      "hvor langt et er et element: 768\n",
      "hva er første element i embs:\n",
      "[-0.00952766  0.03230976  0.00629791  0.0193039  -0.0046478   0.02963522\n",
      " -0.04211115  0.00308626  0.01404309  0.02988292  0.00276043 -0.00798842\n",
      "  0.01713376 -0.0602063  -0.02199618 -0.03249558  0.024577   -0.01760846\n",
      "  0.01674838 -0.02218898]\n",
      "\n"
     ]
    }
   ],
   "source": [
    "print(f\"\"\"\n",
    "{type(embs)}\n",
    "hvor langt er selve embs: {len(embs)}\n",
    "hvor langt et er et element: {len(embs[0])}\n",
    "hva er første element i embs:\n",
    "{embs[0][0:20]}\n",
    "\"\"\")"
   ]
  },
  {
   "cell_type": "code",
   "execution_count": 13,
   "metadata": {},
   "outputs": [
    {
     "data": {
      "text/html": [
       "<div>\n",
       "<style scoped>\n",
       "    .dataframe tbody tr th:only-of-type {\n",
       "        vertical-align: middle;\n",
       "    }\n",
       "\n",
       "    .dataframe tbody tr th {\n",
       "        vertical-align: top;\n",
       "    }\n",
       "\n",
       "    .dataframe thead th {\n",
       "        text-align: right;\n",
       "    }\n",
       "</style>\n",
       "<table border=\"1\" class=\"dataframe\">\n",
       "  <thead>\n",
       "    <tr style=\"text-align: right;\">\n",
       "      <th></th>\n",
       "      <th>title</th>\n",
       "      <th>title_clean</th>\n",
       "      <th>embs</th>\n",
       "    </tr>\n",
       "  </thead>\n",
       "  <tbody>\n",
       "    <tr>\n",
       "      <th>3637</th>\n",
       "      <td>Americans Try To Explain The Royal Family</td>\n",
       "      <td>americans try to explain the royal family</td>\n",
       "      <td>[-0.009527659, 0.03230976, 0.006297907, 0.019303905, -0.004647805, 0.029635219, -0.042111155, 0.0030862591, 0.014043092, 0.02988292, 0.0027604308, -0.007988418, 0.017133761, -0.060206298, -0.02199...</td>\n",
       "    </tr>\n",
       "    <tr>\n",
       "      <th>4488</th>\n",
       "      <td>Testing Nail Products from Wish Nails Remove Toes Hollow Nail Polish Peel-off Nails Wish Buy Now</td>\n",
       "      <td>testing nail products from wish nails remove toes hollow nail polish peeloff nails wish buy now</td>\n",
       "      <td>[0.032359283, 0.0020081406, -0.037049524, 0.010657191, -0.04816739, 0.013827549, 0.05480524, 0.072066315, 0.06314754, 0.012768811, 0.009375898, 0.0018209312, 0.014223949, 0.04230842, 0.0010414064,...</td>\n",
       "    </tr>\n",
       "    <tr>\n",
       "      <th>36325</th>\n",
       "      <td>NERF Hide Your Weapon Challenge!</td>\n",
       "      <td>nerf hide your weapon challenge</td>\n",
       "      <td>[0.008093136, 0.029868003, -0.007413508, 0.05254078, -0.046362087, -0.0072559356, 0.063857436, 0.032383356, -0.034648493, 0.00055324804, 0.00017251789, 0.031673957, -0.026213238, 0.0054176454, -0....</td>\n",
       "    </tr>\n",
       "  </tbody>\n",
       "</table>\n",
       "</div>"
      ],
      "text/plain": [
       "                                                                                                  title  \\\n",
       "3637                                                          Americans Try To Explain The Royal Family   \n",
       "4488   Testing Nail Products from Wish Nails Remove Toes Hollow Nail Polish Peel-off Nails Wish Buy Now   \n",
       "36325                                                                  NERF Hide Your Weapon Challenge!   \n",
       "\n",
       "                                                                                           title_clean  \\\n",
       "3637                                                         americans try to explain the royal family   \n",
       "4488   testing nail products from wish nails remove toes hollow nail polish peeloff nails wish buy now   \n",
       "36325                                                                  nerf hide your weapon challenge   \n",
       "\n",
       "                                                                                                                                                                                                          embs  \n",
       "3637   [-0.009527659, 0.03230976, 0.006297907, 0.019303905, -0.004647805, 0.029635219, -0.042111155, 0.0030862591, 0.014043092, 0.02988292, 0.0027604308, -0.007988418, 0.017133761, -0.060206298, -0.02199...  \n",
       "4488   [0.032359283, 0.0020081406, -0.037049524, 0.010657191, -0.04816739, 0.013827549, 0.05480524, 0.072066315, 0.06314754, 0.012768811, 0.009375898, 0.0018209312, 0.014223949, 0.04230842, 0.0010414064,...  \n",
       "36325  [0.008093136, 0.029868003, -0.007413508, 0.05254078, -0.046362087, -0.0072559356, 0.063857436, 0.032383356, -0.034648493, 0.00055324804, 0.00017251789, 0.031673957, -0.026213238, 0.0054176454, -0....  "
      ]
     },
     "execution_count": 13,
     "metadata": {},
     "output_type": "execute_result"
    }
   ],
   "source": [
    "df[\"embs\"] = list(embs)\n",
    "\n",
    "df.head(3)"
   ]
  },
  {
   "cell_type": "markdown",
   "metadata": {},
   "source": [
    "# Dimensionality Reduction"
   ]
  },
  {
   "cell_type": "code",
   "execution_count": 14,
   "metadata": {},
   "outputs": [],
   "source": [
    "umap = UMAP(n_neighbors=20, min_dist=0.1)\n",
    "\n",
    "embs_2d = umap.fit_transform(embs)"
   ]
  },
  {
   "cell_type": "code",
   "execution_count": 15,
   "metadata": {},
   "outputs": [
    {
     "name": "stdout",
     "output_type": "stream",
     "text": [
      "\n",
      "<class 'numpy.ndarray'>\n",
      "hvor langt er selve embs_2d: 2047\n",
      "hvor langt et er et element: 2\n",
      "hva er første element i embs_2d:\n",
      "[6.947312  4.3327556]\n",
      "\n"
     ]
    }
   ],
   "source": [
    "print(f\"\"\"\n",
    "{type(embs_2d)}\n",
    "hvor langt er selve embs_2d: {len(embs_2d)}\n",
    "hvor langt et er et element: {len(embs_2d[0])}\n",
    "hva er første element i embs_2d:\n",
    "{embs_2d[0]}\n",
    "\"\"\")"
   ]
  },
  {
   "cell_type": "code",
   "execution_count": 16,
   "metadata": {},
   "outputs": [
    {
     "data": {
      "text/html": [
       "<div>\n",
       "<style scoped>\n",
       "    .dataframe tbody tr th:only-of-type {\n",
       "        vertical-align: middle;\n",
       "    }\n",
       "\n",
       "    .dataframe tbody tr th {\n",
       "        vertical-align: top;\n",
       "    }\n",
       "\n",
       "    .dataframe thead th {\n",
       "        text-align: right;\n",
       "    }\n",
       "</style>\n",
       "<table border=\"1\" class=\"dataframe\">\n",
       "  <thead>\n",
       "    <tr style=\"text-align: right;\">\n",
       "      <th></th>\n",
       "      <th>title</th>\n",
       "      <th>title_clean</th>\n",
       "      <th>embs</th>\n",
       "      <th>embs_2d</th>\n",
       "    </tr>\n",
       "  </thead>\n",
       "  <tbody>\n",
       "    <tr>\n",
       "      <th>3637</th>\n",
       "      <td>Americans Try To Explain The Royal Family</td>\n",
       "      <td>americans try to explain the royal family</td>\n",
       "      <td>[-0.009527659, 0.03230976, 0.006297907, 0.019303905, -0.004647805, 0.029635219, -0.042111155, 0.0030862591, 0.014043092, 0.02988292, 0.0027604308, -0.007988418, 0.017133761, -0.060206298, -0.02199...</td>\n",
       "      <td>[6.947312, 4.3327556]</td>\n",
       "    </tr>\n",
       "    <tr>\n",
       "      <th>4488</th>\n",
       "      <td>Testing Nail Products from Wish Nails Remove Toes Hollow Nail Polish Peel-off Nails Wish Buy Now</td>\n",
       "      <td>testing nail products from wish nails remove toes hollow nail polish peeloff nails wish buy now</td>\n",
       "      <td>[0.032359283, 0.0020081406, -0.037049524, 0.010657191, -0.04816739, 0.013827549, 0.05480524, 0.072066315, 0.06314754, 0.012768811, 0.009375898, 0.0018209312, 0.014223949, 0.04230842, 0.0010414064,...</td>\n",
       "      <td>[5.6373625, 0.77200705]</td>\n",
       "    </tr>\n",
       "    <tr>\n",
       "      <th>36325</th>\n",
       "      <td>NERF Hide Your Weapon Challenge!</td>\n",
       "      <td>nerf hide your weapon challenge</td>\n",
       "      <td>[0.008093136, 0.029868003, -0.007413508, 0.05254078, -0.046362087, -0.0072559356, 0.063857436, 0.032383356, -0.034648493, 0.00055324804, 0.00017251789, 0.031673957, -0.026213238, 0.0054176454, -0....</td>\n",
       "      <td>[4.376295, 5.010812]</td>\n",
       "    </tr>\n",
       "  </tbody>\n",
       "</table>\n",
       "</div>"
      ],
      "text/plain": [
       "                                                                                                  title  \\\n",
       "3637                                                          Americans Try To Explain The Royal Family   \n",
       "4488   Testing Nail Products from Wish Nails Remove Toes Hollow Nail Polish Peel-off Nails Wish Buy Now   \n",
       "36325                                                                  NERF Hide Your Weapon Challenge!   \n",
       "\n",
       "                                                                                           title_clean  \\\n",
       "3637                                                         americans try to explain the royal family   \n",
       "4488   testing nail products from wish nails remove toes hollow nail polish peeloff nails wish buy now   \n",
       "36325                                                                  nerf hide your weapon challenge   \n",
       "\n",
       "                                                                                                                                                                                                          embs  \\\n",
       "3637   [-0.009527659, 0.03230976, 0.006297907, 0.019303905, -0.004647805, 0.029635219, -0.042111155, 0.0030862591, 0.014043092, 0.02988292, 0.0027604308, -0.007988418, 0.017133761, -0.060206298, -0.02199...   \n",
       "4488   [0.032359283, 0.0020081406, -0.037049524, 0.010657191, -0.04816739, 0.013827549, 0.05480524, 0.072066315, 0.06314754, 0.012768811, 0.009375898, 0.0018209312, 0.014223949, 0.04230842, 0.0010414064,...   \n",
       "36325  [0.008093136, 0.029868003, -0.007413508, 0.05254078, -0.046362087, -0.0072559356, 0.063857436, 0.032383356, -0.034648493, 0.00055324804, 0.00017251789, 0.031673957, -0.026213238, 0.0054176454, -0....   \n",
       "\n",
       "                       embs_2d  \n",
       "3637     [6.947312, 4.3327556]  \n",
       "4488   [5.6373625, 0.77200705]  \n",
       "36325     [4.376295, 5.010812]  "
      ]
     },
     "execution_count": 16,
     "metadata": {},
     "output_type": "execute_result"
    }
   ],
   "source": [
    "df[\"embs_2d\"] = list(embs_2d)\n",
    "\n",
    "df.head(3)"
   ]
  },
  {
   "cell_type": "code",
   "execution_count": 17,
   "metadata": {},
   "outputs": [
    {
     "ename": "ValueError",
     "evalue": "\nImage export using the \"kaleido\" engine requires the kaleido package,\nwhich can be installed using pip:\n    $ pip install -U kaleido\n",
     "output_type": "error",
     "traceback": [
      "\u001b[0;31m---------------------------------------------------------------------------\u001b[0m",
      "\u001b[0;31mValueError\u001b[0m                                Traceback (most recent call last)",
      "\u001b[1;32m/Users/sigurdskyrud/Documents/GitHub/Lab-3/lab-3-thursday.ipynb Cell 27\u001b[0m in \u001b[0;36m<cell line: 7>\u001b[0;34m()\u001b[0m\n\u001b[1;32m      <a href='vscode-notebook-cell:/Users/sigurdskyrud/Documents/GitHub/Lab-3/lab-3-thursday.ipynb#X35sZmlsZQ%3D%3D?line=3'>4</a>\u001b[0m fig\u001b[39m.\u001b[39mupdate_traces(marker\u001b[39m=\u001b[39m\u001b[39mdict\u001b[39m(size\u001b[39m=\u001b[39m\u001b[39m2\u001b[39m))\n\u001b[1;32m      <a href='vscode-notebook-cell:/Users/sigurdskyrud/Documents/GitHub/Lab-3/lab-3-thursday.ipynb#X35sZmlsZQ%3D%3D?line=5'>6</a>\u001b[0m \u001b[39m# plotting to show how the embeddings are when just dimensionality reduction is used\u001b[39;00m\n\u001b[0;32m----> <a href='vscode-notebook-cell:/Users/sigurdskyrud/Documents/GitHub/Lab-3/lab-3-thursday.ipynb#X35sZmlsZQ%3D%3D?line=6'>7</a>\u001b[0m fig_show_save(fig, \u001b[39m\"\u001b[39;49m\u001b[39mumap-scatter\u001b[39;49m\u001b[39m\"\u001b[39;49m)\n",
      "\u001b[1;32m/Users/sigurdskyrud/Documents/GitHub/Lab-3/lab-3-thursday.ipynb Cell 27\u001b[0m in \u001b[0;36mfig_show_save\u001b[0;34m(fig, filename, show)\u001b[0m\n\u001b[1;32m     <a href='vscode-notebook-cell:/Users/sigurdskyrud/Documents/GitHub/Lab-3/lab-3-thursday.ipynb#X35sZmlsZQ%3D%3D?line=10'>11</a>\u001b[0m \u001b[39m# writing both interactible .html and static image .png\u001b[39;00m\n\u001b[1;32m     <a href='vscode-notebook-cell:/Users/sigurdskyrud/Documents/GitHub/Lab-3/lab-3-thursday.ipynb#X35sZmlsZQ%3D%3D?line=11'>12</a>\u001b[0m fig\u001b[39m.\u001b[39mwrite_html(\u001b[39mf\u001b[39m\u001b[39m\"\u001b[39m\u001b[39mfigures/\u001b[39m\u001b[39m{\u001b[39;00mfilename\u001b[39m}\u001b[39;00m\u001b[39m.html\u001b[39m\u001b[39m\"\u001b[39m)\n\u001b[0;32m---> <a href='vscode-notebook-cell:/Users/sigurdskyrud/Documents/GitHub/Lab-3/lab-3-thursday.ipynb#X35sZmlsZQ%3D%3D?line=12'>13</a>\u001b[0m fig\u001b[39m.\u001b[39;49mwrite_image(\u001b[39mf\u001b[39;49m\u001b[39m\"\u001b[39;49m\u001b[39mfigures/\u001b[39;49m\u001b[39m{\u001b[39;49;00mfilename\u001b[39m}\u001b[39;49;00m\u001b[39m.png\u001b[39;49m\u001b[39m\"\u001b[39;49m)\n\u001b[1;32m     <a href='vscode-notebook-cell:/Users/sigurdskyrud/Documents/GitHub/Lab-3/lab-3-thursday.ipynb#X35sZmlsZQ%3D%3D?line=14'>15</a>\u001b[0m \u001b[39mif\u001b[39;00m show: \n\u001b[1;32m     <a href='vscode-notebook-cell:/Users/sigurdskyrud/Documents/GitHub/Lab-3/lab-3-thursday.ipynb#X35sZmlsZQ%3D%3D?line=15'>16</a>\u001b[0m   fig\u001b[39m.\u001b[39mshow()\n",
      "File \u001b[0;32m/opt/miniconda3/envs/intro-ai/lib/python3.8/site-packages/plotly/basedatatypes.py:3829\u001b[0m, in \u001b[0;36mBaseFigure.write_image\u001b[0;34m(self, *args, **kwargs)\u001b[0m\n\u001b[1;32m   3769\u001b[0m \u001b[39m\"\"\"\u001b[39;00m\n\u001b[1;32m   3770\u001b[0m \u001b[39mConvert a figure to a static image and write it to a file or writeable\u001b[39;00m\n\u001b[1;32m   3771\u001b[0m \u001b[39mobject\u001b[39;00m\n\u001b[0;32m   (...)\u001b[0m\n\u001b[1;32m   3825\u001b[0m \u001b[39mNone\u001b[39;00m\n\u001b[1;32m   3826\u001b[0m \u001b[39m\"\"\"\u001b[39;00m\n\u001b[1;32m   3827\u001b[0m \u001b[39mimport\u001b[39;00m \u001b[39mplotly\u001b[39;00m\u001b[39m.\u001b[39;00m\u001b[39mio\u001b[39;00m \u001b[39mas\u001b[39;00m \u001b[39mpio\u001b[39;00m\n\u001b[0;32m-> 3829\u001b[0m \u001b[39mreturn\u001b[39;00m pio\u001b[39m.\u001b[39;49mwrite_image(\u001b[39mself\u001b[39;49m, \u001b[39m*\u001b[39;49margs, \u001b[39m*\u001b[39;49m\u001b[39m*\u001b[39;49mkwargs)\n",
      "File \u001b[0;32m/opt/miniconda3/envs/intro-ai/lib/python3.8/site-packages/plotly/io/_kaleido.py:267\u001b[0m, in \u001b[0;36mwrite_image\u001b[0;34m(fig, file, format, scale, width, height, validate, engine)\u001b[0m\n\u001b[1;32m    251\u001b[0m             \u001b[39mraise\u001b[39;00m \u001b[39mValueError\u001b[39;00m(\n\u001b[1;32m    252\u001b[0m                 \u001b[39m\"\"\"\u001b[39;00m\n\u001b[1;32m    253\u001b[0m \u001b[39mCannot infer image type from output path '{file}'.\u001b[39;00m\n\u001b[0;32m   (...)\u001b[0m\n\u001b[1;32m    261\u001b[0m                 )\n\u001b[1;32m    262\u001b[0m             )\n\u001b[1;32m    264\u001b[0m     \u001b[39m# Request image\u001b[39;00m\n\u001b[1;32m    265\u001b[0m     \u001b[39m# -------------\u001b[39;00m\n\u001b[1;32m    266\u001b[0m     \u001b[39m# Do this first so we don't create a file if image conversion fails\u001b[39;00m\n\u001b[0;32m--> 267\u001b[0m     img_data \u001b[39m=\u001b[39m to_image(\n\u001b[1;32m    268\u001b[0m         fig,\n\u001b[1;32m    269\u001b[0m         \u001b[39mformat\u001b[39;49m\u001b[39m=\u001b[39;49m\u001b[39mformat\u001b[39;49m,\n\u001b[1;32m    270\u001b[0m         scale\u001b[39m=\u001b[39;49mscale,\n\u001b[1;32m    271\u001b[0m         width\u001b[39m=\u001b[39;49mwidth,\n\u001b[1;32m    272\u001b[0m         height\u001b[39m=\u001b[39;49mheight,\n\u001b[1;32m    273\u001b[0m         validate\u001b[39m=\u001b[39;49mvalidate,\n\u001b[1;32m    274\u001b[0m         engine\u001b[39m=\u001b[39;49mengine,\n\u001b[1;32m    275\u001b[0m     )\n\u001b[1;32m    277\u001b[0m     \u001b[39m# Open file\u001b[39;00m\n\u001b[1;32m    278\u001b[0m     \u001b[39m# ---------\u001b[39;00m\n\u001b[1;32m    279\u001b[0m     \u001b[39mif\u001b[39;00m path \u001b[39mis\u001b[39;00m \u001b[39mNone\u001b[39;00m:\n\u001b[1;32m    280\u001b[0m         \u001b[39m# We previously failed to make sense of `file` as a pathlib object.\u001b[39;00m\n\u001b[1;32m    281\u001b[0m         \u001b[39m# Attempt to write to `file` as an open file descriptor.\u001b[39;00m\n",
      "File \u001b[0;32m/opt/miniconda3/envs/intro-ai/lib/python3.8/site-packages/plotly/io/_kaleido.py:133\u001b[0m, in \u001b[0;36mto_image\u001b[0;34m(fig, format, width, height, scale, validate, engine)\u001b[0m\n\u001b[1;32m    131\u001b[0m     \u001b[39m# Raise informative error message if Kaleido is not installed\u001b[39;00m\n\u001b[1;32m    132\u001b[0m     \u001b[39mif\u001b[39;00m scope \u001b[39mis\u001b[39;00m \u001b[39mNone\u001b[39;00m:\n\u001b[0;32m--> 133\u001b[0m         \u001b[39mraise\u001b[39;00m \u001b[39mValueError\u001b[39;00m(\n\u001b[1;32m    134\u001b[0m             \u001b[39m\"\"\"\u001b[39;00m\n\u001b[1;32m    135\u001b[0m \u001b[39mImage export using the \"kaleido\" engine requires the kaleido package,\u001b[39;00m\n\u001b[1;32m    136\u001b[0m \u001b[39mwhich can be installed using pip:\u001b[39;00m\n\u001b[1;32m    137\u001b[0m \u001b[39m    $ pip install -U kaleido\u001b[39;00m\n\u001b[1;32m    138\u001b[0m \u001b[39m\"\"\"\u001b[39;00m\n\u001b[1;32m    139\u001b[0m         )\n\u001b[1;32m    141\u001b[0m     \u001b[39m# Validate figure\u001b[39;00m\n\u001b[1;32m    142\u001b[0m     \u001b[39m# ---------------\u001b[39;00m\n\u001b[1;32m    143\u001b[0m     fig_dict \u001b[39m=\u001b[39m validate_coerce_fig_to_dict(fig, validate)\n",
      "\u001b[0;31mValueError\u001b[0m: \nImage export using the \"kaleido\" engine requires the kaleido package,\nwhich can be installed using pip:\n    $ pip install -U kaleido\n"
     ]
    }
   ],
   "source": [
    "fig = px.scatter(x=embs_2d[:,0], y=embs_2d[:,1])\n",
    "\n",
    "fig.update_layout(width=800, height=800)\n",
    "fig.update_traces(marker=dict(size=2))\n",
    "\n",
    "# plotting to show how the embeddings are when just dimensionality reduction is used\n",
    "fig_show_save(fig, \"umap-scatter\")"
   ]
  },
  {
   "cell_type": "code",
   "execution_count": 18,
   "metadata": {},
   "outputs": [
    {
     "name": "stdout",
     "output_type": "stream",
     "text": [
      "\n",
      "    2D\n",
      "    Number of clusters: 50\n",
      "    Number of rows as outliers: 999\n",
      "\n"
     ]
    }
   ],
   "source": [
    "clusters_2d = HDBSCAN(min_cluster_size=10, cluster_selection_method=\"leaf\").fit(embs_2d)\n",
    "\n",
    "print(f\"\"\"\n",
    "    2D\n",
    "    Number of clusters: {len(set(clusters_2d.labels_)) - 1}\n",
    "    Number of rows as outliers: {clusters_2d.labels_.tolist().count(-1)}\n",
    "\"\"\")"
   ]
  },
  {
   "cell_type": "code",
   "execution_count": 19,
   "metadata": {},
   "outputs": [
    {
     "data": {
      "text/html": [
       "<div>\n",
       "<style scoped>\n",
       "    .dataframe tbody tr th:only-of-type {\n",
       "        vertical-align: middle;\n",
       "    }\n",
       "\n",
       "    .dataframe tbody tr th {\n",
       "        vertical-align: top;\n",
       "    }\n",
       "\n",
       "    .dataframe thead th {\n",
       "        text-align: right;\n",
       "    }\n",
       "</style>\n",
       "<table border=\"1\" class=\"dataframe\">\n",
       "  <thead>\n",
       "    <tr style=\"text-align: right;\">\n",
       "      <th></th>\n",
       "      <th>title</th>\n",
       "      <th>title_clean</th>\n",
       "      <th>embs</th>\n",
       "      <th>embs_2d</th>\n",
       "      <th>cluster_id</th>\n",
       "    </tr>\n",
       "  </thead>\n",
       "  <tbody>\n",
       "    <tr>\n",
       "      <th>3637</th>\n",
       "      <td>Americans Try To Explain The Royal Family</td>\n",
       "      <td>americans try to explain the royal family</td>\n",
       "      <td>[-0.009527659, 0.03230976, 0.006297907, 0.019303905, -0.004647805, 0.029635219, -0.042111155, 0.0030862591, 0.014043092, 0.02988292, 0.0027604308, -0.007988418, 0.017133761, -0.060206298, -0.02199...</td>\n",
       "      <td>[6.947312, 4.3327556]</td>\n",
       "      <td>23</td>\n",
       "    </tr>\n",
       "    <tr>\n",
       "      <th>4488</th>\n",
       "      <td>Testing Nail Products from Wish Nails Remove Toes Hollow Nail Polish Peel-off Nails Wish Buy Now</td>\n",
       "      <td>testing nail products from wish nails remove toes hollow nail polish peeloff nails wish buy now</td>\n",
       "      <td>[0.032359283, 0.0020081406, -0.037049524, 0.010657191, -0.04816739, 0.013827549, 0.05480524, 0.072066315, 0.06314754, 0.012768811, 0.009375898, 0.0018209312, 0.014223949, 0.04230842, 0.0010414064,...</td>\n",
       "      <td>[5.6373625, 0.77200705]</td>\n",
       "      <td>-1</td>\n",
       "    </tr>\n",
       "    <tr>\n",
       "      <th>36325</th>\n",
       "      <td>NERF Hide Your Weapon Challenge!</td>\n",
       "      <td>nerf hide your weapon challenge</td>\n",
       "      <td>[0.008093136, 0.029868003, -0.007413508, 0.05254078, -0.046362087, -0.0072559356, 0.063857436, 0.032383356, -0.034648493, 0.00055324804, 0.00017251789, 0.031673957, -0.026213238, 0.0054176454, -0....</td>\n",
       "      <td>[4.376295, 5.010812]</td>\n",
       "      <td>-1</td>\n",
       "    </tr>\n",
       "  </tbody>\n",
       "</table>\n",
       "</div>"
      ],
      "text/plain": [
       "                                                                                                  title  \\\n",
       "3637                                                          Americans Try To Explain The Royal Family   \n",
       "4488   Testing Nail Products from Wish Nails Remove Toes Hollow Nail Polish Peel-off Nails Wish Buy Now   \n",
       "36325                                                                  NERF Hide Your Weapon Challenge!   \n",
       "\n",
       "                                                                                           title_clean  \\\n",
       "3637                                                         americans try to explain the royal family   \n",
       "4488   testing nail products from wish nails remove toes hollow nail polish peeloff nails wish buy now   \n",
       "36325                                                                  nerf hide your weapon challenge   \n",
       "\n",
       "                                                                                                                                                                                                          embs  \\\n",
       "3637   [-0.009527659, 0.03230976, 0.006297907, 0.019303905, -0.004647805, 0.029635219, -0.042111155, 0.0030862591, 0.014043092, 0.02988292, 0.0027604308, -0.007988418, 0.017133761, -0.060206298, -0.02199...   \n",
       "4488   [0.032359283, 0.0020081406, -0.037049524, 0.010657191, -0.04816739, 0.013827549, 0.05480524, 0.072066315, 0.06314754, 0.012768811, 0.009375898, 0.0018209312, 0.014223949, 0.04230842, 0.0010414064,...   \n",
       "36325  [0.008093136, 0.029868003, -0.007413508, 0.05254078, -0.046362087, -0.0072559356, 0.063857436, 0.032383356, -0.034648493, 0.00055324804, 0.00017251789, 0.031673957, -0.026213238, 0.0054176454, -0....   \n",
       "\n",
       "                       embs_2d  cluster_id  \n",
       "3637     [6.947312, 4.3327556]          23  \n",
       "4488   [5.6373625, 0.77200705]          -1  \n",
       "36325     [4.376295, 5.010812]          -1  "
      ]
     },
     "execution_count": 19,
     "metadata": {},
     "output_type": "execute_result"
    }
   ],
   "source": [
    "df[\"cluster_id\"] = clusters_2d.labels_\n",
    "\n",
    "df.head(3)"
   ]
  },
  {
   "cell_type": "markdown",
   "metadata": {},
   "source": [
    "# TODO\n",
    "- plot\n",
    "- high dimensionality clustring\n",
    "- sette på titler på plot\n",
    "- vise cluster rangert\n",
    "- kanskje se på value counts ord i cluster"
   ]
  },
  {
   "cell_type": "code",
   "execution_count": null,
   "metadata": {},
   "outputs": [
    {
     "data": {
      "application/vnd.plotly.v1+json": {
       "config": {
        "plotlyServerURL": "https://plot.ly"
       },
       "data": [
        {
         "customdata": [
          [
           "the greatest best man speech from 10 year old son",
           "lot 75th globes annual theres",
           39
          ],
          [
           "the green makeup challenge  nikkietutorials",
           "makeup challenge new nikkietutorials green",
           23
          ],
          [
           "jhené aiko  sativa ft rae sremmurd",
           "ft audio song blossom girl",
           34
          ],
          [
           "lester holt reports from north korea on rogue nations olympic ambitions  sunday today",
           "types gym people north yoga",
           28
          ],
          [
           "using other peoples showers",
           "house bitcoin living antarctica earth",
           20
          ],
          [
           "the talk  nicole eggert recounts abuse timeline by scott baio shares costars new claims filed",
           "kimmel jimmy strangers katie gets",
           37
          ],
          [
           "moving on from beme",
           "ranking friendship love 2017 getting",
           16
          ],
          [
           "marcin szatanik  fiat 126p  quick off  true rally fans  darvit walimska wiosna 2018  grb",
           "slow mo guys 12500fps world",
           18
          ],
          [
           "how i got rich on bitcoin  cryptocurrency for beginners",
           "house bitcoin living antarctica earth",
           20
          ],
          [
           "6 cheese gadgets put to the test",
           "test cooking gadgets bon appétit",
           6
          ],
          [
           "dua lipa  idgaf official music video",
           "video lyric ft official rexha",
           35
          ],
          [
           "history of tv theme songs with will smith",
           "carpool karaoke song christmas 2018",
           41
          ],
          [
           "3 date night with julianna clearly worth it",
           "mv twice hannah favourites 2018",
           8
          ],
          [
           "mowgli  official 1st trailer",
           "official trailer incredibles ralph mowgli",
           13
          ],
          [
           "the outsider  official trailer hd  netflix",
           "hd official trailer venom 20th",
           14
          ],
          [
           "1980 toyota corolla liftback commercial",
           "shorts cyanide happiness blind colour",
           7
          ],
          [
           "my instagram followers pick my full face of makeup",
           "makeup challenge new nikkietutorials green",
           23
          ],
          [
           "james bay  us",
           "museum kids james target patience",
           15
          ],
          [
           "bleachers  alfies song not so typical love song audio",
           "ft audio song blossom girl",
           34
          ],
          [
           "bitten by a giant desert centipede",
           "house bitcoin living antarctica earth",
           20
          ],
          [
           "giving my 13 year old niece the emo phase",
           "mv twice hannah favourites 2018",
           8
          ],
          [
           "jason derulo  tip toe feat french montana official lyric video",
           "video lyric ft official rexha",
           35
          ],
          [
           "samsung galaxy s9 impressions",
           "iphone s9 galaxy samsung official",
           4
          ],
          [
           "ranking up your friendship",
           "ranking friendship love 2017 getting",
           16
          ],
          [
           "honest trailers  honest trailers written by a robot",
           "honest trailers 2018 christopher nolan",
           11
          ],
          [
           "getting bullied advice",
           "ranking friendship love 2017 getting",
           16
          ],
          [
           "troye sivan  bloom",
           "camila cabello taylor swift audio",
           40
          ],
          [
           "i got 99 problems but being a girl aint one diy girls hacks and more by blossom",
           "ft audio song blossom girl",
           34
          ],
          [
           "broadways frozen cast performs for the first time in forever",
           "challenge sing christmas concert friends",
           36
          ],
          [
           "honest trailers  mother",
           "honest trailers 2018 christopher nolan",
           11
          ],
          [
           "film theory jurassic world was an inside job jurassic world",
           "movie went star wars film",
           12
          ],
          [
           "breaking in trailer 1 2018  movieclips trailers",
           "honest trailers 2018 christopher nolan",
           11
          ],
          [
           "the perfect imac pro setup",
           "setup google 30000 gaming ultimate",
           17
          ],
          [
           "wont you be my neighbor  official trailer hd  in select theaters june 8",
           "hd official trailer venom 20th",
           14
          ],
          [
           "pacific rim uprising  official trailer 2 hd",
           "hd official trailer venom 20th",
           14
          ],
          [
           "shawn mendes  in my blood",
           "challenge sing christmas concert friends",
           36
          ],
          [
           "this season on the bachelorette",
           "season bachelorette heart kris jonathan",
           31
          ],
          [
           "aubrey plaza and dan stevens hijack a strangers tinder  vanity fair",
           "kimmel jimmy strangers katie gets",
           37
          ],
          [
           "100 layers of deep fried pizza challenge",
           "test cooking gadgets bon appétit",
           6
          ],
          [
           "catching a shark by hand",
           "built diving scuba pond fishing",
           25
          ],
          [
           "super smash bros switch whos hiding in the flames realtime character analysis",
           "fortnite royale ninja clash perfect",
           9
          ],
          [
           "ranking up your friendship",
           "ranking friendship love 2017 getting",
           16
          ],
          [
           "brad makes honey  its alive  bon appétit",
           "test cooking gadgets bon appétit",
           6
          ],
          [
           "bonus scenes la rams push kevin to the limit  kevin hart what the fit  laugh out loud network",
           "hader reveals break snl kevin",
           38
          ],
          [
           "linmanuel miranda and macey hensley face off in historical trivia",
           "movie went star wars film",
           12
          ],
          [
           "rise  super bowl commercial",
           "shorts cyanide happiness blind colour",
           7
          ],
          [
           "log cabin timelapse built by one man in the forest real life minecraft",
           "house bitcoin living antarctica earth",
           20
          ],
          [
           "james veitchs elaborate wrong number prank   conan on tbs",
           "hader reveals break snl kevin",
           38
          ],
          [
           "i tried to recreate my favorite artists work with makeup  alex pardee inspired bodypaint tutorial",
           "makeup tutorial tried following everyday",
           24
          ],
          [
           "stephen a has an announcement 76ers are going to eastern conference finals  first take  espn",
           "nba game vs espn starters",
           3
          ],
          [
           "vlog 8 l weekend night routine l olivia jade",
           "mv twice hannah favourites 2018",
           8
          ],
          [
           "the most underrated disney movie ever",
           "movie went star wars film",
           12
          ],
          [
           "bts on their favorite body parts  their fanorganized purple ribbon army  access",
           "types gym people north yoga",
           28
          ],
          [
           "kanye west  charlamagne interview",
           "kimmel jimmy strangers katie gets",
           37
          ],
          [
           "devin booker has words with lakers assistant jesse mermuys",
           "nba game vs espn starters",
           3
          ],
          [
           "bts plays with puppies while answering fan questions",
           "cat like dog caught laser",
           26
          ],
          [
           "marvel studios antman and the wasp  official trailer",
           "official trailer incredibles ralph mowgli",
           13
          ],
          [
           "film theory we found neverland disney peter pan",
           "movie went star wars film",
           12
          ],
          [
           "john cena on his split from nikki bella i had my heart broken out of nowhere  today",
           "season bachelorette heart kris jonathan",
           31
          ],
          [
           "delit de fuite  le justicier de noël",
           "mv twice hannah favourites 2018",
           8
          ],
          [
           "is the samsung galaxy s9 worth the hype",
           "iphone s9 galaxy samsung official",
           4
          ],
          [
           "i bought the first 5 things insta celebs recommended to me",
           "makeover gave hair jenner kylie",
           29
          ],
          [
           "5 seconds of summer  want you back audio",
           "audio official charlie day goes",
           33
          ],
          [
           "the fcc repeals its net neutrality rules",
           "dead grandpa peace angry rest",
           27
          ],
          [
           "binging with babish cooks bobs burgers for fans",
           "test cooking gadgets bon appétit",
           6
          ],
          [
           "honest trailers  honest trailers written by a robot",
           "honest trailers 2018 christopher nolan",
           11
          ],
          [
           "keith urban  coming home ft julia michaels",
           "carpool karaoke song christmas 2018",
           41
          ],
          [
           "original 2007 iphone unboxing",
           "iphone s9 galaxy samsung official",
           4
          ],
          [
           "twice merry  happy mv",
           "mv twice hannah favourites 2018",
           8
          ],
          [
           "spiderman into the spiderverse  official teaser trailer",
           "official trailer incredibles ralph mowgli",
           13
          ],
          [
           "top 10 plays of the night january 6 2018",
           "plays night 10 2018 january",
           1
          ],
          [
           "growing up  cyanide  happiness shorts",
           "shorts cyanide happiness blind colour",
           7
          ],
          [
           "my everyday 10 minute makeup tutorial  updated",
           "makeup tutorial tried following everyday",
           24
          ],
          [
           "android p first look",
           "iphone s9 galaxy samsung official",
           4
          ],
          [
           "johnny english strikes again  official trailer hd  coming soon",
           "hd official trailer venom 20th",
           14
          ],
          [
           "green light  cyanide  happiness minis",
           "shorts cyanide happiness blind colour",
           7
          ],
          [
           "live pd can i text my mom season 2  ae",
           "ranking friendship love 2017 getting",
           16
          ],
          [
           "which is worse for you sugar or fat",
           "test cooking gadgets bon appétit",
           6
          ],
          [
           "peeing on the seat",
           "day waffles dreaming stop sleep",
           30
          ],
          [
           "the bicycle of springs",
           "falcon heavy bridges divide minutes",
           22
          ],
          [
           "scuba diving the worlds largest urban whitewater course for lost gopros huge item found",
           "built diving scuba pond fishing",
           25
          ],
          [
           "types of people at the gym",
           "types gym people north yoga",
           28
          ],
          [
           "annie leibovitz teaches photography  official trailer",
           "mv twice hannah favourites 2018",
           8
          ],
          [
           "why dying is illegal in longyearbyen norway",
           "ranking friendship love 2017 getting",
           16
          ],
          [
           "inside zachary quintos 32 million nyc loft  open door  architectural digest",
           "house bitcoin living antarctica earth",
           20
          ],
          [
           "star wars the last jedi first reactions and world premiere report  the john campea show",
           "movie went star wars film",
           12
          ],
          [
           "maroon 5  wait",
           "weezer try africa blackout 1975",
           32
          ],
          [
           "see with your ears spielberg and sound design",
           "movie went star wars film",
           12
          ],
          [
           "dinosaur yoga challenge",
           "types gym people north yoga",
           28
          ],
          [
           "devils vs angels two w theodd1sout",
           "fortnite royale ninja clash perfect",
           9
          ],
          [
           "ed sheeran  happier official video",
           "video official lyric music love",
           43
          ],
          [
           "ohio state vs michigan  highlights  fox college football",
           "highlights nfl 2018 vs play",
           2
          ],
          [
           "how zerog planes work",
           "falcon heavy bridges divide minutes",
           22
          ],
          [
           "ready to fly",
           "falcon heavy bridges divide minutes",
           22
          ],
          [
           "lsd  audio ft sia diplo labrinth",
           "audio official charlie day goes",
           33
          ],
          [
           "homemade hydraulic hulkbuster",
           "built diving scuba pond fishing",
           25
          ],
          [
           "disneyland proposal",
           "movie went star wars film",
           12
          ],
          [
           "spinning a record to pieces at 12500fps  the slow mo guys",
           "slow mo guys 12500fps world",
           18
          ],
          [
           "this is what happens when you dont sleep in  will smith vlogs",
           "day waffles dreaming stop sleep",
           30
          ],
          [
           "how to take a screenshot on your iphone or ipad  apple support",
           "iphone s9 galaxy samsung official",
           4
          ],
          [
           "watch live cia nominee gina haspel testifies in senate hearing",
           "lot 75th globes annual theres",
           39
          ],
          [
           "what is bitcoin",
           "house bitcoin living antarctica earth",
           20
          ],
          [
           "why does my cat sleep with me  5 reasons youll love to know",
           "cat like dog caught laser",
           26
          ],
          [
           "apple homepod everything to know before you buy apple byte",
           "setup google 30000 gaming ultimate",
           17
          ],
          [
           "trinitron sonys once unbeatable product",
           "slow mo guys 12500fps world",
           18
          ],
          [
           "will smith tries online dating",
           "kimmel jimmy strangers katie gets",
           37
          ],
          [
           "probably not the first time this happened",
           "nba game vs espn starters",
           3
          ],
          [
           "4 ton wrecking ball in slow motion  the slow mo guys",
           "slow mo guys 12500fps world",
           18
          ],
          [
           "snoop dogg  one more day audio ft charlie wilson",
           "audio official charlie day goes",
           33
          ],
          [
           "halo infinite  e3 2018  announcement trailer",
           "official trailer incredibles ralph mowgli",
           13
          ],
          [
           "why justin bieber was the worst snl guest  wwhl",
           "kimmel jimmy strangers katie gets",
           37
          ],
          [
           "amys baking company submission video  kitchen nightmares",
           "test cooking gadgets bon appétit",
           6
          ],
          [
           "2017 is the best",
           "ranking friendship love 2017 getting",
           16
          ],
          [
           "bangtan bomb mic drop special stage bts focus mama  bts 방탄소년단",
           "scientists space bts entire launching",
           10
          ],
          [
           "beekeeping with cody s2e1 coming out of winter",
           "scientists space bts entire launching",
           10
          ],
          [
           "lauv  bracelet official audio",
           "audio official charlie day goes",
           33
          ],
          [
           "jason aldean  you make it easy lyric video",
           "video official lyric music love",
           43
          ],
          [
           "game theory will the fortnite meteor destroy everything fortnite battle royale",
           "fortnite royale ninja clash perfect",
           9
          ],
          [
           "asmr scratching different objects ",
           "iphone s9 galaxy samsung official",
           4
          ],
          [
           "scientists have detected the first stars  space time",
           "scientists space bts entire launching",
           10
          ],
          [
           "my 30 before 30 list  lucy moon",
           "mv twice hannah favourites 2018",
           8
          ],
          [
           "lady gaga  your song audio",
           "ft audio song blossom girl",
           34
          ],
          [
           "taking a colour blind test with colour blind glasses",
           "shorts cyanide happiness blind colour",
           7
          ],
          [
           "court hearing held for nikolas cruz",
           "lot 75th globes annual theres",
           39
          ],
          [
           "jimmy kimmel on his reaction to fergies national anthem",
           "kimmel jimmy strangers katie gets",
           37
          ],
          [
           "mayweather checks dana white for using name to renew fox deal ends ufc rumors once and for all",
           "dead grandpa peace angry rest",
           27
          ],
          [
           "the logistics of living in antarctica",
           "house bitcoin living antarctica earth",
           20
          ],
          [
           "kris jenner  introducing my kris jenner collection",
           "mv twice hannah favourites 2018",
           8
          ],
          [
           "macklemore feat dave b  travis thompson  corner store official music video",
           "official video minogue kylie demi",
           42
          ],
          [
           "just like you left it",
           "day waffles dreaming stop sleep",
           30
          ],
          [
           "simple makeup grwm x qa",
           "makeup challenge new nikkietutorials green",
           23
          ],
          [
           "two love stories",
           "ranking friendship love 2017 getting",
           16
          ],
          [
           "how does your immune system work  emma bryce",
           "day waffles dreaming stop sleep",
           30
          ],
          [
           "overprotective dog parent 2",
           "cat like dog caught laser",
           26
          ],
          [
           "rosé facial in new york city",
           "makeup challenge new nikkietutorials green",
           23
          ],
          [
           "watch norman reedus come face to face with his walking dead double",
           "dead grandpa peace angry rest",
           27
          ],
          [
           "adriana limas victorias secret sleepover  vogue",
           "mv twice hannah favourites 2018",
           8
          ],
          [
           "dont open the wrong mystery door",
           "museum kids james target patience",
           15
          ],
          [
           "buying people presents that are really for yourself",
           "ranking friendship love 2017 getting",
           16
          ],
          [
           "try not to laugh challenge  knock knock dad jokes edition",
           "museum kids james target patience",
           15
          ],
          [
           "10000 calorie baconator challenge 11 burgers",
           "test cooking gadgets bon appétit",
           6
          ],
          [
           "arie luyendyk  lauren burnham the morning after the bachelor finale",
           "season bachelorette heart kris jonathan",
           31
          ],
          [
           "razer phone durability test  scratch burn and bend tested",
           "iphone s9 galaxy samsung official",
           4
          ],
          [
           "turbotax 2018 big game commercial the thing under the bed official 30 tv ad",
           "shorts cyanide happiness blind colour",
           7
          ],
          [
           "developer update  happy year of the dog  overwatch",
           "fortnite royale ninja clash perfect",
           9
          ],
          [
           "sugarland  babe static video ft taylor swift",
           "official video minogue kylie demi",
           42
          ],
          [
           "i went to pixar animation studios the incredibles 2",
           "movie went star wars film",
           12
          ],
          [
           "spoiler 2nd eliminated queen rupauls all stars 3 behind the scenes",
           "season bachelorette heart kris jonathan",
           31
          ],
          [
           "i tried following a safiya nygaard makeup tutorial",
           "makeup tutorial tried following everyday",
           24
          ],
          [
           "kylie minogue  dancing official video",
           "official video minogue kylie demi",
           42
          ],
          [
           "how do we stop asteroids from destroying us  life noggin on stage",
           "scientists space bts entire launching",
           10
          ],
          [
           "panic at the disco high hopes audio",
           "audio official charlie day goes",
           33
          ],
          [
           "blackberry motion teardown  do not trust around water",
           "iphone s9 galaxy samsung official",
           4
          ],
          [
           "samsung galaxy s9 and s9 official introduction",
           "iphone s9 galaxy samsung official",
           4
          ],
          [
           "charlie puth  done for me feat kehlani official audio",
           "audio official charlie day goes",
           33
          ],
          [
           "launching an entire fireworks display at once",
           "scientists space bts entire launching",
           10
          ],
          [
           "we tried to make tastys giant macaron versus",
           "gourmet make chocolate appétit bon",
           5
          ],
          [
           "march madness stereotypes",
           "nba game vs espn starters",
           3
          ],
          [
           "real madrid vs liverpool  201718 uefa champions league final highlights",
           "highlights vs 201718 league uefa",
           0
          ],
          [
           "crosswalk the musical on broadway w hugh jackman zendaya  zac efron",
           "challenge sing christmas concert friends",
           36
          ],
          [
           "google clips review",
           "honest trailers 2018 christopher nolan",
           11
          ],
          [
           "the greatest showman  official trailer 2 hd  20th century fox",
           "hd official trailer venom 20th",
           14
          ],
          [
           "insane spacex falcon heavy side boosters landing simultaneously at kennedy space center",
           "falcon heavy bridges divide minutes",
           22
          ],
          [
           "new makeup launches  whats good  whats not so good",
           "makeup challenge new nikkietutorials green",
           23
          ],
          [
           "how do south koreans feel about joint team with north korea winter olympics 2018   asian boss",
           "types gym people north yoga",
           28
          ],
          [
           "kflay  run for your life from the original motion picture tomb raideraudio",
           "audio official charlie day goes",
           33
          ],
          [
           "the new snapchat in 60 seconds",
           "iphone s9 galaxy samsung official",
           4
          ],
          [
           "i got 99 problems but being a girl aint one diy girls hacks and more by blossom",
           "ft audio song blossom girl",
           34
          ],
          [
           "moby  like a motherless child official video",
           "video lyric ft official rexha",
           35
          ],
          [
           "jimmy kimmel gets a colonoscopy with katie couric",
           "kimmel jimmy strangers katie gets",
           37
          ],
          [
           "what happens in one lifetime",
           "day waffles dreaming stop sleep",
           30
          ],
          [
           "liza koshy  gabbie hanna become mermaids irl  liza tries it  trl",
           "mv twice hannah favourites 2018",
           8
          ],
          [
           "classic glazed donuts",
           "gourmet make chocolate appétit bon",
           5
          ],
          [
           "christmas booty song",
           "carpool karaoke song christmas 2018",
           41
          ],
          [
           "its not you phones are designed to be addicting",
           "iphone s9 galaxy samsung official",
           4
          ],
          [
           "the periodic table song 2018 update",
           "carpool karaoke song christmas 2018",
           41
          ],
          [
           "gin wigmore  cabrona",
           "test cooking gadgets bon appétit",
           6
          ],
          [
           "300000 dominoes falldown  turkish domino record pt 2",
           "built diving scuba pond fishing",
           25
          ],
          [
           "frozen the broadway musicals caissie levy performs let it go",
           "challenge sing christmas concert friends",
           36
          ],
          [
           "giving my 13 year old niece the emo phase",
           "mv twice hannah favourites 2018",
           8
          ],
          [
           "dog owners be like",
           "cat like dog caught laser",
           26
          ],
          [
           "this week i learned to fly fish  far cry 5",
           "built diving scuba pond fishing",
           25
          ],
          [
           "gorillas react to their reflection  gorilla family and me  bbc earth",
           "cat like dog caught laser",
           26
          ],
          [
           "pokémon challenge watch game freaks kazumasa iwao guess the pokémon",
           "fortnite royale ninja clash perfect",
           9
          ],
          [
           "siri picks my makeup",
           "makeup challenge new nikkietutorials green",
           23
          ],
          [
           "psg 12 real madrid  ronaldo  his teammates in the dressing room celebrations",
           "highlights vs 201718 league uefa",
           0
          ],
          [
           "california wildfires prompt state of emergency",
           "volcano hawaii eruption sobering spectacular",
           21
          ],
          [
           "introducing the peloton tread",
           "falcon heavy bridges divide minutes",
           22
          ],
          [
           "samsung galaxy s9 released official trailer",
           "iphone s9 galaxy samsung official",
           4
          ],
          [
           "bohemian rhapsody  teaser trailer hd  20th century fox",
           "hd official trailer venom 20th",
           14
          ],
          [
           "every museum ever",
           "museum kids james target patience",
           15
          ],
          [
           "neck deep  parachute official music video",
           "video official lyric music love",
           43
          ],
          [
           "maroon 5  three little birds",
           "ft audio song blossom girl",
           34
          ],
          [
           "ellie kemper and mindy kaling reminisce about the office",
           "kimmel jimmy strangers katie gets",
           37
          ],
          [
           "daniel bryan teams jimmy uso and naomi in wwe mixed match challenge",
           "dead grandpa peace angry rest",
           27
          ],
          [
           "surprising my biggest fans at their house",
           "ranking friendship love 2017 getting",
           16
          ],
          [
           "shocking science with a leyden jar",
           "built diving scuba pond fishing",
           25
          ],
          [
           "top 10 insanely racist moments in disney movies that you totally forgot about",
           "movie went star wars film",
           12
          ],
          [
           "how to pick up a cat like a pro  vet advice on cat handling",
           "cat like dog caught laser",
           26
          ],
          [
           "spoilers carls farewell to the walking dead family",
           "dead grandpa peace angry rest",
           27
          ],
          [
           "khalid  normani  love lies official video",
           "video official lyric music love",
           43
          ],
          [
           "alita battle angel  official trailer hd  20th century fox",
           "hd official trailer venom 20th",
           14
          ],
          [
           "selling my iphone x to a machine at walmart",
           "iphone s9 galaxy samsung official",
           4
          ],
          [
           "hd version kelly clarkson  pnk everybody hurts live at the 2017 american music awards",
           "camila cabello taylor swift audio",
           40
          ],
          [
           "double lesbian pictionary proposal",
           "ranking friendship love 2017 getting",
           16
          ],
          [
           "weezer  africa",
           "weezer try africa blackout 1975",
           32
          ],
          [
           "venom  official trailer hd",
           "hd official trailer venom 20th",
           14
          ],
          [
           "bill hader reveals what made him break on snl",
           "hader reveals break snl kevin",
           38
          ],
          [
           "dark skin people get their ideal photographs",
           "makeup challenge new nikkietutorials green",
           23
          ],
          [
           "kylie minogue  dancing official video",
           "official video minogue kylie demi",
           42
          ],
          [
           "why is jerusalem a controversial capital",
           "movie went star wars film",
           12
          ],
          [
           "cathys awksome adventure ft domics",
           "types gym people north yoga",
           28
          ],
          [
           "first interstellar asteroid wows scientists",
           "scientists space bts entire launching",
           10
          ],
          [
           "poo bear ft justin bieber  jay electronica  hard 2 face reality lyric video",
           "video lyric ft official rexha",
           35
          ],
          [
           "pepsi generations this is the pepsi  pepsi  extended",
           "shorts cyanide happiness blind colour",
           7
          ],
          [
           "ninja on how drake made gaming cool",
           "fortnite royale ninja clash perfect",
           9
          ],
          [
           "fenty beauty mattemoiselle lipstick swatches  alissa ashley",
           "makeup challenge new nikkietutorials green",
           23
          ],
          [
           "troye sivan  bloom lyric video",
           "video official lyric music love",
           43
          ],
          [
           "sufjan stevens  tonya harding official audio",
           "ft audio song blossom girl",
           34
          ],
          [
           "i tried following a kylie jenner makeup tutorial realizing things",
           "makeup tutorial tried following everyday",
           24
          ],
          [
           "5 tips on cooking for one",
           "test cooking gadgets bon appétit",
           6
          ],
          [
           "puppy bowl in real life way too many puppies",
           "cat like dog caught laser",
           26
          ],
          [
           "snoop dogg  one more day feat charlie wilson ft charlie wilson",
           "audio official charlie day goes",
           33
          ],
          [
           "trying fun pumpkin spice flavored food",
           "test cooking gadgets bon appétit",
           6
          ],
          [
           "padma lakshmi on a topchefs cancer diagnosis  wwhl",
           "kimmel jimmy strangers katie gets",
           37
          ],
          [
           "incredibles 2 official trailer",
           "official trailer incredibles ralph mowgli",
           13
          ],
          [
           "youre not edgy youre just lazy",
           "day waffles dreaming stop sleep",
           30
          ],
          [
           "scientists have detected the first stars  space time",
           "scientists space bts entire launching",
           10
          ],
          [
           "macaroni  a recipe from 1784",
           "gourmet make chocolate appétit bon",
           5
          ],
          [
           "taking a colour blind test with colour blind glasses",
           "shorts cyanide happiness blind colour",
           7
          ],
          [
           "sorry to bother you  official trailer",
           "official trailer incredibles ralph mowgli",
           13
          ],
          [
           "charli xcx  backseat feat carly rae jepsen official audio",
           "audio official charlie day goes",
           33
          ],
          [
           "oscars fashion review 2018  grace helbig",
           "mv twice hannah favourites 2018",
           8
          ],
          [
           "energy balls  you suck at cooking episode 72",
           "test cooking gadgets bon appétit",
           6
          ],
          [
           "rescuing an emaciated kitten",
           "cat like dog caught laser",
           26
          ],
          [
           "how to add and send attachments in mail on your iphone or ipad  apple support",
           "iphone s9 galaxy samsung official",
           4
          ],
          [
           "your godawful resolutions plus announcement yiay 390",
           "setup google 30000 gaming ultimate",
           17
          ],
          [
           "tesla semi truck and roadster event in 9 minutes",
           "slow mo guys 12500fps world",
           18
          ],
          [
           "patience",
           "museum kids james target patience",
           15
          ],
          [
           "kid orders bong package arrives and his mom wants to see him open it",
           "museum kids james target patience",
           15
          ],
          [
           "what is pregnancy doing to my body",
           "pregnancy body doing growing like",
           19
          ],
          [
           "my friend sent me this video of a bison in his car with no context",
           "house bitcoin living antarctica earth",
           20
          ],
          [
           "jim boeheim vs uconn postgame",
           "nba game vs espn starters",
           3
          ],
          [
           "the best wiper blades in the world and why",
           "slow mo guys 12500fps world",
           18
          ],
          [
           "8 kitchen gadgets put to the test  part 23",
           "test cooking gadgets bon appétit",
           6
          ],
          [
           "got7 look mv",
           "mv twice hannah favourites 2018",
           8
          ],
          [
           "first look at fast and furious live rehearsals and stunts",
           "slow mo guys 12500fps world",
           18
          ],
          [
           "twice heart shaker mv",
           "mv twice hannah favourites 2018",
           8
          ],
          [
           "the continental divide trail in four minutes",
           "falcon heavy bridges divide minutes",
           22
          ],
          [
           "everything wrong with bee movie in 15 minutes or less",
           "movie went star wars film",
           12
          ],
          [
           "hotel artemis  official trailer hd  global road entertainment",
           "hd official trailer venom 20th",
           14
          ],
          [
           "hoda kotb joins savannah guthrie as coanchor of today  today",
           "kimmel jimmy strangers katie gets",
           37
          ],
          [
           "do indians know how their english accent sounds  asian boss",
           "dead grandpa peace angry rest",
           27
          ],
          [
           "kevin hart lives his truth and opens up about being irresponsible and more",
           "hader reveals break snl kevin",
           38
          ],
          [
           "shawn mendes  youth lyric video ft khalid",
           "video lyric ft official rexha",
           35
          ],
          [
           "im pregnant  12 week pregnancy update",
           "pregnancy body doing growing like",
           19
          ],
          [
           "i gave safiya nygaard a perfect hair makeover based on her features bts bradmondo",
           "makeover gave hair jenner kylie",
           29
          ],
          [
           "film theory phineas and ferbs secret hero",
           "movie went star wars film",
           12
          ],
          [
           "twice merry  happy mv",
           "mv twice hannah favourites 2018",
           8
          ],
          [
           "ed sheeran  supermarket flowers live from the brits 2018",
           "carpool karaoke song christmas 2018",
           41
          ],
          [
           "we tried diying expensive west elm decor",
           "makeover gave hair jenner kylie",
           29
          ],
          [
           "the deadliest being on planet earth  the bacteriophage",
           "house bitcoin living antarctica earth",
           20
          ],
          [
           "kazakhstan 24hour army ration taste test  kazakh mre",
           "test cooking gadgets bon appétit",
           6
          ],
          [
           "jennifer lawrence takes a lie detector test  vanity fair",
           "mv twice hannah favourites 2018",
           8
          ],
          [
           "ellie kemper and mindy kaling reminisce about the office",
           "kimmel jimmy strangers katie gets",
           37
          ],
          [
           "mowgli  official 1st trailer",
           "official trailer incredibles ralph mowgli",
           13
          ],
          [
           "hudson moore  summertime queen official audio",
           "audio official charlie day goes",
           33
          ],
          [
           "kygo  stranger things ft onerepublic alan walker remix",
           "ft audio song blossom girl",
           34
          ],
          [
           "red sparrow  official trailer hd  20th century fox",
           "hd official trailer venom 20th",
           14
          ],
          [
           "every target ever",
           "museum kids james target patience",
           15
          ],
          [
           "hawaiis kilauea volcano eruption forces evacuations",
           "volcano hawaii eruption sobering spectacular",
           21
          ],
          [
           "whats new at sephora  hot or not",
           "makeup challenge new nikkietutorials green",
           23
          ],
          [
           "honest trailers  every christopher nolan movie",
           "honest trailers 2018 christopher nolan",
           11
          ],
          [
           "dog owners be like",
           "cat like dog caught laser",
           26
          ],
          [
           "carrie underwood  cry pretty official music video",
           "official video minogue kylie demi",
           42
          ],
          [
           "new nyx mochi putty makeup collection  hit or miss",
           "makeup challenge new nikkietutorials green",
           23
          ],
          [
           "not everyone should code",
           "day waffles dreaming stop sleep",
           30
          ],
          [
           "hunter hayes  this girl part three of pictures",
           "camila cabello taylor swift audio",
           40
          ],
          [
           "marshmello  blocks official music video",
           "video official lyric music love",
           43
          ],
          [
           "leona lewis  dinah jane  christmas medley",
           "carpool karaoke song christmas 2018",
           41
          ],
          [
           "the 75th annual golden globes  theres a lot to talk about promo",
           "lot 75th globes annual theres",
           39
          ],
          [
           "door to space  29 rooms vlog",
           "house bitcoin living antarctica earth",
           20
          ],
          [
           "the 75th annual golden globes  theres a lot to talk about promo",
           "lot 75th globes annual theres",
           39
          ],
          [
           "rainbow paint on a speaker  12500fps  the slow mo guys",
           "slow mo guys 12500fps world",
           18
          ],
          [
           "watch al democratic senate candidate doug jones speaks on election night",
           "lot 75th globes annual theres",
           39
          ],
          [
           "roma vs liverpool  201718 uefa champions league highlights",
           "highlights vs 201718 league uefa",
           0
          ],
          [
           "i gave myself a kylie jenner makeover ",
           "makeover gave hair jenner kylie",
           29
          ],
          [
           "wizards of waverly place the movie  disneycember",
           "movie went star wars film",
           12
          ],
          [
           "founding an inbreedingfree space colony",
           "day waffles dreaming stop sleep",
           30
          ],
          [
           "fishing on sketchy ice ",
           "built diving scuba pond fishing",
           25
          ],
          [
           "floyd mayweather grades his mma skills im serious about this  tmz sports",
           "dead grandpa peace angry rest",
           27
          ],
          [
           "the fiorentina game comes to a halt in the 13th minute as they pay tribute to davide astori",
           "highlights vs 201718 league uefa",
           0
          ],
          [
           "disgraced former archbishop of boston cardinal bernard law has died in rome at 86",
           "dead grandpa peace angry rest",
           27
          ],
          [
           "billy eichner talks glam up the midterms",
           "lot 75th globes annual theres",
           39
          ],
          [
           "west hams josh cullen loses tooth after kick to the face plays on  201718 fa cup highlights",
           "highlights vs 201718 league uefa",
           0
          ],
          [
           "70s ads after eight chocolate mints",
           "shorts cyanide happiness blind colour",
           7
          ],
          [
           "sicario 2 soldado  official teaser trailer hd",
           "hd official trailer venom 20th",
           14
          ],
          [
           "chloe x halle  warrior from a wrinkle in time official music video",
           "official video minogue kylie demi",
           42
          ],
          [
           "ralph breaks the internet wreckit ralph 2 official trailer",
           "official trailer incredibles ralph mowgli",
           13
          ],
          [
           "ask the riverdale cast  are you and lili reinhart dating",
           "season bachelorette heart kris jonathan",
           31
          ],
          [
           "how to heat an off grid log cabin with wood thermal imaging scan infrared",
           "house bitcoin living antarctica earth",
           20
          ],
          [
           "introducing the players  super smash bros invitational 2018",
           "fortnite royale ninja clash perfect",
           9
          ],
          [
           "officials warn largest hawaii volcano eruption is imminent  nbc nightly news",
           "volcano hawaii eruption sobering spectacular",
           21
          ],
          [
           "mean tweets  music edition 4",
           "audio official charlie day goes",
           33
          ],
          [
           "wizards give bad directions",
           "museum kids james target patience",
           15
          ],
          [
           "ufo spotted by us fighter jet pilots new footage reveals  bbc news",
           "falcon heavy bridges divide minutes",
           22
          ],
          [
           "i went to pixar animation studios the incredibles 2",
           "movie went star wars film",
           12
          ],
          [
           "video сhat the cat is looking for daddy",
           "cat like dog caught laser",
           26
          ],
          [
           "my asthmatic kitty cat getting his meds",
           "cat like dog caught laser",
           26
          ],
          [
           "fortnite  real life battle royale",
           "fortnite royale ninja clash perfect",
           9
          ],
          [
           "bohemian rhapsody  teaser trailer hd  20th century fox",
           "hd official trailer venom 20th",
           14
          ],
          [
           "amy schumer shares her experience with grayarea rape  supersoul conversations  own",
           "hader reveals break snl kevin",
           38
          ],
          [
           "primitive technology round hut",
           "house bitcoin living antarctica earth",
           20
          ],
          [
           "a womans big decision on her childs last name  part 1",
           "pregnancy body doing growing like",
           19
          ],
          [
           "nutella lava cookies  gemmas bigger bolder baking",
           "gourmet make chocolate appétit bon",
           5
          ],
          [
           "how star wars was saved in the edit",
           "movie went star wars film",
           12
          ],
          [
           "new fenty beauty body lava  fairy bomb  hit or miss",
           "makeup challenge new nikkietutorials green",
           23
          ],
          [
           "nba daily show dec 8  the starters",
           "nba game vs espn starters",
           3
          ],
          [
           "sidemen fc vs youtube allstars 2018 goals  highlights",
           "highlights vs 201718 league uefa",
           0
          ],
          [
           "the tree true story  simons cat  black  white",
           "cat like dog caught laser",
           26
          ],
          [
           "bachelor finale worst breakup ever  the view",
           "season bachelorette heart kris jonathan",
           31
          ],
          [
           "bon jovi  when we were us",
           "weezer try africa blackout 1975",
           32
          ],
          [
           "annalynne mccord",
           "mv twice hannah favourites 2018",
           8
          ],
          [
           "star wars the last jedi cast play would you rather  mtv movies",
           "movie went star wars film",
           12
          ],
          [
           "mo salah bursts through wall to surprise kids  kop kids prank",
           "museum kids james target patience",
           15
          ],
          [
           "new too faced unicorn makeup collection  hit or miss",
           "makeup challenge new nikkietutorials green",
           23
          ],
          [
           "i gave safiya nygaard a perfect hair makeover based on her features bts bradmondo",
           "makeover gave hair jenner kylie",
           29
          ],
          [
           "speechless thoughts with charles barkley  closed captioned",
           "nba game vs espn starters",
           3
          ],
          [
           "distraught father of 3 victims tries to physically attack larry nassar in courtroom",
           "lot 75th globes annual theres",
           39
          ],
          [
           "florida er nurse goes on epic rant about flu season",
           "ranking friendship love 2017 getting",
           16
          ],
          [
           "1982 toyota corolla ad",
           "shorts cyanide happiness blind colour",
           7
          ],
          [
           "spectacular and sobering view of hawaii volcano from above",
           "volcano hawaii eruption sobering spectacular",
           21
          ],
          [
           "j cole  kevins heart",
           "season bachelorette heart kris jonathan",
           31
          ],
          [
           "sailor moon makeup tutorial",
           "makeup tutorial tried following everyday",
           24
          ],
          [
           "firefighters make progress in california fires",
           "volcano hawaii eruption sobering spectacular",
           21
          ],
          [
           "watch the house floor live",
           "house bitcoin living antarctica earth",
           20
          ],
          [
           "stray kids district 9 mv",
           "types gym people north yoga",
           28
          ],
          [
           "poo bear ft justin bieber  jay electronica  hard 2 face reality lyric video",
           "video lyric ft official rexha",
           35
          ],
          [
           "fortnite with ninja  dude perfect",
           "fortnite royale ninja clash perfect",
           9
          ],
          [
           "your amazing molecular machines",
           "built diving scuba pond fishing",
           25
          ],
          [
           "anderson cooper and andy cohen met on a failed blind date",
           "kimmel jimmy strangers katie gets",
           37
          ],
          [
           "snoop dogg  one more day audio ft charlie wilson",
           "audio official charlie day goes",
           33
          ],
          [
           "matt hardy vows to delete bray wyatt raw dec 4 2017",
           "dead grandpa peace angry rest",
           27
          ],
          [
           "chit chat grwm resolutions pregnancy pressures  desi perkins",
           "pregnancy body doing growing like",
           19
          ],
          [
           "inside a 22mm digital panel indicatorvoltmeter",
           "house bitcoin living antarctica earth",
           20
          ],
          [
           "clean bandit  solo feat demi lovato official video",
           "official video minogue kylie demi",
           42
          ],
          [
           "the 1000 smartphone giveaway",
           "iphone s9 galaxy samsung official",
           4
          ],
          [
           "my living room tour  home tour series",
           "house bitcoin living antarctica earth",
           20
          ],
          [
           "judge roy moore campaign statement",
           "lot 75th globes annual theres",
           39
          ],
          [
           "senate reaches deal on spending bill",
           "dead grandpa peace angry rest",
           27
          ],
          [
           "top 10 plays of the night january 27 2018",
           "plays night 10 2018 january",
           1
          ],
          [
           "creating the pandora conservation initiative utility suit",
           "makeup challenge new nikkietutorials green",
           23
          ],
          [
           "3000000 camera",
           "setup google 30000 gaming ultimate",
           17
          ],
          [
           "star wars  war pigs",
           "movie went star wars film",
           12
          ],
          [
           "breaking bads bryan cranston on meeting charles manson",
           "hader reveals break snl kevin",
           38
          ],
          [
           "lighttheworld christmas concert with the piano guys and friends",
           "challenge sing christmas concert friends",
           36
          ],
          [
           "do surgical masks really protect you from the flu",
           "makeup challenge new nikkietutorials green",
           23
          ],
          [
           "when its 5 am at an irish wedding  ho ro the rattlin bog",
           "day waffles dreaming stop sleep",
           30
          ],
          [
           "official ram trucks super bowl commercial  dr martin luther king jr  built to serve",
           "shorts cyanide happiness blind colour",
           7
          ],
          [
           "get ready with me  chit chat with winnie harlow",
           "mv twice hannah favourites 2018",
           8
          ],
          [
           "man creates snow plow out of tv box lawn mower",
           "built diving scuba pond fishing",
           25
          ],
          [
           "ˏˋ girl friday  julia ling kelleher ˎˊ",
           "mv twice hannah favourites 2018",
           8
          ],
          [
           "lets talk about colin kaepernick  chart party",
           "plays night 10 2018 january",
           1
          ],
          [
           "what its like to be a line cook at a toprated nyc restaurant  bon appétit",
           "test cooking gadgets bon appétit",
           6
          ],
          [
           "the ultimate 30000 gaming pc setup",
           "setup google 30000 gaming ultimate",
           17
          ],
          [
           "allison janney demonstrates meryl streeps secret kissing technique  the graham norton show",
           "kimmel jimmy strangers katie gets",
           37
          ],
          [
           "february favourites 2018  zoella",
           "mv twice hannah favourites 2018",
           8
          ],
          [
           "5 signs you work with cats",
           "cat like dog caught laser",
           26
          ],
          [
           "why you should wake up at 430 am every day according to a navy seal",
           "day waffles dreaming stop sleep",
           30
          ],
          [
           "how likely are you to die during a black friday sale",
           "iphone s9 galaxy samsung official",
           4
          ],
          [
           "how formation flying works feat the red arrows",
           "falcon heavy bridges divide minutes",
           22
          ],
          [
           "love at first sight",
           "ranking friendship love 2017 getting",
           16
          ],
          [
           "nickelback  the betrayal act iii official video",
           "video official lyric music love",
           43
          ],
          [
           "spectacular and sobering view of hawaii volcano from above",
           "volcano hawaii eruption sobering spectacular",
           21
          ],
          [
           "inside the nba chuck and shaq laugh uncontrollably over rocketsclippers fight",
           "nba game vs espn starters",
           3
          ],
          [
           "current go to makeup routine  no foundation",
           "makeup tutorial tried following everyday",
           24
          ],
          [
           "the yoga challenge w liza koshy  joey graceffa",
           "types gym people north yoga",
           28
          ],
          [
           "how to pick up a cat like a pro  vet advice on cat handling",
           "cat like dog caught laser",
           26
          ],
          [
           "toy story land to open at walt disney world resort june 30",
           "movie went star wars film",
           12
          ],
          [
           "the ultimate 30000 gaming pc setup",
           "setup google 30000 gaming ultimate",
           17
          ],
          [
           "affordable makeup tutorial using drugstore brushes",
           "makeup tutorial tried following everyday",
           24
          ],
          [
           "6 cheese gadgets put to the test",
           "test cooking gadgets bon appétit",
           6
          ],
          [
           "justin verlander and kate upton missed their wedding because of the world series",
           "season bachelorette heart kris jonathan",
           31
          ],
          [
           "clarice probes hannibal lecter about trumps russia ties",
           "hader reveals break snl kevin",
           38
          ],
          [
           "damascus of batteries   a knife from a flashlight",
           "built diving scuba pond fishing",
           25
          ],
          [
           "north koreas army of beauties  nyt",
           "types gym people north yoga",
           28
          ],
          [
           "andre ingram speaks with the inside crew",
           "nba game vs espn starters",
           3
          ],
          [
           "best of 2017  dude perfect",
           "mv twice hannah favourites 2018",
           8
          ],
          [
           "why bridges move",
           "falcon heavy bridges divide minutes",
           22
          ],
          [
           "grace vanderwaal  clearly",
           "mv twice hannah favourites 2018",
           8
          ],
          [
           "lighttheworld christmas concert with the piano guys and friends",
           "challenge sing christmas concert friends",
           36
          ],
          [
           "ann curry says verbal sexual harassment was pervasive at nbc",
           "kimmel jimmy strangers katie gets",
           37
          ],
          [
           "lebron james teases what his dunk contest might look like during pregame warmups  espn",
           "nba game vs espn starters",
           3
          ],
          [
           "george ezra  saviour lyric video ft first aid kit",
           "video official lyric music love",
           43
          ],
          [
           "wiener 500  wiener dogs in racing cars",
           "slow mo guys 12500fps world",
           18
          ],
          [
           "door to space  29 rooms vlog",
           "house bitcoin living antarctica earth",
           20
          ],
          [
           "can you power a house with a shakeweight",
           "house bitcoin living antarctica earth",
           20
          ],
          [
           "small details you missed in the last jedi",
           "movie went star wars film",
           12
          ],
          [
           "adam ruins everything  the truth about paul revere  trutv",
           "museum kids james target patience",
           15
          ],
          [
           "the kids in it couldnt stop crying during the movies final emotional scenes",
           "movie went star wars film",
           12
          ],
          [
           "luna stracci goes sneaker shopping with halsey and complex",
           "mv twice hannah favourites 2018",
           8
          ],
          [
           "what do dogs see when they watch tv",
           "cat like dog caught laser",
           26
          ],
          [
           "trying 1 makeup from wish",
           "makeup challenge new nikkietutorials green",
           23
          ],
          [
           "quadruple neck bass solo",
           "weezer try africa blackout 1975",
           32
          ],
          [
           "i gave myself a kim kardashian hair makeover ",
           "makeover gave hair jenner kylie",
           29
          ],
          [
           "shortterm spending bill fails in the senate",
           "dead grandpa peace angry rest",
           27
          ],
          [
           "andy samberg  breakfast club in memoriam tribute  2018 film independent spirit awards",
           "hader reveals break snl kevin",
           38
          ],
          [
           "scuba diving in pond for treasure i found it",
           "built diving scuba pond fishing",
           25
          ],
          [
           "smartphone durability awards 2017",
           "iphone s9 galaxy samsung official",
           4
          ],
          [
           "spoilers shiva saves the day talked about scene ep 804  the walking dead",
           "dead grandpa peace angry rest",
           27
          ],
          [
           "iphone x a photographers review",
           "iphone s9 galaxy samsung official",
           4
          ],
          [
           "microsoft bob experience was it really that bad",
           "setup google 30000 gaming ultimate",
           17
          ],
          [
           "coach taggart monday presser ahead of arizona",
           "nba game vs espn starters",
           3
          ],
          [
           "kids try 100 years of the most expensive foods  bon appétit",
           "test cooking gadgets bon appétit",
           6
          ],
          [
           "keynote google io 18",
           "setup google 30000 gaming ultimate",
           17
          ],
          [
           "wait my crush is watching  hannah stocking  lele pons",
           "mv twice hannah favourites 2018",
           8
          ],
          [
           "which countries are about to collapse",
           "museum kids james target patience",
           15
          ],
          [
           "adults react to casey neistat",
           "ranking friendship love 2017 getting",
           16
          ],
          [
           "going fishing a stop motion animation by guldies",
           "built diving scuba pond fishing",
           25
          ],
          [
           "real madrid vs bayern munich  201718 uefa champions league highlights",
           "highlights vs 201718 league uefa",
           0
          ],
          [
           "the chainsmokers  sick boy",
           "weezer try africa blackout 1975",
           32
          ],
          [
           "falcon heavy and 9 static fires  what you need to know",
           "falcon heavy bridges divide minutes",
           22
          ],
          [
           "black history awesome facts part two  thomas sanders",
           "museum kids james target patience",
           15
          ],
          [
           "carrie underwood  the champion official lyric video ft ludacris",
           "official video minogue kylie demi",
           42
          ],
          [
           "chris stapleton  tryin to untangle my mind audio",
           "ft audio song blossom girl",
           34
          ],
          [
           "clash royale meet the rascals new card",
           "fortnite royale ninja clash perfect",
           9
          ],
          [
           "i matched outfits with my dog  oogi",
           "makeover gave hair jenner kylie",
           29
          ],
          [
           "slow mo katana sword  4k  the slow mo guys",
           "slow mo guys 12500fps world",
           18
          ],
          [
           "does saving more lives lead to overpopulation",
           "day waffles dreaming stop sleep",
           30
          ],
          [
           "volcanic eruption strands tourists on bali",
           "volcano hawaii eruption sobering spectacular",
           21
          ],
          [
           "cheeseburger  inside of  french fries",
           "test cooking gadgets bon appétit",
           6
          ],
          [
           "the bella twins emotional rollercoaster return to the ring  royal rumble 2018 part 2",
           "dead grandpa peace angry rest",
           27
          ],
          [
           "never bet your money on another mans game",
           "plays night 10 2018 january",
           1
          ],
          [
           "the 10 most valuable sneakers of q4 2017",
           "mv twice hannah favourites 2018",
           8
          ],
          [
           "charlie puth  boy official audio",
           "audio official charlie day goes",
           33
          ],
          [
           "twice what is love mv",
           "mv twice hannah favourites 2018",
           8
          ],
          [
           "love simon  official trailer hd  20th century fox",
           "hd official trailer venom 20th",
           14
          ],
          [
           "clean bandit  solo feat demi lovato official video",
           "official video minogue kylie demi",
           42
          ],
          [
           "kanye west  charlamagne interview",
           "kimmel jimmy strangers katie gets",
           37
          ],
          [
           "studio apartment makeover for under 300  mr kate decorates",
           "makeover gave hair jenner kylie",
           29
          ],
          [
           "is the last jedi the most divisive star wars movie ever spoilers  sju",
           "movie went star wars film",
           12
          ],
          [
           "shawn mendes  youth lyric video ft khalid",
           "video lyric ft official rexha",
           35
          ],
          [
           "alison wonderland  easy",
           "mv twice hannah favourites 2018",
           8
          ],
          [
           "binging with babish the wire special",
           "test cooking gadgets bon appétit",
           6
          ],
          [
           "spinning a record to pieces at 12500fps  the slow mo guys",
           "slow mo guys 12500fps world",
           18
          ],
          [
           "camila cabello  never be the same",
           "camila cabello taylor swift audio",
           40
          ],
          [
           "the fastest 40yard dash times of 2018  nfl combine highlights",
           "highlights nfl 2018 vs play",
           2
          ],
          [
           "panic at the disco high hopes audio",
           "audio official charlie day goes",
           33
          ],
          [
           "siri in the 80s",
           "setup google 30000 gaming ultimate",
           17
          ],
          [
           "jimmy kimmel goes undercover on reddit twitter  wikipedia  actually me  gq",
           "kimmel jimmy strangers katie gets",
           37
          ],
          [
           "scotty sire  mister glassman official lyric video",
           "video official lyric music love",
           43
          ],
          [
           "how to heat an off grid log cabin with wood thermal imaging scan infrared",
           "house bitcoin living antarctica earth",
           20
          ],
          [
           "every teams longest play of the 2017 season  nfl highlights",
           "highlights nfl 2018 vs play",
           2
          ],
          [
           "lonzo ball drains 2 big buckets in the clutch to beat the spurs",
           "nba game vs espn starters",
           3
          ],
          [
           "u2  the blackout",
           "weezer try africa blackout 1975",
           32
          ],
          [
           "philberts pet",
           "cat like dog caught laser",
           26
          ],
          [
           "devin booker and julius randle wildcats fightyou the full of shit",
           "nba game vs espn starters",
           3
          ],
          [
           "john krasinski stalked emily blunt  the graham norton show",
           "kimmel jimmy strangers katie gets",
           37
          ],
          [
           "my everyday makeup tutorial",
           "makeup tutorial tried following everyday",
           24
          ],
          [
           "bill hader reveals what made him break on snl",
           "hader reveals break snl kevin",
           38
          ],
          [
           "music of splatoon 2 bts  nintendo switch",
           "audio official charlie day goes",
           33
          ],
          [
           "occupied  cyanide  happiness shorts",
           "shorts cyanide happiness blind colour",
           7
          ],
          [
           "5 reasons to buy a 188 laptop",
           "setup google 30000 gaming ultimate",
           17
          ],
          [
           "my house is still burned down",
           "house bitcoin living antarctica earth",
           20
          ],
          [
           "james veitchs elaborate wrong number prank   conan on tbs",
           "hader reveals break snl kevin",
           38
          ],
          [
           "heather locklear arrested for domestic violence",
           "kimmel jimmy strangers katie gets",
           37
          ],
          [
           "the cat who caught the laser",
           "cat like dog caught laser",
           26
          ],
          [
           "jurassic world fallen kingdom  official trailer hd",
           "hd official trailer venom 20th",
           14
          ],
          [
           "a year off grid in my roundhouse",
           "house bitcoin living antarctica earth",
           20
          ],
          [
           "bebe rexha  2 souls on fire feat quavo lyric video",
           "video lyric ft official rexha",
           35
          ],
          [
           "i tried the fanciest mcdonalds in the world",
           "test cooking gadgets bon appétit",
           6
          ],
          [
           "breaking shinees jonghyun is found dead in his apartment",
           "dead grandpa peace angry rest",
           27
          ],
          [
           "i tried following a safiya nygaard makeup tutorial",
           "makeup tutorial tried following everyday",
           24
          ],
          [
           "emily blunt tells the story of how she met john krasinski",
           "kimmel jimmy strangers katie gets",
           37
          ],
          [
           "one fret guitar solo",
           "weezer try africa blackout 1975",
           32
          ],
          [
           "bird lands on news anchors head news blooper",
           "built diving scuba pond fishing",
           25
          ],
          [
           "5 subway footlong challenge revisited record attempt",
           "volcano hawaii eruption sobering spectacular",
           21
          ],
          [
           "town hall 12 update is here clash of clans official",
           "fortnite royale ninja clash perfect",
           9
          ],
          [
           "5 seconds of summer  want you back official video",
           "video official lyric music love",
           43
          ],
          [
           "khalid  normani  love lies official video",
           "video official lyric music love",
           43
          ],
          [
           "10 hour wear test on drugstore makeup  beauty with mi  refinery29",
           "makeup challenge new nikkietutorials green",
           23
          ],
          [
           "alexa loses her voice  leslie jones and jb smoove  calling ashley",
           "kimmel jimmy strangers katie gets",
           37
          ],
          [
           "the invention of chapstick",
           "shorts cyanide happiness blind colour",
           7
          ],
          [
           "cleveland cavaliers vs boston celtics full game highlights  game 6  2018 nba playoffs",
           "nba game vs espn starters",
           3
          ],
          [
           "marcin szatanik  fiat 126p  quick off  true rally fans  darvit walimska wiosna 2018  grb",
           "slow mo guys 12500fps world",
           18
          ],
          [
           "and the day goes on",
           "audio official charlie day goes",
           33
          ],
          [
           "honest trailers  the blade trilogy",
           "honest trailers 2018 christopher nolan",
           11
          ],
          [
           "foamcore model making hobby spray booth work shop or craft area for under 200",
           "built diving scuba pond fishing",
           25
          ],
          [
           "andrés iniesta substituted for the final time in an fc barcelona shirt",
           "highlights vs 201718 league uefa",
           0
          ],
          [
           "hmmmtoo faced lifes a festival collection review  jackie aina",
           "mv twice hannah favourites 2018",
           8
          ],
          [
           "selling my iphone x to a machine at walmart",
           "iphone s9 galaxy samsung official",
           4
          ],
          [
           "the most toxic kiss on earth  because science live",
           "house bitcoin living antarctica earth",
           20
          ],
          [
           "film theory we found neverland disney peter pan",
           "movie went star wars film",
           12
          ],
          [
           "standup battle with jerry seinfeld",
           "dead grandpa peace angry rest",
           27
          ],
          [
           "im not a child im 20  living differently",
           "day waffles dreaming stop sleep",
           30
          ],
          [
           "why cant i stop dreaming about waffles ",
           "day waffles dreaming stop sleep",
           30
          ],
          [
           "shawn mendes  lost in japan  choreography by jake kodish ft sean lew kaycee rice jade chynoweth",
           "camila cabello taylor swift audio",
           40
          ],
          [
           "i built a hammering machine that destroys everything",
           "built diving scuba pond fishing",
           25
          ],
          [
           " 1145 iphone case",
           "iphone s9 galaxy samsung official",
           4
          ],
          [
           "new year new mkbhd",
           "mv twice hannah favourites 2018",
           8
          ],
          [
           "lighttheworld christmas concert with the piano guys and friends",
           "challenge sing christmas concert friends",
           36
          ],
          [
           "could you survive in these extreme conditions",
           "house bitcoin living antarctica earth",
           20
          ],
          [
           "markiplier animated  ghost hunter",
           "house bitcoin living antarctica earth",
           20
          ],
          [
           "top 5 plays of the night  may 06 2018",
           "plays night 10 2018 january",
           1
          ],
          [
           "victoria beckham says yes to a spice girls carpool karaoke",
           "carpool karaoke song christmas 2018",
           41
          ],
          [
           "hudson moore  summertime queen official audio",
           "audio official charlie day goes",
           33
          ],
          [
           "handson with vr omnidirectional treadmill",
           "falcon heavy bridges divide minutes",
           22
          ],
          [
           "blood pressure guidelines have changed and panic",
           "pregnancy body doing growing like",
           19
          ],
          [
           "royal wedding stand by me performed by karen gibson and the kingdom choir  today",
           "carpool karaoke song christmas 2018",
           41
          ],
          [
           "pastry chef attempts to make gourmet skittles  gourmet makes  bon appétit",
           "gourmet make chocolate appétit bon",
           5
          ],
          [
           "camila cabello performs  never be the same  gma live",
           "camila cabello taylor swift audio",
           40
          ],
          [
           "mandisa  bleed the same ft tobymac kirk franklin",
           "ft audio song blossom girl",
           34
          ],
          [
           "google picks my makeup challenge carli bybel",
           "makeup challenge new nikkietutorials green",
           23
          ],
          [
           "batman gotham by gaslight  exclusive trailer 2018",
           "hd official trailer venom 20th",
           14
          ],
          [
           "how mizs disastrous tv debut led him to maryse wwe photo shoot",
           "kimmel jimmy strangers katie gets",
           37
          ],
          [
           "the internet is under attack net neutrality is dying and what you can do",
           "dead grandpa peace angry rest",
           27
          ],
          [
           "i gave myself a kylie jenner makeover ",
           "makeover gave hair jenner kylie",
           29
          ],
          [
           "prince  nothing compares 2 u official video",
           "video lyric ft official rexha",
           35
          ],
          [
           "gallant  doesnt matter official video",
           "video official lyric music love",
           43
          ],
          [
           "top 10 plays of the night november 28 2017",
           "plays night 10 2018 january",
           1
          ],
          [
           "what if we destroyed the moon",
           "scientists space bts entire launching",
           10
          ],
          [
           "my wife telling me about her weird dream",
           "day waffles dreaming stop sleep",
           30
          ],
          [
           "sloohs blue supermoon total lunar eclipse",
           "scientists space bts entire launching",
           10
          ],
          [
           "youll shoot your eye out performance  a christmas story live",
           "challenge sing christmas concert friends",
           36
          ],
          [
           "iot kit robot 3",
           "setup google 30000 gaming ultimate",
           17
          ],
          [
           "rita ora  girls ft cardi b bebe rexha  charli xcx official lyric video",
           "video lyric ft official rexha",
           35
          ],
          [
           "highlights mk dons u18s 10 cardiff city u18s",
           "highlights vs 201718 league uefa",
           0
          ],
          [
           "lindsey vonn i wont be representing trump at olympics",
           "types gym people north yoga",
           28
          ],
          [
           "its chicas birthday",
           "day waffles dreaming stop sleep",
           30
          ],
          [
           "chocolate expert guesses cheap vs expensive chocolate  price points  epicurious",
           "gourmet make chocolate appétit bon",
           5
          ],
          [
           "incredibles 2 official trailer",
           "official trailer incredibles ralph mowgli",
           13
          ],
          [
           "full face using 7eleven makeup",
           "makeup challenge new nikkietutorials green",
           23
          ],
          [
           "this phones fingerprint sensor  is its display",
           "iphone s9 galaxy samsung official",
           4
          ],
          [
           "the green makeup challenge  nikkietutorials",
           "makeup challenge new nikkietutorials green",
           23
          ],
          [
           "ralph breaks the internet wreckit ralph 2 official teaser trailer",
           "official trailer incredibles ralph mowgli",
           13
          ],
          [
           "induction energy experiments",
           "built diving scuba pond fishing",
           25
          ],
          [
           "physicians formula butter palette  review  demo",
           "makeup challenge new nikkietutorials green",
           23
          ],
          [
           "my summer crush  hannah stocking",
           "mv twice hannah favourites 2018",
           8
          ],
          [
           "mo salah bursts through wall to surprise kids  kop kids prank",
           "museum kids james target patience",
           15
          ],
          [
           "the last jedi cast touches bearded dragons  other weird stuff  fear box  vanity fair",
           "movie went star wars film",
           12
          ],
          [
           "making chocolate christmas pudding with mark ferris  tom daley",
           "gourmet make chocolate appétit bon",
           5
          ],
          [
           "jurassic world meets parkour in real life",
           "falcon heavy bridges divide minutes",
           22
          ],
          [
           "honest trailers  every christopher nolan movie",
           "honest trailers 2018 christopher nolan",
           11
          ],
          [
           "gopro bmw sets guinness world records title for drifting  4k",
           "slow mo guys 12500fps world",
           18
          ],
          [
           "we built the infinity gauntlet with 25000 magnets",
           "built diving scuba pond fishing",
           25
          ],
          [
           "papers please  the short film 2018 4k subs",
           "honest trailers 2018 christopher nolan",
           11
          ],
          [
           "3 date night with julianna clearly worth it",
           "mv twice hannah favourites 2018",
           8
          ],
          [
           "the history of fortnite battle royale  did you know gaming feat remix",
           "fortnite royale ninja clash perfect",
           9
          ],
          [
           "alisha maries birthday vlog",
           "mv twice hannah favourites 2018",
           8
          ],
          [
           "sabrina carpenter jonas blue  alien audio only",
           "audio official charlie day goes",
           33
          ],
          [
           "x ambassadors  dont stay audio",
           "audio official charlie day goes",
           33
          ],
          [
           "the best black friday tech deals",
           "setup google 30000 gaming ultimate",
           17
          ],
          [
           "michael shannon puts 210 in coins up his nose  secret talent theatre  vanity fair",
           "kimmel jimmy strangers katie gets",
           37
          ],
          [
           "kuwtk  kris jenner  jonathan cheban put on disguises  e",
           "season bachelorette heart kris jonathan",
           31
          ],
          [
           "falcon heavy makes history  cheaper spaceflight",
           "falcon heavy bridges divide minutes",
           22
          ],
          [
           "what went wrong with justice league at the box office",
           "movie went star wars film",
           12
          ],
          [
           "the strangest booth at ces 2018",
           "museum kids james target patience",
           15
          ],
          [
           "is the last jedi the most divisive star wars movie ever spoilers  sju",
           "movie went star wars film",
           12
          ],
          [
           "taylor swift  delicate vertical version",
           "camila cabello taylor swift audio",
           40
          ],
          [
           "im so done with these",
           "makeover gave hair jenner kylie",
           29
          ],
          [
           "grinch holiday humming challenge ft grace helbig",
           "challenge sing christmas concert friends",
           36
          ],
          [
           "andy grammer  the good parts official audio",
           "audio official charlie day goes",
           33
          ],
          [
           "blackkklansman  official trailer hd  in theaters august 10",
           "hd official trailer venom 20th",
           14
          ],
          [
           "nfc vs afc  2018 nfl pro bowl game highlights",
           "highlights nfl 2018 vs play",
           2
          ],
          [
           "céline dion  ashes from the deadpool 2 motion picture soundtrack",
           "ft audio song blossom girl",
           34
          ],
          [
           "will netflix help or hurt natalie portmans annihilation  sju",
           "honest trailers 2018 christopher nolan",
           11
          ],
          [
           "fried school lunch taste test ft harley morenstein  too much of a good thing",
           "test cooking gadgets bon appétit",
           6
          ],
          [
           "carla makes ba smashburgers  from the test kitchen  bon appétit",
           "test cooking gadgets bon appétit",
           6
          ],
          [
           "kuwtk  kris jenner  jonathan cheban put on disguises  e",
           "season bachelorette heart kris jonathan",
           31
          ],
          [
           "gallant  doesnt matter official video",
           "video official lyric music love",
           43
          ],
          [
           "eagles players mock vikings in blowout",
           "highlights nfl 2018 vs play",
           2
          ],
          [
           "5 japanese commercials w american celebrities",
           "shorts cyanide happiness blind colour",
           7
          ],
          [
           "dog cries every time hes touched  until he meets this woman  the dodo",
           "cat like dog caught laser",
           26
          ],
          [
           "the funeral  cyanide  happiness shorts",
           "shorts cyanide happiness blind colour",
           7
          ],
          [
           "why is blue so rare in nature",
           "shorts cyanide happiness blind colour",
           7
          ],
          [
           "november favourites 2017  zoella",
           "mv twice hannah favourites 2018",
           8
          ],
          [
           "trumps false teeth come loose during speech",
           "hader reveals break snl kevin",
           38
          ],
          [
           "i built a scream box so my girlfriend wont go crazy",
           "house bitcoin living antarctica earth",
           20
          ],
          [
           "introducing the players  super smash bros invitational 2018",
           "fortnite royale ninja clash perfect",
           9
          ],
          [
           "andy cohen weighs in on kim cattralls feud with sarah jessica parker",
           "kimmel jimmy strangers katie gets",
           37
          ],
          [
           "runaway bride  hannah stocking",
           "mv twice hannah favourites 2018",
           8
          ],
          [
           "everything wrong with et the extra terrestrial",
           "scientists space bts entire launching",
           10
          ],
          [
           "sza  the weekend official video",
           "video official lyric music love",
           43
          ],
          [
           "venom  official trailer hd",
           "hd official trailer venom 20th",
           14
          ],
          [
           "gopro awards seagull theft  with telemetry in 4k",
           "built diving scuba pond fishing",
           25
          ],
          [
           "melix plays jumpstart first grade  90s games",
           "fortnite royale ninja clash perfect",
           9
          ],
          [
           "ancient weapons shuriken aka ninja stars",
           "falcon heavy bridges divide minutes",
           22
          ],
          [
           "behind the scenes havana  pentatonix",
           "scientists space bts entire launching",
           10
          ],
          [
           "andrés iniesta substituted for the final time in an fc barcelona shirt",
           "highlights vs 201718 league uefa",
           0
          ],
          [
           "the chainsmokers  everybody hates me",
           "weezer try africa blackout 1975",
           32
          ],
          [
           "cooking birthday presents for my wife",
           "test cooking gadgets bon appétit",
           6
          ],
          [
           "working a day at my first job mcdonalds",
           "day waffles dreaming stop sleep",
           30
          ],
          [
           "the fastest 40yard dash times of 2018  nfl combine highlights",
           "highlights nfl 2018 vs play",
           2
          ],
          [
           "the continental divide trail in four minutes",
           "falcon heavy bridges divide minutes",
           22
          ],
          [
           "halloween  official trailer hd",
           "hd official trailer venom 20th",
           14
          ],
          [
           "i went to pixar animation studios the incredibles 2",
           "movie went star wars film",
           12
          ],
          [
           "lena waithe is winning",
           "mv twice hannah favourites 2018",
           8
          ],
          [
           "brad makes whole hog bbq with rodney scott  its alive  bon appétit",
           "test cooking gadgets bon appétit",
           6
          ],
          [
           "rihanna on her divine dress and cohosting with anna wintour  met gala 2018 with liza koshy",
           "mv twice hannah favourites 2018",
           8
          ],
          [
           "falcon heavy and the tesla roadster orbits a prediction",
           "falcon heavy bridges divide minutes",
           22
          ],
          [
           "1992 skin bracer commercial wjack palance",
           "shorts cyanide happiness blind colour",
           7
          ],
          [
           "gringo  official redband trailer hd  amazon studios",
           "hd official trailer venom 20th",
           14
          ],
          [
           "samsung galaxy s9 and s9 official introduction",
           "iphone s9 galaxy samsung official",
           4
          ],
          [
           "terry crews kevin hart tried to play mind games with me   conan on tbs",
           "hader reveals break snl kevin",
           38
          ],
          [
           "insane spacex falcon heavy side boosters landing simultaneously at kennedy space center",
           "falcon heavy bridges divide minutes",
           22
          ],
          [
           "victoria beckham says yes to a spice girls carpool karaoke",
           "carpool karaoke song christmas 2018",
           41
          ],
          [
           "how pregnancy is like growing an alien inside you",
           "pregnancy body doing growing like",
           19
          ],
          [
           "mixing all my nail powders together for sale if u keep it on the dl",
           "makeup tutorial tried following everyday",
           24
          ],
          [
           "i got a makeover in 3 different us cities",
           "makeover gave hair jenner kylie",
           29
          ],
          [
           "blake shelton  i lived it official music video",
           "video official lyric music love",
           43
          ],
          [
           "mommy and daughter surprise daddy with pregnancy announcement speechless",
           "pregnancy body doing growing like",
           19
          ],
          [
           "alan walker  all falls down behind the scenes",
           "dead grandpa peace angry rest",
           27
          ],
          [
           "how pregnancy is like growing an alien inside you",
           "pregnancy body doing growing like",
           19
          ],
          [
           "markiplier animated  ghost hunter",
           "house bitcoin living antarctica earth",
           20
          ],
          [
           "jimmy kimmel gets a colonoscopy with katie couric",
           "kimmel jimmy strangers katie gets",
           37
          ],
          [
           "2 bacon vs 100 bacon",
           "test cooking gadgets bon appétit",
           6
          ],
          [
           "how laserdisc ultimately won the format wars",
           "slow mo guys 12500fps world",
           18
          ],
          [
           "rudimental  these days ft jess glynne macklemore  dan caplenofficial audio",
           "ft audio song blossom girl",
           34
          ],
          [
           "new 2018 ipad announced 329 a10 fusion  apple pencil",
           "setup google 30000 gaming ultimate",
           17
          ],
          [
           "houston rockets vs minnesota timberwolves  full game highlights   game 3  april 21 2018  nba",
           "nba game vs espn starters",
           3
          ],
          [
           "eminem  river ft ed sheeran",
           "ft audio song blossom girl",
           34
          ],
          [
           "how to burn fat in your lunch break in 5 minutes   tom daley",
           "test cooking gadgets bon appétit",
           6
          ],
          [
           "and the day goes on",
           "audio official charlie day goes",
           33
          ],
          [
           "dave matthews band  samurai cop oh joy begin visualizer",
           "audio official charlie day goes",
           33
          ],
          [
           "lebron james and dwyane wades top 25 plays as teammates",
           "plays night 10 2018 january",
           1
          ],
          [
           "when you and your mates go snow boarding for the first time",
           "day waffles dreaming stop sleep",
           30
          ],
          [
           "u2  the blackout",
           "weezer try africa blackout 1975",
           32
          ],
          [
           "why you should wake up at 430 am every day according to a navy seal",
           "day waffles dreaming stop sleep",
           30
          ],
          [
           "black panther cast touches a chameleon a guinea pig and other weird stuff  fear box  vanity fair",
           "honest trailers 2018 christopher nolan",
           11
          ],
          [
           "my big problem with the iphone x",
           "iphone s9 galaxy samsung official",
           4
          ],
          [
           "elton john  his past londons present a taste of the future",
           "carpool karaoke song christmas 2018",
           41
          ],
          [
           "dunkirk reedited as a silent film  the power of visual storytelling",
           "movie went star wars film",
           12
          ],
          [
           "rest in peace angry grandpa",
           "dead grandpa peace angry rest",
           27
          ],
          [
           "how does smoke behave in a vacuum",
           "volcano hawaii eruption sobering spectacular",
           21
          ],
          [
           "blackbear  anxiety ft frnd",
           "ranking friendship love 2017 getting",
           16
          ],
          [
           "speks in stop motion",
           "slow mo guys 12500fps world",
           18
          ],
          [
           "magnitude 82 earthquake strikes alaska tsunami watch issued for us west coast",
           "volcano hawaii eruption sobering spectacular",
           21
          ],
          [
           "marvin lewis leaving the cincinnati bengals  nfl countdown  espn",
           "plays night 10 2018 january",
           1
          ],
          [
           "brain games for old dogs could improve their mental health  national geographic",
           "cat like dog caught laser",
           26
          ],
          [
           "greyson chance  low official lyric video",
           "video official lyric music love",
           43
          ],
          [
           "stretched out  simons cat  shorts",
           "shorts cyanide happiness blind colour",
           7
          ],
          [
           "why does my cat sleep with me  5 reasons youll love to know",
           "cat like dog caught laser",
           26
          ],
          [
           "lauren london goes sneaker shopping with complex",
           "mv twice hannah favourites 2018",
           8
          ],
          [
           "2016 vs 2017",
           "ranking friendship love 2017 getting",
           16
          ],
          [
           "18991902 british emergency ration field service oldest mre beef eaten survival food review test",
           "test cooking gadgets bon appétit",
           6
          ],
          [
           "riverdale cast competes in a compliment battle  teen vogue",
           "season bachelorette heart kris jonathan",
           31
          ],
          [
           "sanju  official trailer  ranbir kapoor  rajkumar hirani  releasing on 29th june",
           "hd official trailer venom 20th",
           14
          ],
          [
           "were celebrating and were more terrified",
           "ranking friendship love 2017 getting",
           16
          ],
          [
           "lebron james admits he was ripping phil jackson and thinks deshaun watson should be the browns qu",
           "nba game vs espn starters",
           3
          ],
          [
           "iggy azalea  savior lyric video ft quavo",
           "video lyric ft official rexha",
           35
          ],
          [
           "bill hader breaks down his 9 best roles  gq",
           "hader reveals break snl kevin",
           38
          ],
          [
           "foot locker x jordan  boldlikekawhi feat kawhi leonard",
           "mv twice hannah favourites 2018",
           8
          ],
          [
           "home for the holidays",
           "ranking friendship love 2017 getting",
           16
          ],
          [
           "shawn mendes the tour  official trailer",
           "carpool karaoke song christmas 2018",
           41
          ],
          [
           "taking a colour blind test with colour blind glasses",
           "shorts cyanide happiness blind colour",
           7
          ],
          [
           "keynote google io 18",
           "setup google 30000 gaming ultimate",
           17
          ],
          [
           "timothée chalamets first time meeting andy cohen",
           "kimmel jimmy strangers katie gets",
           37
          ],
          [
           "kid hilariously steals baby jesus from manger during live nativity scene",
           "museum kids james target patience",
           15
          ],
          [
           "true facts  ant mutualism",
           "built diving scuba pond fishing",
           25
          ],
          [
           "the funeral  cyanide  happiness shorts",
           "shorts cyanide happiness blind colour",
           7
          ],
          [
           "don diablo ft ansel elgort  believe  lyric video",
           "video official lyric music love",
           43
          ],
          [
           "my summer crush  hannah stocking",
           "mv twice hannah favourites 2018",
           8
          ],
          [
           "what does it take to be a blue planet ii cameraman ourblueplanet  bbc earth",
           "scientists space bts entire launching",
           10
          ],
          [
           "hugh jackman on keeping his 21year marriage strong the crazy ups  crazy downs  peopletv",
           "hader reveals break snl kevin",
           38
          ],
          [
           "the 1975  give yourself a try",
           "weezer try africa blackout 1975",
           32
          ],
          [
           "camila cabello  never be the same audio",
           "camila cabello taylor swift audio",
           40
          ],
          [
           "primitive technology aframe hut",
           "house bitcoin living antarctica earth",
           20
          ],
          [
           "can you power a house with a shakeweight",
           "house bitcoin living antarctica earth",
           20
          ],
          [
           "billie eilish  lovely with khalid",
           "camila cabello taylor swift audio",
           40
          ],
          [
           "rest in peace angry grandpa",
           "dead grandpa peace angry rest",
           27
          ],
          [
           "introducing microsoft surface hub 2",
           "setup google 30000 gaming ultimate",
           17
          ],
          [
           "weezer  africa",
           "weezer try africa blackout 1975",
           32
          ],
          [
           "bastille  world gone mad from bright the album official music video",
           "video official lyric music love",
           43
          ],
          [
           "aubrey plaza and dan stevens hijack a strangers tinder  vanity fair",
           "kimmel jimmy strangers katie gets",
           37
          ],
          [
           "what is bitcoin",
           "house bitcoin living antarctica earth",
           20
          ],
          [
           "cheeseburger jello aspic  hamburgers entombed in savory gelatin",
           "test cooking gadgets bon appétit",
           6
          ],
          [
           "real madrid vs liverpool  201718 uefa champions league final highlights",
           "highlights vs 201718 league uefa",
           0
          ],
          [
           "hailee steinfeld  alesso let me go ft florida georgia linewatt ama live",
           "ft audio song blossom girl",
           34
          ],
          [
           "launching an entire fireworks display at once",
           "scientists space bts entire launching",
           10
          ],
          [
           "ref to the rescue  2018 kona  hyundai nfl super bowl lii",
           "highlights nfl 2018 vs play",
           2
          ],
          [
           "confronting my dad",
           "ranking friendship love 2017 getting",
           16
          ],
          [
           "venom  official trailer hd",
           "hd official trailer venom 20th",
           14
          ],
          [
           "sing anything challenge",
           "challenge sing christmas concert friends",
           36
          ],
          [
           "i decided to sleep for 4 hours a day see what happened",
           "day waffles dreaming stop sleep",
           30
          ],
          [
           "sia  santas coming for us",
           "ranking friendship love 2017 getting",
           16
          ],
          [
           "coutinho works with the ball at ciutat esportiva",
           "highlights vs 201718 league uefa",
           0
          ],
          [
           "this season on the bachelorette",
           "season bachelorette heart kris jonathan",
           31
          ],
          [
           "a quiet place 2018  official teaser trailer  paramount pictures",
           "official trailer incredibles ralph mowgli",
           13
          ],
          [
           "clean bandit  solo feat demi lovato official video",
           "official video minogue kylie demi",
           42
          ],
          [
           "build mini underground swimming pool",
           "built diving scuba pond fishing",
           25
          ],
          [
           "how laserdisc ultimately won the format wars",
           "slow mo guys 12500fps world",
           18
          ],
          [
           "falcon heavy and 9 static fires  what you need to know",
           "falcon heavy bridges divide minutes",
           22
          ],
          [
           "working a day at my first job mcdonalds",
           "day waffles dreaming stop sleep",
           30
          ],
          [
           "what will fire crackers do in gasoline",
           "built diving scuba pond fishing",
           25
          ],
          [
           "im a stupid house cat and i want to eat your plants",
           "cat like dog caught laser",
           26
          ],
          [
           "bitten by a giant desert centipede",
           "house bitcoin living antarctica earth",
           20
          ],
          [
           "cardi b confirms pregnancy",
           "pregnancy body doing growing like",
           19
          ],
          [
           "weird products  tati approved",
           "shorts cyanide happiness blind colour",
           7
          ],
          [
           "how long will our monuments last",
           "volcano hawaii eruption sobering spectacular",
           21
          ],
          [
           "watch me draw 10 presidents",
           "types gym people north yoga",
           28
          ],
          [
           "i let my dog walk me for a day",
           "makeover gave hair jenner kylie",
           29
          ],
          [
           "rochdale vs tottenham hotspur  201718 fa cup highlights",
           "highlights vs 201718 league uefa",
           0
          ],
          [
           "final full sequence that sent cavaliers vs warriors to ot game 1 2018 nba finals  espn",
           "nba game vs espn starters",
           3
          ],
          [
           "twice heart shaker mv teaser 30s ver",
           "mv twice hannah favourites 2018",
           8
          ],
          [
           "galantis  throttle  tell me you love me official music video",
           "video official lyric music love",
           43
          ],
          [
           "top 10 plays of the night february 3 2018",
           "plays night 10 2018 january",
           1
          ],
          [
           "zayn  let me official video",
           "video official lyric music love",
           43
          ],
          [
           "everything wrong with ferdinand in 16 minutes or less",
           "highlights vs 201718 league uefa",
           0
          ],
          [
           "holiday  sway  apple",
           "cat like dog caught laser",
           26
          ],
          [
           "deep bore into antarctica finds freezing ice not melting as expected  national geographic",
           "house bitcoin living antarctica earth",
           20
          ],
          [
           "falcon heavy  starman",
           "falcon heavy bridges divide minutes",
           22
          ],
          [
           "perks of dating a girl  hannah hart",
           "mv twice hannah favourites 2018",
           8
          ],
          [
           "novak djokovic v hyeon chung match highlights 4r  australian open 2018",
           "highlights vs 201718 league uefa",
           0
          ],
          [
           "is mcdonalds garlic white cheddar burger really that bad",
           "test cooking gadgets bon appétit",
           6
          ],
          [
           "kylie minogue  stop me from falling official video",
           "official video minogue kylie demi",
           42
          ],
          [
           "vance joy   were going home official video",
           "video official lyric music love",
           43
          ],
          [
           "ned price says cia officer arrest is as serious as it seems  velshi  ruhle  msnbc",
           "lot 75th globes annual theres",
           39
          ],
          [
           "veteran congressman john conyers announces he is retiring  the view",
           "dead grandpa peace angry rest",
           27
          ],
          [
           "liverpool vs manchester city  201718 uefa champions league highlights",
           "highlights vs 201718 league uefa",
           0
          ],
          [
           "jaiden  boyinaband  empty official music video",
           "video lyric ft official rexha",
           35
          ],
          [
           "people who had one job and failed miserably",
           "day waffles dreaming stop sleep",
           30
          ],
          [
           "i went to pixar animation studios the incredibles 2",
           "movie went star wars film",
           12
          ],
          [
           "occupied  cyanide  happiness shorts",
           "shorts cyanide happiness blind colour",
           7
          ],
          [
           "paramore fake happy official video",
           "video official lyric music love",
           43
          ],
          [
           "clash royale meet the rascals new card",
           "fortnite royale ninja clash perfect",
           9
          ],
          [
           "the dankest ergonomic keyboard  ergodox ez review",
           "setup google 30000 gaming ultimate",
           17
          ],
          [
           "datally a new mobile datasaving app by google",
           "iphone s9 galaxy samsung official",
           4
          ],
          [
           "stefon diggs makes miracle td catch on last play vikings win   cantmiss play  nfl hls",
           "highlights nfl 2018 vs play",
           2
          ],
          [
           "getting bullied advice",
           "ranking friendship love 2017 getting",
           16
          ],
          [
           "the final countdown  europe vintage cabaret cover ft gunhild carling",
           "weezer try africa blackout 1975",
           32
          ],
          [
           "jurassic world fallen kingdom  official trailer 2 hd",
           "hd official trailer venom 20th",
           14
          ],
          [
           "is mcdonalds garlic white cheddar burger really that bad",
           "test cooking gadgets bon appétit",
           6
          ],
          [
           "new lava fissures fuel fears of eruption in hawaii",
           "volcano hawaii eruption sobering spectacular",
           21
          ],
          [
           "the 75th annual golden globes  theres a lot to talk about promo",
           "lot 75th globes annual theres",
           39
          ],
          [
           "how to make your own subway sandwich",
           "gourmet make chocolate appétit bon",
           5
          ],
          [
           "fortnite with ninja  dude perfect",
           "fortnite royale ninja clash perfect",
           9
          ],
          [
           "how north and south korea came to march under one flag",
           "types gym people north yoga",
           28
          ],
          [
           "pouring diesel in liquid nitrogen",
           "built diving scuba pond fishing",
           25
          ],
          [
           "rita ora  girls ft cardi b bebe rexha  charli xcx official lyric video",
           "video lyric ft official rexha",
           35
          ],
          [
           "carla makes granola cluster cookies  from the test kitchen  bon appétit",
           "gourmet make chocolate appétit bon",
           5
          ],
          [
           "when you and your mates go snow boarding for the first time",
           "day waffles dreaming stop sleep",
           30
          ],
          [
           "lauv  chasing fire official audio",
           "audio official charlie day goes",
           33
          ],
          [
           "bill hader reveals what made him break on snl",
           "hader reveals break snl kevin",
           38
          ],
          [
           "dipclip  chicken nugget rally testing  how secure is your sauce",
           "test cooking gadgets bon appétit",
           6
          ],
          [
           "rihanna on her divine dress and cohosting with anna wintour  met gala 2018 with liza koshy",
           "mv twice hannah favourites 2018",
           8
          ],
          [
           "florence  the machine  sky full of song",
           "ft audio song blossom girl",
           34
          ],
          [
           "ufc 220 official weighin",
           "dead grandpa peace angry rest",
           27
          ],
          [
           "top 10 plays of the night  december 27 2017",
           "plays night 10 2018 january",
           1
          ],
          [
           "why cant i stop dreaming about waffles ",
           "day waffles dreaming stop sleep",
           30
          ],
          [
           "lucas the spider  captured",
           "movie went star wars film",
           12
          ],
          [
           "youre not edgy youre just lazy",
           "day waffles dreaming stop sleep",
           30
          ],
          [
           "i decided to sleep for 4 hours a day see what happened",
           "day waffles dreaming stop sleep",
           30
          ],
          [
           "the logistics of living in antarctica",
           "house bitcoin living antarctica earth",
           20
          ],
          [
           "oneplus 5t durability test scratch and bend tested",
           "iphone s9 galaxy samsung official",
           4
          ],
          [
           "rainbow paint on a speaker  12500fps  the slow mo guys",
           "slow mo guys 12500fps world",
           18
          ],
          [
           "my favorite thanksgiving recipe  mayim bialik",
           "test cooking gadgets bon appétit",
           6
          ],
          [
           "dem beats ft rupaul by todrick hall",
           "ft audio song blossom girl",
           34
          ],
          [
           "mega medley that was supposed to be 5 minutes but wasnt",
           "carpool karaoke song christmas 2018",
           41
          ],
          [
           "don diablo  higher ft  betty who  official music video",
           "official video minogue kylie demi",
           42
          ],
          [
           "jonny brenns sings georgia by vance joy  top 24 solos  american idol 2018 on abc",
           "carpool karaoke song christmas 2018",
           41
          ],
          [
           "this hidden 300 foot stretch of the berlin wall is still standing hbo",
           "volcano hawaii eruption sobering spectacular",
           21
          ],
          [
           "film theory the bee movie lied to you",
           "movie went star wars film",
           12
          ],
          [
           "getting some air atlas",
           "falcon heavy bridges divide minutes",
           22
          ],
          [
           "hailee steinfeld alesso  let me go ft florida georgia line watt",
           "ft audio song blossom girl",
           34
          ],
          [
           "the ultimate 30000 gaming pc setup",
           "setup google 30000 gaming ultimate",
           17
          ],
          [
           "kevin hart stopped by super bowl security",
           "hader reveals break snl kevin",
           38
          ],
          [
           "pastry chef attempts to make gourmet kit kats  gourmet makes  bon appétit",
           "gourmet make chocolate appétit bon",
           5
          ],
          [
           "i tried making kinetic sand",
           "built diving scuba pond fishing",
           25
          ],
          [
           "meet the worlds most terrifying caterpillar",
           "house bitcoin living antarctica earth",
           20
          ],
          [
           "full face testing 5 star 100 reviewed makeup from amazon  full day wear test",
           "makeup challenge new nikkietutorials green",
           23
          ],
          [
           "parked in my spot",
           "day waffles dreaming stop sleep",
           30
          ],
          [
           "dylan farrow details her sexual assault allegations against woody allen",
           "kimmel jimmy strangers katie gets",
           37
          ],
          [
           "vegan eggs benedict hunger warning",
           "test cooking gadgets bon appétit",
           6
          ],
          [
           "george ezra  saviour lyric video ft first aid kit",
           "video official lyric music love",
           43
          ],
          [
           "february favourites 2018  zoella",
           "mv twice hannah favourites 2018",
           8
          ],
          [
           "what working tech support is really like",
           "cat like dog caught laser",
           26
          ],
          [
           "why cant i stop dreaming about waffles ",
           "day waffles dreaming stop sleep",
           30
          ],
          [
           "i defied google  hacked an audio port onto google home mini then this happened",
           "setup google 30000 gaming ultimate",
           17
          ],
          [
           "the spider and the butterfly  animated short",
           "movie went star wars film",
           12
          ],
          [
           "we built the infinity gauntlet with 25000 magnets",
           "built diving scuba pond fishing",
           25
          ],
          [
           "iphone x  selfies on iphone x  apple",
           "iphone s9 galaxy samsung official",
           4
          ],
          [
           "incredibles 2 official trailer",
           "official trailer incredibles ralph mowgli",
           13
          ],
          [
           "creating the pandora conservation initiative utility suit",
           "makeup challenge new nikkietutorials green",
           23
          ],
          [
           "ralph breaks the internet wreckit ralph 2 official trailer",
           "official trailer incredibles ralph mowgli",
           13
          ],
          [
           "jaylen brown delivers emotional press conference after losing his best friend  boston celtics",
           "nba game vs espn starters",
           3
          ],
          [
           "zendaya stops interview to fix reporters hair",
           "mv twice hannah favourites 2018",
           8
          ],
          [
           "christina aguilera  fall in line official video ft demi lovato",
           "official video minogue kylie demi",
           42
          ],
          [
           "will smith asks strangers for money",
           "kimmel jimmy strangers katie gets",
           37
          ],
          [
           "melting every lipstick from sephora together",
           "makeup challenge new nikkietutorials green",
           23
          ],
          [
           "build shower tank",
           "built diving scuba pond fishing",
           25
          ],
          [
           "judge faith jenkins on syndicated court tv fair representation for heinous crimes   more",
           "lot 75th globes annual theres",
           39
          ],
          [
           "why the triple axel is such a big deal",
           "falcon heavy bridges divide minutes",
           22
          ],
          [
           "why bridges move",
           "falcon heavy bridges divide minutes",
           22
          ],
          [
           "jimmy kimmel gets a colonoscopy with katie couric",
           "kimmel jimmy strangers katie gets",
           37
          ],
          [
           "black panther scores second largest 2nd weekend box office in history  the john campea show",
           "honest trailers 2018 christopher nolan",
           11
          ],
          [
           "the best wiper blades in the world and why",
           "slow mo guys 12500fps world",
           18
          ],
          [
           "the smallest house in the world",
           "house bitcoin living antarctica earth",
           20
          ],
          [
           "honest trailers  the oscars 2018",
           "honest trailers 2018 christopher nolan",
           11
          ],
          [
           "the green makeup challenge  nikkietutorials",
           "makeup challenge new nikkietutorials green",
           23
          ],
          [
           "huge beauty favourites autumn loves",
           "mv twice hannah favourites 2018",
           8
          ],
          [
           "scuba diving and fishing underwater in a crystal clear pond caught a fish 26ft deep",
           "built diving scuba pond fishing",
           25
          ],
          [
           "investigating concussions in the nfl  the truth has a voice  the new york times",
           "plays night 10 2018 january",
           1
          ],
          [
           "brad makes sous vide steak  kitchen basics  bon appetit",
           "test cooking gadgets bon appétit",
           6
          ],
          [
           "why black americans are getting less sleep",
           "day waffles dreaming stop sleep",
           30
          ],
          [
           "dont buy the iphone x",
           "iphone s9 galaxy samsung official",
           4
          ],
          [
           "redskins vs cowboys  nfl week 13 game highlights",
           "highlights nfl 2018 vs play",
           2
          ],
          [
           "fia gt world cup 2017 qualification race macau grand prix huge pile up",
           "slow mo guys 12500fps world",
           18
          ],
          [
           "emergency goalie steals the show in chicago",
           "plays night 10 2018 january",
           1
          ],
          [
           "charlie puth  boy official audio",
           "audio official charlie day goes",
           33
          ],
          [
           "john cena on his split from nikki bella i had my heart broken out of nowhere  today",
           "season bachelorette heart kris jonathan",
           31
          ],
          [
           "shawn mendes carpool karaoke  latelateshawn",
           "carpool karaoke song christmas 2018",
           41
          ],
          [
           "every museum ever",
           "museum kids james target patience",
           15
          ],
          [
           "falcon heavy test flight",
           "falcon heavy bridges divide minutes",
           22
          ],
          [
           "the deadliest being on planet earth  the bacteriophage",
           "house bitcoin living antarctica earth",
           20
          ],
          [
           "tracy mcgrady on isaiah thomas to the lakers he cant bring an ego with him  the jump  espn",
           "nba game vs espn starters",
           3
          ],
          [
           "the cat who caught the laser",
           "cat like dog caught laser",
           26
          ],
          [
           "bangtan bomb mic drop special stage bts focus mama  bts 방탄소년단",
           "scientists space bts entire launching",
           10
          ],
          [
           "greg talks with  the school shooter who killed his son 25 years ago  storycorps",
           "lot 75th globes annual theres",
           39
          ],
          [
           "video сhat the cat is looking for daddy",
           "cat like dog caught laser",
           26
          ],
          [
           "the 1975  give yourself a try",
           "weezer try africa blackout 1975",
           32
          ],
          [
           "i built the boring company flamethrower",
           "built diving scuba pond fishing",
           25
          ],
          [
           "marcin szatanik  fiat 126p  quick off  true rally fans  darvit walimska wiosna 2018  grb",
           "slow mo guys 12500fps world",
           18
          ],
          [
           "imperialclass star destroyer  tie bomber",
           "falcon heavy bridges divide minutes",
           22
          ],
          [
           "reviewing movies we didnt see",
           "honest trailers 2018 christopher nolan",
           11
          ],
          [
           "panic at the disco high hopes audio",
           "audio official charlie day goes",
           33
          ],
          [
           "paramore fake happy official video",
           "video official lyric music love",
           43
          ],
          [
           "samsung galaxy s9 and s9 official introduction",
           "iphone s9 galaxy samsung official",
           4
          ],
          [
           "i tried following a simply nailogical makeup tutorial wow",
           "makeup tutorial tried following everyday",
           24
          ],
          [
           "diy curly mozzarella sticks  versus",
           "test cooking gadgets bon appétit",
           6
          ],
          [
           "makeover on my mom  patrickstarrr",
           "makeover gave hair jenner kylie",
           29
          ],
          [
           "scuba diving in pond for treasure i found it",
           "built diving scuba pond fishing",
           25
          ],
          [
           "untangling the devils corkscrew",
           "falcon heavy bridges divide minutes",
           22
          ],
          [
           "3rd quarter one box video cleveland cavaliers vs indiana pacers",
           "nba game vs espn starters",
           3
          ],
          [
           "mst3k 2017 yule log",
           "mv twice hannah favourites 2018",
           8
          ],
          [
           "how to actually finish something for once",
           "day waffles dreaming stop sleep",
           30
          ],
          [
           "real madrid vs liverpool  201718 uefa champions league final highlights",
           "highlights vs 201718 league uefa",
           0
          ],
          [
           "honest trailers  the greatest showman",
           "honest trailers 2018 christopher nolan",
           11
          ],
          [
           "what is pregnancy doing to my body",
           "pregnancy body doing growing like",
           19
          ],
          [
           "town hall 12 update is here clash of clans official",
           "fortnite royale ninja clash perfect",
           9
          ],
          [
           "imagine dragons  next to me",
           "weezer try africa blackout 1975",
           32
          ],
          [
           "zach quinto was busted for his fake starbucks name",
           "kimmel jimmy strangers katie gets",
           37
          ],
          [
           "anthem official cinematic trailer 2018",
           "official trailer incredibles ralph mowgli",
           13
          ],
          [
           "halsey  alone ft big sean stefflon don",
           "ft audio song blossom girl",
           34
          ],
          [
           "cooking birthday presents for my wife",
           "test cooking gadgets bon appétit",
           6
          ],
          [
           "astronaut chris hadfield debunks space myths  wired",
           "scientists space bts entire launching",
           10
          ],
          [
           "terry crews kevin hart tried to play mind games with me   conan on tbs",
           "hader reveals break snl kevin",
           38
          ],
          [
           "deadmau5 said this bassline is impossible",
           "audio official charlie day goes",
           33
          ],
          [
           "i gave myself a kim kardashian hair makeover ",
           "makeover gave hair jenner kylie",
           29
          ],
          [
           "sing anything challenge",
           "challenge sing christmas concert friends",
           36
          ],
          [
           "hotel artemis  official trailer hd  global road",
           "hd official trailer venom 20th",
           14
          ],
          [
           "lucas the spider  giant spider",
           "movie went star wars film",
           12
          ],
          [
           "jason aldean  you make it easy lyric video",
           "video official lyric music love",
           43
          ],
          [
           "spinners",
           "slow mo guys 12500fps world",
           18
          ],
          [
           "aubrey plaza and dan stevens hijack a strangers tinder  vanity fair",
           "kimmel jimmy strangers katie gets",
           37
          ],
          [
           "nba playoffs preview the starters",
           "nba game vs espn starters",
           3
          ],
          [
           "noah cyrus  we are lyric video ft mø",
           "video lyric ft official rexha",
           35
          ],
          [
           "love simon  official trailer 2 hd  20th century fox",
           "hd official trailer venom 20th",
           14
          ],
          [
           "tmobile ceo john legere  were bringing the uncarrier to tv",
           "iphone s9 galaxy samsung official",
           4
          ],
          [
           "i got 99 problems but being a girl aint one diy girls hacks and more by blossom",
           "ft audio song blossom girl",
           34
          ],
          [
           "andy samberg  breakfast club in memoriam tribute  2018 film independent spirit awards",
           "hader reveals break snl kevin",
           38
          ],
          [
           "halsey  alone audio ft big sean stefflon don",
           "ft audio song blossom girl",
           34
          ],
          [
           "jess glynne  ill be there official video",
           "official video minogue kylie demi",
           42
          ],
          [
           "mowgli  official 1st trailer",
           "official trailer incredibles ralph mowgli",
           13
          ],
          [
           "andy samberg  breakfast club in memoriam tribute  2018 film independent spirit awards",
           "hader reveals break snl kevin",
           38
          ],
          [
           "puppy bowl spot center top 5 plays",
           "plays night 10 2018 january",
           1
          ],
          [
           "supersized snail",
           "built diving scuba pond fishing",
           25
          ],
          [
           "michael b jordan goes sneaker shopping with complex",
           "mv twice hannah favourites 2018",
           8
          ],
          [
           "i got a perfect makeover based on my features",
           "makeover gave hair jenner kylie",
           29
          ],
          [
           "taylor swift  new years day fan performance",
           "camila cabello taylor swift audio",
           40
          ],
          [
           "honest trailer commentaries  the room",
           "honest trailers 2018 christopher nolan",
           11
          ],
          [
           "inside fc barcelonas ambitious plan to reinvent the camp nou by wired and audifootball",
           "highlights vs 201718 league uefa",
           0
          ],
          [
           "we should talk about what james harrison did",
           "museum kids james target patience",
           15
          ],
          [
           "controversial incomplete pass by jesse james steelers vs patriots",
           "highlights nfl 2018 vs play",
           2
          ],
          [
           "why a new york ice cream shop is releasing ham ice cream  the meat show",
           "test cooking gadgets bon appétit",
           6
          ],
          [
           "types of people at the gym",
           "types gym people north yoga",
           28
          ],
          [
           "telephone slipper prank  viralhog",
           "museum kids james target patience",
           15
          ],
          [
           "pitch perfect 3  riffoff clip hd",
           "hd official trailer venom 20th",
           14
          ],
          [
           "troye sivan  bloom lyric video",
           "video official lyric music love",
           43
          ],
          [
           "how a biker club helped stop bullying",
           "ranking friendship love 2017 getting",
           16
          ],
          [
           "how this island got 10 of their money by chance",
           "house bitcoin living antarctica earth",
           20
          ],
          [
           "barcelona vs chelsea  201718 uefa champions league highlights",
           "highlights vs 201718 league uefa",
           0
          ],
          [
           "royal blood  look like you know official video",
           "video official lyric music love",
           43
          ],
          [
           "dogs see their brother after 10 months   980323",
           "cat like dog caught laser",
           26
          ],
          [
           "honest trailers  jumanji",
           "honest trailers 2018 christopher nolan",
           11
          ],
          [
           "adam savage repairs totoro cosplay",
           "shorts cyanide happiness blind colour",
           7
          ],
          [
           "what do cats want for christmas  simons cat  logic",
           "cat like dog caught laser",
           26
          ],
          [
           "gorillaz  humility official video",
           "video official lyric music love",
           43
          ]
         ],
         "hovertemplate": "<b>Title:</b> %{customdata[0]} <br><b>Topics:</b> %{customdata[1]} <br><b>Cluster Id:</b> %{customdata[2]}<extra></extra>",
         "marker": {
          "color": [
           39,
           23,
           34,
           28,
           20,
           37,
           16,
           18,
           20,
           6,
           35,
           41,
           8,
           13,
           14,
           7,
           23,
           15,
           34,
           20,
           8,
           35,
           4,
           16,
           11,
           16,
           40,
           34,
           36,
           11,
           12,
           11,
           17,
           14,
           14,
           36,
           31,
           37,
           6,
           25,
           9,
           16,
           6,
           38,
           12,
           7,
           20,
           38,
           24,
           3,
           8,
           12,
           28,
           37,
           3,
           26,
           13,
           12,
           31,
           8,
           4,
           29,
           33,
           27,
           6,
           11,
           41,
           4,
           8,
           13,
           1,
           7,
           24,
           4,
           14,
           7,
           16,
           6,
           30,
           22,
           25,
           28,
           8,
           16,
           20,
           12,
           32,
           12,
           28,
           9,
           43,
           2,
           22,
           22,
           33,
           25,
           12,
           18,
           30,
           4,
           39,
           20,
           26,
           17,
           18,
           37,
           3,
           18,
           33,
           13,
           37,
           6,
           16,
           10,
           10,
           33,
           43,
           9,
           4,
           10,
           8,
           34,
           7,
           39,
           37,
           27,
           20,
           8,
           42,
           30,
           23,
           16,
           30,
           26,
           23,
           27,
           8,
           15,
           16,
           15,
           6,
           31,
           4,
           7,
           9,
           42,
           12,
           31,
           24,
           42,
           10,
           33,
           4,
           4,
           33,
           10,
           5,
           3,
           0,
           36,
           11,
           14,
           22,
           23,
           28,
           33,
           4,
           34,
           35,
           37,
           30,
           8,
           5,
           41,
           4,
           41,
           6,
           25,
           36,
           8,
           26,
           25,
           26,
           9,
           23,
           0,
           21,
           22,
           4,
           14,
           15,
           43,
           34,
           37,
           27,
           16,
           25,
           12,
           26,
           27,
           43,
           14,
           4,
           40,
           16,
           32,
           14,
           38,
           23,
           42,
           12,
           28,
           10,
           35,
           7,
           9,
           23,
           43,
           34,
           24,
           6,
           26,
           33,
           6,
           37,
           13,
           30,
           10,
           5,
           7,
           13,
           33,
           8,
           6,
           26,
           4,
           17,
           18,
           15,
           15,
           19,
           20,
           3,
           18,
           6,
           8,
           18,
           8,
           22,
           12,
           14,
           37,
           27,
           38,
           35,
           19,
           29,
           12,
           8,
           41,
           29,
           20,
           6,
           8,
           37,
           13,
           33,
           34,
           14,
           15,
           21,
           23,
           11,
           26,
           42,
           23,
           30,
           40,
           43,
           41,
           39,
           20,
           39,
           18,
           39,
           0,
           29,
           12,
           30,
           25,
           27,
           0,
           27,
           39,
           0,
           7,
           14,
           42,
           13,
           31,
           20,
           9,
           21,
           33,
           15,
           22,
           12,
           26,
           26,
           9,
           14,
           38,
           20,
           19,
           5,
           12,
           23,
           3,
           0,
           26,
           31,
           32,
           8,
           12,
           15,
           23,
           29,
           3,
           39,
           16,
           7,
           21,
           31,
           24,
           21,
           20,
           28,
           35,
           9,
           25,
           37,
           33,
           27,
           19,
           20,
           42,
           4,
           20,
           39,
           27,
           1,
           23,
           17,
           12,
           38,
           36,
           23,
           30,
           7,
           8,
           25,
           8,
           1,
           6,
           17,
           37,
           8,
           26,
           30,
           4,
           22,
           16,
           43,
           21,
           3,
           24,
           28,
           26,
           12,
           17,
           24,
           6,
           31,
           38,
           25,
           28,
           3,
           8,
           22,
           8,
           36,
           37,
           3,
           43,
           18,
           20,
           20,
           12,
           15,
           12,
           8,
           26,
           23,
           32,
           29,
           27,
           38,
           25,
           4,
           27,
           4,
           17,
           3,
           6,
           17,
           8,
           15,
           16,
           25,
           0,
           32,
           22,
           15,
           42,
           34,
           9,
           29,
           18,
           30,
           21,
           6,
           27,
           1,
           8,
           33,
           8,
           14,
           42,
           37,
           29,
           12,
           35,
           8,
           6,
           18,
           40,
           2,
           33,
           17,
           37,
           43,
           20,
           2,
           3,
           32,
           26,
           3,
           37,
           24,
           38,
           33,
           7,
           17,
           20,
           38,
           37,
           26,
           14,
           20,
           35,
           6,
           27,
           24,
           37,
           32,
           25,
           21,
           9,
           43,
           43,
           23,
           37,
           7,
           3,
           18,
           33,
           11,
           25,
           0,
           8,
           4,
           20,
           12,
           27,
           30,
           30,
           40,
           25,
           4,
           8,
           36,
           20,
           20,
           1,
           41,
           33,
           22,
           19,
           41,
           5,
           40,
           34,
           23,
           14,
           37,
           27,
           29,
           35,
           43,
           1,
           10,
           30,
           10,
           36,
           17,
           35,
           0,
           28,
           30,
           5,
           13,
           23,
           4,
           23,
           13,
           25,
           23,
           8,
           15,
           12,
           5,
           22,
           11,
           18,
           25,
           11,
           8,
           9,
           8,
           33,
           33,
           17,
           37,
           31,
           22,
           12,
           15,
           12,
           40,
           29,
           36,
           33,
           14,
           2,
           34,
           11,
           6,
           6,
           31,
           43,
           2,
           7,
           26,
           7,
           7,
           8,
           38,
           20,
           9,
           37,
           8,
           10,
           43,
           14,
           25,
           9,
           22,
           10,
           0,
           32,
           6,
           30,
           2,
           22,
           14,
           12,
           8,
           6,
           8,
           22,
           7,
           14,
           4,
           38,
           22,
           41,
           19,
           24,
           29,
           43,
           19,
           27,
           19,
           20,
           37,
           6,
           18,
           34,
           17,
           3,
           34,
           6,
           33,
           33,
           1,
           30,
           32,
           30,
           11,
           4,
           41,
           12,
           27,
           21,
           16,
           18,
           21,
           1,
           26,
           43,
           7,
           26,
           8,
           16,
           6,
           31,
           14,
           16,
           3,
           35,
           38,
           8,
           16,
           41,
           7,
           17,
           37,
           15,
           25,
           7,
           43,
           8,
           10,
           38,
           32,
           40,
           20,
           20,
           40,
           27,
           17,
           32,
           43,
           37,
           20,
           6,
           0,
           34,
           10,
           2,
           16,
           14,
           36,
           30,
           16,
           0,
           31,
           13,
           42,
           25,
           18,
           22,
           30,
           25,
           26,
           20,
           19,
           7,
           21,
           28,
           29,
           0,
           3,
           8,
           43,
           1,
           43,
           0,
           26,
           20,
           22,
           8,
           0,
           6,
           42,
           43,
           39,
           27,
           0,
           35,
           30,
           12,
           7,
           43,
           9,
           17,
           4,
           2,
           16,
           32,
           14,
           6,
           21,
           39,
           5,
           9,
           28,
           25,
           35,
           5,
           30,
           33,
           38,
           6,
           8,
           34,
           27,
           1,
           30,
           12,
           30,
           30,
           20,
           4,
           18,
           6,
           34,
           41,
           42,
           41,
           21,
           12,
           22,
           34,
           17,
           38,
           5,
           25,
           20,
           23,
           30,
           37,
           6,
           43,
           8,
           26,
           30,
           17,
           12,
           25,
           4,
           13,
           23,
           13,
           3,
           8,
           42,
           37,
           23,
           25,
           39,
           22,
           22,
           37,
           11,
           18,
           20,
           11,
           23,
           8,
           25,
           1,
           6,
           30,
           4,
           2,
           18,
           1,
           33,
           31,
           41,
           15,
           22,
           20,
           3,
           26,
           10,
           39,
           26,
           32,
           25,
           18,
           22,
           11,
           33,
           43,
           4,
           24,
           6,
           29,
           25,
           22,
           3,
           8,
           30,
           0,
           11,
           19,
           9,
           32,
           37,
           13,
           34,
           6,
           10,
           38,
           33,
           29,
           36,
           14,
           12,
           43,
           18,
           37,
           3,
           35,
           14,
           4,
           34,
           38,
           34,
           42,
           13,
           38,
           1,
           25,
           8,
           29,
           40,
           11,
           0,
           15,
           2,
           6,
           28,
           15,
           14,
           43,
           16,
           20,
           0,
           43,
           26,
           11,
           7,
           26,
           43
          ],
          "colorscale": [
           [
            0,
            "rgb(150,0,90)"
           ],
           [
            0.125,
            "rgb(0,0,200)"
           ],
           [
            0.25,
            "rgb(0,25,255)"
           ],
           [
            0.375,
            "rgb(0,152,255)"
           ],
           [
            0.5,
            "rgb(44,255,150)"
           ],
           [
            0.625,
            "rgb(151,255,0)"
           ],
           [
            0.75,
            "rgb(255,234,0)"
           ],
           [
            0.875,
            "rgb(255,111,0)"
           ],
           [
            1,
            "rgb(255,0,0)"
           ]
          ],
          "size": 2
         },
         "mode": "markers",
         "name": "Clustered",
         "type": "scattergl",
         "x": [
          11.024675369262695,
          7.38650369644165,
          11.803614616394043,
          9.712383270263672,
          7.757888317108154,
          11.500894546508789,
          9.630311965942383,
          8.007081031799316,
          7.822375297546387,
          6.294855117797852,
          11.109088897705078,
          11.420254707336426,
          9.734375953674316,
          11.090005874633789,
          11.620646476745605,
          7.06837272644043,
          7.58063268661499,
          8.847951889038086,
          11.697842597961426,
          7.679012775421143,
          9.394710540771484,
          10.909464836120605,
          6.010327339172363,
          9.734484672546387,
          11.206846237182617,
          9.78661823272705,
          11.095269203186035,
          11.835649490356445,
          11.694844245910645,
          11.217399597167969,
          10.502217292785645,
          11.477326393127441,
          6.7638020515441895,
          11.627327919006348,
          11.413217544555664,
          11.890914916992188,
          10.875421524047852,
          11.769270896911621,
          6.316532611846924,
          6.898446083068848,
          9.791770935058594,
          9.724690437316895,
          6.115250110626221,
          11.325804710388184,
          10.063240051269531,
          7.123592376708984,
          8.181779861450195,
          11.318721771240234,
          7.473758220672607,
          9.729850769042969,
          9.822843551635742,
          10.371692657470703,
          9.840094566345215,
          11.502801895141602,
          9.754586219787598,
          7.256402015686035,
          11.202404975891113,
          10.447348594665527,
          10.99185848236084,
          9.925996780395508,
          6.070095539093018,
          8.15634536743164,
          12.35049057006836,
          10.66218376159668,
          6.197290897369385,
          11.217606544494629,
          11.354755401611328,
          6.160649299621582,
          10.110261917114258,
          11.129753112792969,
          9.450431823730469,
          7.258251190185547,
          7.542856693267822,
          6.010042190551758,
          11.322004318237305,
          7.177295684814453,
          9.859481811523438,
          6.2379961013793945,
          8.388338088989258,
          8.526379585266113,
          7.0385332107543945,
          9.75523853302002,
          10.123263359069824,
          9.64286994934082,
          8.27980899810791,
          10.868207931518555,
          12.149360656738281,
          10.681341171264648,
          9.675077438354492,
          9.520630836486816,
          10.643864631652832,
          9.19460678100586,
          8.530673027038574,
          8.69406795501709,
          12.078216552734375,
          7.6475138664245605,
          10.034650802612305,
          7.658596515655518,
          7.975708484649658,
          6.17422342300415,
          10.913673400878906,
          7.9473114013671875,
          7.594418525695801,
          6.859864234924316,
          7.634457588195801,
          11.767328262329102,
          9.608447074890137,
          7.698673248291016,
          12.048215866088867,
          11.234461784362793,
          11.391087532043457,
          6.2784271240234375,
          9.562978744506836,
          9.59935188293457,
          9.60617733001709,
          12.498497009277344,
          10.778663635253906,
          9.633011817932129,
          6.336796760559082,
          9.488009452819824,
          9.73788833618164,
          11.745366096496582,
          6.889521598815918,
          10.726990699768066,
          11.496383666992188,
          10.69240951538086,
          8.166913032531738,
          8.976239204406738,
          10.67656135559082,
          8.718575477600098,
          7.3672380447387695,
          9.565033912658691,
          8.71547794342041,
          7.263607978820801,
          7.3366379737854,
          10.673089981079102,
          9.413758277893066,
          8.84875774383545,
          8.937373161315918,
          8.996316909790039,
          6.207672119140625,
          10.938946723937988,
          6.2521820068359375,
          7.137821674346924,
          9.879785537719727,
          10.58703899383545,
          10.26441764831543,
          10.970536231994629,
          7.405807971954346,
          10.501663208007812,
          9.48006534576416,
          12.394001007080078,
          6.375776767730713,
          5.98396110534668,
          12.211185455322266,
          9.26244068145752,
          5.92646598815918,
          9.79951000213623,
          8.74120807647705,
          11.77368450164795,
          11.359284400939941,
          11.470577239990234,
          8.340577125549316,
          7.332187652587891,
          9.61025333404541,
          12.119952201843262,
          6.098362922668457,
          11.787409782409668,
          11.212300300598145,
          11.689287185668945,
          8.537720680236816,
          9.692851066589355,
          5.79810094833374,
          11.408035278320312,
          6.368679523468018,
          11.371811866760254,
          6.261422157287598,
          7.7916059494018555,
          11.677437782287598,
          9.414594650268555,
          7.181451797485352,
          6.900633811950684,
          7.173803329467773,
          9.60361385345459,
          7.495630264282227,
          8.701976776123047,
          8.393205642700195,
          8.538288116455078,
          6.017837047576904,
          11.484130859375,
          8.77601146697998,
          11.11194133758545,
          11.803177833557129,
          11.33586597442627,
          10.98388385772705,
          9.782266616821289,
          7.742559909820557,
          10.456924438476562,
          7.519936561584473,
          10.633439064025879,
          10.63158130645752,
          11.526561737060547,
          6.2476630210876465,
          11.369332313537598,
          9.797792434692383,
          12.2843656539917,
          11.346222877502441,
          11.435065269470215,
          7.4436421394348145,
          10.482731819152832,
          10.800705909729004,
          9.664929389953613,
          9.432809829711914,
          11.142960548400879,
          7.031856536865234,
          9.739778518676758,
          7.470525741577148,
          10.784080505371094,
          11.791947364807129,
          7.596920490264893,
          6.254238605499268,
          7.237146377563477,
          12.077659606933594,
          6.046346187591553,
          11.407774925231934,
          11.178831100463867,
          8.252950668334961,
          9.4451265335083,
          5.9179229736328125,
          6.865784168243408,
          11.272310256958008,
          11.87906265258789,
          9.81538200378418,
          6.254975318908691,
          7.551485061645508,
          6.205906867980957,
          6.955898761749268,
          8.184322357177734,
          9.045499801635742,
          8.852785110473633,
          9.00702953338623,
          7.497133731842041,
          9.75747013092041,
          7.549840927124023,
          6.4078593254089355,
          10.091216087341309,
          8.027085304260254,
          10.262420654296875,
          8.573332786560059,
          10.376916885375977,
          11.399724960327148,
          11.690825462341309,
          10.289012908935547,
          11.298027038574219,
          11.0802583694458,
          9.127941131591797,
          8.100546836853027,
          10.458930969238281,
          10.089444160461426,
          11.428826332092285,
          8.147660255432129,
          7.687685012817383,
          5.958526134490967,
          8.890745162963867,
          11.379141807556152,
          11.130825996398926,
          12.462442398071289,
          11.703733444213867,
          11.456415176391602,
          8.928065299987793,
          8.399697303771973,
          7.402893543243408,
          11.261570930480957,
          7.219549655914307,
          10.486701011657715,
          7.2495341300964355,
          7.81679630279541,
          11.077775955200195,
          10.762733459472656,
          11.541600227355957,
          10.856985092163086,
          8.370201110839844,
          10.842293739318848,
          7.665074825286865,
          10.762697219848633,
          8.733076095581055,
          8.10011100769043,
          10.252378463745117,
          7.881296157836914,
          7.028653621673584,
          10.431480407714844,
          8.66564655303955,
          10.769576072692871,
          10.78799057006836,
          8.798641204833984,
          7.053850173950195,
          11.532044410705566,
          10.529855728149414,
          11.09903621673584,
          10.85055923461914,
          8.166481018066406,
          9.839122772216797,
          8.43746566772461,
          12.306248664855957,
          8.971649169921875,
          8.445241928100586,
          10.238577842712402,
          7.618443489074707,
          7.4352126121521,
          9.647364616394043,
          11.48572826385498,
          11.38188648223877,
          8.098843574523926,
          8.766727447509766,
          5.829769134521484,
          10.754169464111328,
          7.301527976989746,
          9.768808364868164,
          8.783636093139648,
          7.340798854827881,
          10.926794052124023,
          12.118288040161133,
          9.974088668823242,
          10.911099433898926,
          8.949110984802246,
          7.3262200355529785,
          8.10805892944336,
          9.741333961486816,
          10.543746948242188,
          9.592376708984375,
          7.100534915924072,
          8.426335334777832,
          10.877699851989746,
          7.603274345397949,
          8.329888343811035,
          8.450332641601562,
          9.858864784240723,
          11.034636497497559,
          9.69857406616211,
          7.743127822875977,
          11.762659072875977,
          12.062284469604492,
          10.964962005615234,
          9.095190048217773,
          8.338547706604004,
          10.54210376739502,
          6.207139492034912,
          8.418187141418457,
          10.712345123291016,
          10.436147689819336,
          9.452857971191406,
          7.435198783874512,
          6.7988739013671875,
          10.729246139526367,
          11.318723678588867,
          11.782387733459473,
          7.184494495391846,
          8.575565338134766,
          7.276074409484863,
          9.670476913452148,
          7.245713710784912,
          9.774104118347168,
          9.488767623901367,
          6.173859596252441,
          6.737761497497559,
          11.697165489196777,
          9.7622709274292,
          7.502913475036621,
          7.957808494567871,
          6.636194229125977,
          8.65683364868164,
          9.331310272216797,
          10.921996116638184,
          8.404082298278809,
          9.802549362182617,
          7.468830585479736,
          9.726019859313965,
          7.510818004608154,
          10.085679054260254,
          6.738880157470703,
          7.516058921813965,
          6.3413214683532715,
          11.037895202636719,
          11.121516227722168,
          7.739086151123047,
          9.694479942321777,
          9.738604545593262,
          10.066699981689453,
          8.61365032196045,
          10.01037883758545,
          11.81832504272461,
          11.36245346069336,
          9.59589958190918,
          10.807389259338379,
          7.8876166343688965,
          8.308642387390137,
          8.28490161895752,
          10.631204605102539,
          9.150466918945312,
          10.409868240356445,
          9.132057189941406,
          7.216469764709473,
          7.315422058105469,
          12.290724754333496,
          8.063804626464844,
          10.279458045959473,
          11.408214569091797,
          7.165496826171875,
          6.219488143920898,
          10.66099739074707,
          6.21034049987793,
          6.905220031738281,
          9.773706436157227,
          6.165576934814453,
          6.798740386962891,
          9.66516399383545,
          9.129385948181152,
          9.928803443908691,
          7.054561614990234,
          8.72751235961914,
          12.34327220916748,
          8.30282974243164,
          8.884481430053711,
          10.543351173400879,
          11.791460037231445,
          9.604002952575684,
          8.030332565307617,
          7.749192237854004,
          8.3102388381958,
          8.420909881591797,
          6.052864074707031,
          10.954227447509766,
          9.40259075164795,
          9.038660049438477,
          12.417055130004883,
          10.156957626342773,
          11.563103675842285,
          10.516361236572266,
          11.508722305297852,
          8.1982421875,
          10.822442054748535,
          11.169846534729004,
          9.88998794555664,
          6.262622833251953,
          7.655158996582031,
          10.974430084228516,
          9.129612922668457,
          12.379953384399414,
          7.136735916137695,
          11.620534896850586,
          10.822859764099121,
          8.163923263549805,
          9.156035423278809,
          9.552850723266602,
          12.235742568969727,
          7.289859771728516,
          9.701408386230469,
          11.586312294006348,
          7.570758819580078,
          11.464348793029785,
          12.18010139465332,
          7.249289035797119,
          6.691561698913574,
          8.278595924377441,
          11.362051963806152,
          11.244492530822754,
          7.487077713012695,
          11.306560516357422,
          8.17585277557373,
          11.067883491516113,
          6.0774970054626465,
          10.404035568237305,
          7.408848285675049,
          11.696533203125,
          12.273990631103516,
          7.146965980529785,
          8.453665733337402,
          9.808392524719238,
          11.079989433288574,
          10.564475059509277,
          7.309247016906738,
          11.132697105407715,
          7.008450984954834,
          9.491040229797363,
          7.934661865234375,
          12.079493522644043,
          11.18504524230957,
          7.27551794052124,
          8.674903869628906,
          10.088788032531738,
          6.240472316741943,
          7.675686836242676,
          10.408597946166992,
          11.142342567443848,
          8.837625503540039,
          8.359128952026367,
          10.98532485961914,
          7.579689979553223,
          6.174790859222412,
          10.111909866333008,
          11.772985458374023,
          8.179853439331055,
          8.166254997253418,
          9.422233581542969,
          11.343340873718262,
          12.469867706298828,
          8.437512397766113,
          9.194178581237793,
          11.461128234863281,
          5.8809099197387695,
          11.0346097946167,
          11.870174407958984,
          7.5840606689453125,
          11.351509094238281,
          11.412764549255371,
          10.516880989074707,
          8.072429656982422,
          10.937110900878906,
          10.526313781738281,
          9.423365592956543,
          9.651759147644043,
          8.348821640014648,
          9.559661865234375,
          11.778748512268066,
          7.09456205368042,
          11.057991027832031,
          8.763520240783691,
          9.772453308105469,
          8.336504936218262,
          5.820931434631348,
          11.142925262451172,
          7.311376094818115,
          6.1125993728637695,
          7.470857620239258,
          11.096988677978516,
          7.788886547088623,
          7.2840800285339355,
          9.53524112701416,
          8.948907852172852,
          10.90009593963623,
          5.9414286613464355,
          8.680509567260742,
          11.216821670532227,
          7.677964210510254,
          7.834530830383301,
          11.296086311340332,
          9.707598686218262,
          9.716362953186035,
          9.826650619506836,
          12.165977478027344,
          12.290892601013184,
          6.685216426849365,
          11.76101016998291,
          10.755971908569336,
          8.297979354858398,
          10.890095710754395,
          8.98681640625,
          10.827544212341309,
          10.994056701660156,
          7.9988932609558105,
          11.632561683654785,
          12.416288375854492,
          11.56643295288086,
          9.090179443359375,
          11.80477237701416,
          11.069738388061523,
          6.076958179473877,
          6.1563401222229,
          10.7415771484375,
          10.523909568786621,
          9.222037315368652,
          7.046690464019775,
          7.2217841148376465,
          7.2702717781066895,
          7.24974250793457,
          9.818920135498047,
          11.454853057861328,
          7.663623332977295,
          9.842538833618164,
          11.828484535217285,
          9.519537925720215,
          9.62736701965332,
          11.249364852905273,
          11.369492530822754,
          6.9655442237854,
          9.719856262207031,
          8.56435489654541,
          9.616536140441895,
          8.686007499694824,
          12.353070259094238,
          6.113985061645508,
          8.01076889038086,
          9.14204216003418,
          8.569293022155762,
          11.509081840515137,
          10.227706909179688,
          9.960409164428711,
          6.146150588989258,
          9.759698867797852,
          8.246159553527832,
          7.047228813171387,
          11.502326011657715,
          6.028017997741699,
          11.319374084472656,
          8.389846801757812,
          11.406423568725586,
          8.94653606414795,
          7.3600687980651855,
          8.08346939086914,
          10.489226341247559,
          9.020132064819336,
          10.761513710021973,
          8.926018714904785,
          8.27177619934082,
          11.726203918457031,
          6.255501747131348,
          7.5830817222595215,
          11.873529434204102,
          6.819055557250977,
          9.472416877746582,
          11.856977462768555,
          6.3634796142578125,
          12.0079984664917,
          12.349663734436035,
          9.511344909667969,
          8.403718948364258,
          12.25859260559082,
          7.932967662811279,
          11.168462753295898,
          6.201240539550781,
          11.553524017333984,
          10.929224967956543,
          10.605140686035156,
          8.57073974609375,
          9.601568222045898,
          7.603978157043457,
          8.462071418762207,
          9.479752540588379,
          7.226570129394531,
          10.738317489624023,
          7.343238353729248,
          7.566868782043457,
          9.044472694396973,
          9.53195858001709,
          6.157635688781738,
          10.753799438476562,
          11.386873245239258,
          9.488304138183594,
          9.53298282623291,
          10.988776206970215,
          11.485356330871582,
          9.152998924255371,
          9.14996337890625,
          11.47738265991211,
          6.867836952209473,
          6.778525352478027,
          11.808036804199219,
          8.919174194335938,
          7.338042259216309,
          7.27036714553833,
          10.764424324035645,
          9.520459175109863,
          9.407509803771973,
          11.247304916381836,
          12.200024604797363,
          11.112676620483398,
          8.03764533996582,
          8.269503593444824,
          11.239023208618164,
          10.713081359863281,
          6.828090667724609,
          12.30988597869873,
          10.883170127868652,
          11.773911476135254,
          7.916670322418213,
          6.108877658843994,
          8.747770309448242,
          11.803565979003906,
          9.227639198303223,
          9.06305980682373,
          9.322145462036133,
          11.385963439941406,
          11.770902633666992,
          7.906012535095215,
          9.196945190429688,
          8.600924491882324,
          10.897990226745605,
          11.168988227844238,
          10.463461875915527,
          7.433421611785889,
          7.6027374267578125,
          8.352499961853027,
          8.080121994018555,
          7.899166584014893,
          7.458849906921387,
          7.64108943939209,
          9.134660720825195,
          7.307796478271484,
          8.454245567321777,
          9.738382339477539,
          7.878940582275391,
          8.739655494689941,
          9.532434463500977,
          10.249423027038574,
          10.65874195098877,
          9.3965482711792,
          11.258965492248535,
          8.67660140991211,
          7.323758602142334,
          7.74410343170166,
          8.328425407409668,
          9.651944160461426,
          8.863922119140625,
          6.114065170288086,
          10.541013717651367,
          10.628423690795898,
          10.901739120483398,
          10.802857398986816,
          8.738348960876465,
          11.117325782775879,
          8.275044441223145,
          10.244877815246582,
          7.263826370239258,
          10.793599128723145,
          9.577130317687988,
          6.811773300170898,
          6.200965881347656,
          9.173698425292969,
          9.850918769836426,
          12.175897598266602,
          11.369486808776855,
          6.097098350524902,
          8.441617965698242,
          10.843941688537598,
          5.999100208282471,
          9.695199966430664,
          9.660850524902344,
          7.7017951011657715,
          11.012446403503418,
          5.858603477478027,
          8.378744125366211,
          12.449660301208496,
          11.425745964050293,
          6.168827056884766,
          9.803536415100098,
          11.726385116577148,
          10.312821388244629,
          9.392522811889648,
          8.324917793273926,
          10.227973937988281,
          8.237088203430176,
          7.847198009490967,
          8.202181816101074,
          6.184200286865234,
          7.653561592102051,
          6.269752025604248,
          11.754773139953613,
          11.483611106872559,
          10.680105209350586,
          11.459623336791992,
          8.43507194519043,
          10.567194938659668,
          8.593268394470215,
          11.865704536437988,
          6.769639492034912,
          11.303177833557129,
          5.8559346199035645,
          7.406534194946289,
          7.604553699493408,
          7.306655406951904,
          8.539530754089355,
          11.583191871643066,
          6.290229797363281,
          10.805103302001953,
          9.772638320922852,
          7.600492477416992,
          8.290678977966309,
          7.053316116333008,
          10.184518814086914,
          7.821130275726318,
          6.23904275894165,
          11.163405418395996,
          7.409444332122803,
          11.086027145385742,
          9.635817527770996,
          8.892524719238281,
          10.619223594665527,
          11.641010284423828,
          7.299864292144775,
          7.462258815765381,
          10.714122772216797,
          8.640084266662598,
          8.623424530029297,
          11.703258514404297,
          11.244949340820312,
          7.546045780181885,
          8.280000686645508,
          11.326642990112305,
          7.475315570831299,
          9.554635047912598,
          6.950001239776611,
          9.326108932495117,
          6.19861364364624,
          7.929275035858154,
          6.217959880828857,
          9.15073013305664,
          8.051061630249023,
          9.405391693115234,
          12.45262622833252,
          10.903202056884766,
          11.48021125793457,
          8.801885604858398,
          8.376886367797852,
          7.660067081451416,
          9.689220428466797,
          7.550570964813232,
          9.58414077758789,
          10.396400451660156,
          7.567749977111816,
          12.145950317382812,
          7.7437663078308105,
          7.959290981292725,
          8.232911109924316,
          11.268774032592773,
          12.350648880004883,
          10.728206634521484,
          5.997515678405762,
          7.420445442199707,
          6.128011703491211,
          8.212871551513672,
          7.152372360229492,
          8.54095458984375,
          9.496163368225098,
          10.03737735748291,
          8.216769218444824,
          8.749930381774902,
          11.220505714416504,
          9.011064529418945,
          9.804178237915039,
          12.288108825683594,
          11.53062629699707,
          11.30527114868164,
          11.677608489990234,
          6.249408721923828,
          9.416064262390137,
          11.350461959838867,
          12.262011528015137,
          8.016603469848633,
          11.70649242401123,
          11.348761558532715,
          10.16972541809082,
          10.765165328979492,
          7.8485331535339355,
          11.71645736694336,
          9.626776695251465,
          11.138317108154297,
          11.598448753356934,
          6.017967224121094,
          11.815028190612793,
          11.392497062683105,
          11.73337173461914,
          10.35860538482666,
          11.149139404296875,
          11.381973266601562,
          9.449731826782227,
          7.054515838623047,
          9.022237777709961,
          8.104605674743652,
          10.978906631469727,
          11.229516983032227,
          8.6173734664917,
          9.099997520446777,
          9.290163040161133,
          6.1237263679504395,
          9.749190330505371,
          8.81734848022461,
          11.413588523864746,
          10.815947532653809,
          9.931235313415527,
          8.357027053833008,
          8.743368148803711,
          11.173148155212402,
          7.192727088928223,
          11.161630630493164,
          7.112688064575195,
          7.35444974899292,
          10.900535583496094
         ],
         "xaxis": "x",
         "y": [
          10.5292387008667,
          13.021943092346191,
          13.49069881439209,
          10.248902320861816,
          10.338629722595215,
          10.812301635742188,
          11.35400104522705,
          8.397483825683594,
          9.989646911621094,
          11.366616249084473,
          14.444151878356934,
          12.799076080322266,
          12.192475318908691,
          7.896332263946533,
          7.468697547912598,
          12.267355918884277,
          12.988096237182617,
          10.525208473205566,
          13.406582832336426,
          10.242255210876465,
          12.199563980102539,
          14.172569274902344,
          8.833243370056152,
          11.135375022888184,
          8.645774841308594,
          11.064107894897461,
          13.079643249511719,
          13.630839347839355,
          12.422148704528809,
          8.651126861572266,
          8.97687816619873,
          8.713203430175781,
          8.671180725097656,
          7.448008060455322,
          7.555156230926514,
          12.381378173828125,
          11.623565673828125,
          10.72683334350586,
          11.269190788269043,
          10.009943008422852,
          8.339803695678711,
          11.137290954589844,
          11.531479835510254,
          10.177978515625,
          9.357572555541992,
          12.225499153137207,
          9.94454574584961,
          10.216165542602539,
          13.44457721710205,
          7.032750129699707,
          12.668554306030273,
          9.088139533996582,
          10.108783721923828,
          11.019848823547363,
          7.039220809936523,
          10.579678535461426,
          7.969486713409424,
          9.099284172058105,
          11.429359436035156,
          12.034299850463867,
          8.91615104675293,
          12.190383911132812,
          13.780962944030762,
          9.955244064331055,
          11.506474494934082,
          8.647538185119629,
          12.923107147216797,
          9.094099998474121,
          12.672113418579102,
          7.923091411590576,
          7.355369567871094,
          12.177026748657227,
          13.355125427246094,
          8.858989715576172,
          7.589547634124756,
          12.065671920776367,
          11.224560737609863,
          11.475433349609375,
          10.94902515411377,
          8.82294750213623,
          9.851829528808594,
          10.047577857971191,
          12.538926124572754,
          11.132429122924805,
          10.280417442321777,
          9.034836769104004,
          13.067994117736816,
          9.178897857666016,
          10.010769844055176,
          8.350093841552734,
          14.373170852661133,
          6.99653959274292,
          8.937775611877441,
          8.872445106506348,
          13.769176483154297,
          9.461568832397461,
          9.290190696716309,
          8.423140525817871,
          11.25832462310791,
          9.118096351623535,
          10.611530303955078,
          9.917691230773926,
          11.006464958190918,
          8.820809364318848,
          8.492018699645996,
          10.750510215759277,
          6.817420482635498,
          8.451085090637207,
          13.754703521728516,
          8.004145622253418,
          11.01462459564209,
          11.25163459777832,
          11.097505569458008,
          8.777960777282715,
          9.17380428314209,
          13.776552200317383,
          14.719347953796387,
          8.387451171875,
          9.22187328338623,
          9.133368492126465,
          12.383047103881836,
          13.463033676147461,
          12.246567726135254,
          10.672107696533203,
          10.988443374633789,
          10.069751739501953,
          10.225823402404785,
          12.318621635437012,
          13.945216178894043,
          11.147895812988281,
          13.127320289611816,
          11.035527229309082,
          11.269353866577148,
          10.611233711242676,
          12.925409317016602,
          10.135612487792969,
          12.492401123046875,
          10.176702499389648,
          11.137517929077148,
          10.31350040435791,
          11.694586753845215,
          11.577757835388184,
          9.149005889892578,
          12.175760269165039,
          8.1328706741333,
          14.006495475769043,
          9.228055953979492,
          11.354005813598633,
          13.402884483337402,
          13.780102729797363,
          8.958288192749023,
          13.680695533752441,
          9.220335006713867,
          8.80560302734375,
          13.651951789855957,
          9.014097213745117,
          11.293641090393066,
          7.126476287841797,
          6.659228324890137,
          12.387582778930664,
          8.644804000854492,
          7.597799777984619,
          8.664989471435547,
          13.041925430297852,
          10.240897178649902,
          13.592729568481445,
          8.997123718261719,
          13.620294570922852,
          14.280841827392578,
          10.974266052246094,
          11.334399223327637,
          12.662101745605469,
          11.210646629333496,
          12.884320259094238,
          9.215479850769043,
          12.813728332519531,
          11.702391624450684,
          9.445672988891602,
          12.614543914794922,
          12.231535911560059,
          10.642753601074219,
          10.08437442779541,
          10.441324234008789,
          8.64620304107666,
          12.953103065490723,
          6.6592607498168945,
          9.378777503967285,
          8.93598461151123,
          8.781756401062012,
          7.558620929718018,
          10.429712295532227,
          14.73453426361084,
          13.259076118469238,
          11.226584434509277,
          10.002978324890137,
          11.299227714538574,
          9.38592529296875,
          9.116527557373047,
          10.871822357177734,
          10.086291313171387,
          14.528726577758789,
          7.539373397827148,
          9.109452247619629,
          13.140069961547852,
          11.212747573852539,
          13.239327430725098,
          7.666780471801758,
          10.195099830627441,
          12.857697486877441,
          13.793869018554688,
          9.049229621887207,
          10.234522819519043,
          8.961668968200684,
          14.212018966674805,
          12.125484466552734,
          8.237076759338379,
          13.106773376464844,
          14.725284576416016,
          13.641283988952637,
          13.317381858825684,
          11.587836265563965,
          10.542478561401367,
          13.782646179199219,
          11.574220657348633,
          11.153227806091309,
          7.965529918670654,
          11.287772178649902,
          9.108227729797363,
          11.288820266723633,
          12.251052856445312,
          7.983762264251709,
          13.774442672729492,
          12.662936210632324,
          11.324734687805176,
          10.963748931884766,
          9.166120529174805,
          8.547731399536133,
          8.59802532196045,
          9.884105682373047,
          10.202140808105469,
          11.735231399536133,
          10.385639190673828,
          7.010365009307861,
          8.544273376464844,
          11.323880195617676,
          12.388219833374023,
          8.534148216247559,
          12.719425201416016,
          9.01441764831543,
          8.89564323425293,
          7.624477386474609,
          10.926318168640137,
          9.981135368347168,
          10.493958473205566,
          14.329976081848145,
          11.768122673034668,
          12.27374267578125,
          9.093756675720215,
          12.63204574584961,
          12.550235748291016,
          12.160133361816406,
          10.251322746276855,
          11.722224235534668,
          12.263503074645996,
          11.237178802490234,
          7.938100814819336,
          13.727606773376465,
          13.53487491607666,
          7.526700973510742,
          10.331138610839844,
          9.41292953491211,
          12.878567695617676,
          8.672453880310059,
          10.615484237670898,
          14.136693954467773,
          13.13546085357666,
          11.283629417419434,
          13.124411582946777,
          14.539862632751465,
          12.813837051391602,
          10.569467544555664,
          9.978815078735352,
          10.612442970275879,
          8.432694435119629,
          10.649185180664062,
          6.688912391662598,
          12.119830131530762,
          9.193111419677734,
          11.447225570678711,
          10.010061264038086,
          10.014747619628906,
          6.85111665725708,
          10.007771492004395,
          10.531606674194336,
          6.662542819976807,
          12.26688289642334,
          7.559160232543945,
          13.784645080566406,
          7.9419989585876465,
          11.49343490600586,
          9.96674633026123,
          8.211769104003906,
          9.380948066711426,
          13.629011154174805,
          9.630266189575195,
          8.731911659240723,
          9.242668151855469,
          10.847126007080078,
          10.939927101135254,
          8.198186874389648,
          7.522180557250977,
          10.550125122070312,
          9.93743896484375,
          11.602574348449707,
          11.153411865234375,
          9.068048477172852,
          12.983657836914062,
          7.15214204788208,
          6.7500200271606445,
          10.893328666687012,
          11.485222816467285,
          13.12771987915039,
          12.794363975524902,
          9.08683967590332,
          10.022797584533691,
          13.098505020141602,
          12.244068145751953,
          7.049224376678467,
          10.638581275939941,
          11.352946281433105,
          12.293177604675293,
          9.333086013793945,
          11.663789749145508,
          13.336041450500488,
          9.347677230834961,
          9.927630424499512,
          10.306906700134277,
          14.22164249420166,
          8.212311744689941,
          9.383848190307617,
          10.813718795776367,
          13.797060012817383,
          10.113900184631348,
          11.765089988708496,
          10.166211128234863,
          13.919109344482422,
          9.027894020080566,
          10.141518592834473,
          10.651138305664062,
          9.920655250549316,
          7.3683295249938965,
          12.941734313964844,
          8.662947654724121,
          9.130524635314941,
          10.42811393737793,
          12.485310554504395,
          13.000773429870605,
          10.851340293884277,
          12.093026161193848,
          12.52412223815918,
          10.38280200958252,
          12.573920249938965,
          7.381989002227783,
          11.558869361877441,
          8.644514083862305,
          10.963102340698242,
          12.406319618225098,
          10.932851791381836,
          11.27176284790039,
          9.134261131286621,
          8.929656982421875,
          11.108378410339355,
          14.736469268798828,
          9.339797019958496,
          7.083406925201416,
          13.310633659362793,
          10.112539291381836,
          10.910994529724121,
          9.251279830932617,
          8.66828441619873,
          13.401836395263672,
          11.396241188049316,
          11.476730346679688,
          10.682001113891602,
          9.503693580627441,
          10.240056991577148,
          7.047548294067383,
          11.966995239257812,
          8.901701927185059,
          12.827010154724121,
          12.430525779724121,
          10.847087860107422,
          6.858887672424316,
          14.759995460510254,
          8.515470504760742,
          9.928277969360352,
          9.868759155273438,
          9.067852020263672,
          10.188295364379883,
          8.989007949829102,
          12.518197059631348,
          10.607698440551758,
          13.216730117797852,
          13.311142921447754,
          12.111824989318848,
          9.879172325134277,
          10.389350891113281,
          10.058765411376953,
          9.083455085754395,
          10.07242488861084,
          9.07980728149414,
          8.897356986999512,
          7.073022365570068,
          11.396734237670898,
          8.532011032104492,
          12.165962219238281,
          10.108366012573242,
          11.005824089050293,
          9.853155136108398,
          6.701889514923096,
          13.319286346435547,
          8.726197242736816,
          10.141772270202637,
          14.186966896057129,
          13.252201080322266,
          8.128449440002441,
          11.979752540588379,
          8.35419750213623,
          11.288463592529297,
          9.396279335021973,
          11.754364967346191,
          10.14128589630127,
          7.333701133728027,
          12.519970893859863,
          13.72260856628418,
          12.674735069274902,
          7.521536827087402,
          13.91451644897461,
          10.88305377960205,
          12.033844947814941,
          9.048505783081055,
          14.233197212219238,
          12.700292587280273,
          11.313000679016113,
          8.429281234741211,
          13.149225234985352,
          6.992335319519043,
          13.724347114562988,
          8.972075462341309,
          10.9223051071167,
          14.7689847946167,
          9.967201232910156,
          6.975543022155762,
          6.988465785980225,
          13.136073112487793,
          10.679464340209961,
          7.107842922210693,
          10.878609657287598,
          13.296229362487793,
          10.296725273132324,
          13.63300895690918,
          12.139435768127441,
          8.835472106933594,
          9.93310832977295,
          10.212682723999023,
          11.195364952087402,
          10.80933952331543,
          7.584136009216309,
          9.968901634216309,
          14.363676071166992,
          11.754592895507812,
          9.880395889282227,
          13.427840232849121,
          10.881237983703613,
          13.372036933898926,
          10.006077766418457,
          9.369507789611816,
          8.11843490600586,
          14.716475486755371,
          14.497563362121582,
          13.035612106323242,
          11.21484375,
          12.262070655822754,
          6.892942428588867,
          8.374945640563965,
          13.76147174835205,
          8.550467491149902,
          9.885784149169922,
          6.674897193908691,
          12.57759952545166,
          9.117337226867676,
          10.261970520019531,
          9.090744018554688,
          9.998623847961426,
          11.243705749511719,
          11.259537696838379,
          13.294379234313965,
          9.494818687438965,
          9.065020561218262,
          12.651863098144531,
          12.46239948272705,
          10.211376190185547,
          10.050179481506348,
          7.311263561248779,
          12.676727294921875,
          13.696484565734863,
          8.865030288696289,
          11.605141639709473,
          12.877015113830566,
          11.115815162658691,
          13.22663402557373,
          13.32186222076416,
          12.954985618591309,
          7.679941177368164,
          11.154682159423828,
          10.075850486755371,
          12.117239952087402,
          14.288199424743652,
          14.56367015838623,
          7.323854923248291,
          8.947479248046875,
          11.236125946044922,
          9.1182222366333,
          12.477951049804688,
          8.719569206237793,
          14.269183158874512,
          6.706491947174072,
          10.332803726196289,
          11.11862564086914,
          11.057967185974121,
          7.955574989318848,
          13.129027366638184,
          9.031822204589844,
          13.04389762878418,
          7.954502582550049,
          9.353245735168457,
          13.088104248046875,
          12.36369800567627,
          10.069217681884766,
          9.154711723327637,
          11.244046211242676,
          8.928428649902344,
          8.710015296936035,
          8.526525497436523,
          9.207620620727539,
          8.757173538208008,
          12.184536933898926,
          8.208209037780762,
          12.740913391113281,
          13.697061538696289,
          13.592949867248535,
          8.885376930236816,
          10.744412422180176,
          11.598989486694336,
          8.688157081604004,
          8.88354778289795,
          9.941988945007324,
          9.034306526184082,
          13.326774597167969,
          11.803141593933105,
          12.319876670837402,
          13.710549354553223,
          7.521622180938721,
          6.936474800109863,
          13.246006965637207,
          9.117914199829102,
          11.676216125488281,
          11.449423789978027,
          11.623812675476074,
          14.570101737976074,
          6.989458084106445,
          12.258238792419434,
          10.546679496765137,
          12.154378890991211,
          11.974332809448242,
          12.497553825378418,
          10.24832534790039,
          10.118902206420898,
          8.1768217086792,
          10.844430923461914,
          12.248492240905762,
          9.002089500427246,
          14.67602825164795,
          7.601251125335693,
          9.74428653717041,
          8.265399932861328,
          8.889184951782227,
          8.802783966064453,
          6.6996564865112305,
          13.284662246704102,
          11.58020305633545,
          11.253005981445312,
          7.017271995544434,
          9.050475120544434,
          7.580956935882568,
          9.229516983032227,
          12.611491203308105,
          11.673104286193848,
          12.674882888793945,
          8.666825294494629,
          12.508291244506836,
          7.589384078979492,
          8.846878051757812,
          10.234766006469727,
          8.695731163024902,
          12.707756996154785,
          11.720792770385742,
          13.560011863708496,
          12.298074722290039,
          14.448644638061523,
          11.693283081054688,
          10.114805221557617,
          11.73642349243164,
          10.076658248901367,
          10.923124313354492,
          11.613382339477539,
          8.435663223266602,
          13.550841331481934,
          8.69836711883545,
          6.93065881729126,
          13.37778091430664,
          11.380250930786133,
          13.709636688232422,
          13.723974227905273,
          7.299900054931641,
          10.904829025268555,
          13.155465126037598,
          11.240100860595703,
          9.162364959716797,
          9.109929084777832,
          12.72686767578125,
          8.921404838562012,
          10.27127456665039,
          9.383956909179688,
          11.37331771850586,
          8.473999977111816,
          9.39997673034668,
          7.231317520141602,
          10.6293363571167,
          14.70270824432373,
          12.124608993530273,
          10.9431791305542,
          12.598845481872559,
          10.955911636352539,
          11.760686874389648,
          11.478754997253418,
          7.794984340667725,
          11.132515907287598,
          6.848310947418213,
          14.37297534942627,
          10.137470245361328,
          12.62032699584961,
          11.045403480529785,
          12.601194381713867,
          12.265849113464355,
          8.574906349182129,
          10.785242080688477,
          10.160615921020508,
          10.17691421508789,
          12.116658210754395,
          14.556387901306152,
          12.296638488769531,
          9.06226921081543,
          10.543681144714355,
          13.140884399414062,
          13.232755661010742,
          9.947874069213867,
          9.87839126586914,
          13.104086875915527,
          10.182633399963379,
          8.722128868103027,
          13.235634803771973,
          14.809549331665039,
          10.736454963684082,
          9.936068534851074,
          11.65175724029541,
          6.666472434997559,
          13.250518798828125,
          9.045755386352539,
          7.078535556793213,
          10.907246589660645,
          7.642366886138916,
          12.39098072052002,
          11.274303436279297,
          11.127754211425781,
          6.80326509475708,
          11.594588279724121,
          7.919435977935791,
          13.901844024658203,
          9.723381042480469,
          8.404987335205078,
          8.750102043151855,
          11.290740966796875,
          9.545531272888184,
          10.945990562438965,
          10.273018836975098,
          11.860090255737305,
          12.672646522521973,
          9.429191589355469,
          10.338689804077148,
          11.67148208618164,
          6.656822204589844,
          6.902083873748779,
          12.739838600158691,
          14.461759567260742,
          7.407395362854004,
          14.713644027709961,
          6.865190505981445,
          10.877250671386719,
          10.116801261901855,
          8.728636741638184,
          12.108377456665039,
          6.767092704772949,
          11.71949577331543,
          13.819900512695312,
          14.52153205871582,
          10.715503692626953,
          9.963362693786621,
          6.669520378112793,
          14.31162166595459,
          11.112336158752441,
          9.250373840332031,
          12.11607837677002,
          14.67073917388916,
          8.113723754882812,
          8.763487815856934,
          9.004070281982422,
          7.0762457847595215,
          11.062639236450195,
          13.281911849975586,
          7.647182464599609,
          11.779752731323242,
          9.351938247680664,
          10.568811416625977,
          11.380711555480957,
          8.206445693969727,
          10.240859985351562,
          9.569931030273438,
          14.20125961303711,
          11.200838088989258,
          10.920639038085938,
          13.789339065551758,
          10.225486755371094,
          11.767114639282227,
          12.734871864318848,
          13.253495216369629,
          9.97559928894043,
          7.3064727783203125,
          11.237585067749023,
          9.03283977508545,
          11.333488464355469,
          11.289814949035645,
          10.22976303100586,
          9.120870590209961,
          8.440733909606934,
          11.616263389587402,
          13.421602249145508,
          12.859183311462402,
          14.239180564880371,
          13.025994300842285,
          9.511282920837402,
          8.96239185333252,
          9.088445663452148,
          13.323518753051758,
          8.666396141052246,
          10.154438018798828,
          11.255481719970703,
          9.624191284179688,
          10.203969955444336,
          13.048407554626465,
          11.069310188293457,
          10.765724182128906,
          11.65608024597168,
          14.776689529418945,
          12.414531707763672,
          10.902350425720215,
          11.276653289794922,
          8.91872787475586,
          9.005120277404785,
          9.181061744689941,
          9.174062728881836,
          7.976940155029297,
          12.979209899902344,
          7.937739372253418,
          6.944165229797363,
          12.483492851257324,
          13.848419189453125,
          10.88011646270752,
          12.961821556091309,
          9.809358596801758,
          10.614312171936035,
          8.873526573181152,
          8.867594718933105,
          10.937322616577148,
          8.964031219482422,
          8.582381248474121,
          10.080886840820312,
          8.744047164916992,
          12.999649047851562,
          12.413603782653809,
          10.05176067352295,
          7.142302513122559,
          11.479751586914062,
          11.243951797485352,
          9.08132553100586,
          6.944918632507324,
          8.453804969787598,
          7.3066864013671875,
          13.77973461151123,
          11.496973037719727,
          12.704031944274902,
          10.43988037109375,
          8.699156761169434,
          10.226593017578125,
          7.053516864776611,
          10.722635269165039,
          8.732118606567383,
          10.650103569030762,
          10.830482482910156,
          13.087557792663574,
          9.342185020446777,
          8.407365798950195,
          8.79221248626709,
          8.73771858215332,
          13.637350082397461,
          14.681658744812012,
          8.818586349487305,
          13.576640129089355,
          11.421950340270996,
          12.250205993652344,
          10.052168846130371,
          9.19735050201416,
          6.869172096252441,
          12.544381141662598,
          11.410664558410645,
          6.681511878967285,
          8.708579063415527,
          11.771406173706055,
          8.126984596252441,
          13.165141105651855,
          10.9163818359375,
          7.863783359527588,
          13.40705680847168,
          11.52900218963623,
          9.186077117919922,
          10.305314064025879,
          13.571736335754395,
          12.140595436096191,
          12.329151153564453,
          7.626807689666748,
          9.047545433044434,
          14.692094802856445,
          8.534764289855957,
          10.6795654296875,
          7.080875396728516,
          14.261652946472168,
          7.51771354675293,
          8.807066917419434,
          13.604995727539062,
          10.388733863830566,
          13.49311637878418,
          13.709746360778809,
          7.976466178894043,
          10.435397148132324,
          7.3806562423706055,
          10.09228229522705,
          12.604070663452148,
          12.264128684997559,
          13.165738105773926,
          8.763981819152832,
          6.8756184577941895,
          10.150814056396484,
          6.984096527099609,
          11.520161628723145,
          10.059818267822266,
          9.97700309753418,
          7.690045356750488,
          14.681668281555176,
          10.995068550109863,
          10.014404296875,
          6.6917338371276855,
          14.680400848388672,
          10.616846084594727,
          8.546004295349121,
          12.468735694885254,
          10.944805145263672,
          14.72133731842041
         ],
         "yaxis": "y"
        },
        {
         "hovertemplate": "Outlier<extra></extra>",
         "marker": {
          "color": "grey",
          "size": 1
         },
         "mode": "markers",
         "name": "Outliers",
         "type": "scattergl",
         "x": [
          11.840065956115723,
          11.953117370605469,
          10.02672290802002,
          11.412683486938477,
          7.718422889709473,
          7.326223373413086,
          11.038841247558594,
          11.416007995605469,
          8.028694152832031,
          11.881305694580078,
          10.668563842773438,
          11.207921028137207,
          11.34166145324707,
          10.021608352661133,
          8.54377555847168,
          7.584300994873047,
          5.962395668029785,
          11.105607032775879,
          9.399504661560059,
          10.76132869720459,
          9.134186744689941,
          10.199869155883789,
          12.365456581115723,
          10.433083534240723,
          11.031643867492676,
          9.391674995422363,
          11.557914733886719,
          11.53995418548584,
          7.422248363494873,
          11.335142135620117,
          9.857967376708984,
          5.902557373046875,
          9.488764762878418,
          9.961034774780273,
          8.26596450805664,
          12.774964332580566,
          10.900479316711426,
          11.506896018981934,
          8.92864990234375,
          7.63936185836792,
          12.14400577545166,
          7.413813591003418,
          6.588104724884033,
          7.068411350250244,
          9.743450164794922,
          10.422789573669434,
          11.066734313964844,
          7.963346004486084,
          11.910737991333008,
          11.273896217346191,
          8.74318790435791,
          10.638933181762695,
          10.437013626098633,
          7.044745922088623,
          8.884573936462402,
          11.39311408996582,
          11.220327377319336,
          7.810910701751709,
          8.599902153015137,
          10.605993270874023,
          9.240198135375977,
          10.406396865844727,
          9.298261642456055,
          10.452394485473633,
          8.179743766784668,
          10.132144927978516,
          8.744415283203125,
          11.357354164123535,
          8.408103942871094,
          10.71236515045166,
          11.040207862854004,
          11.029276847839355,
          10.034536361694336,
          11.481502532958984,
          7.700666427612305,
          9.960895538330078,
          10.56175422668457,
          10.22211742401123,
          11.200620651245117,
          8.867132186889648,
          9.53537654876709,
          8.021010398864746,
          11.644502639770508,
          8.25667953491211,
          10.290973663330078,
          10.98797607421875,
          11.375244140625,
          12.226428985595703,
          5.6749749183654785,
          11.065801620483398,
          6.446030616760254,
          6.0377516746521,
          9.215356826782227,
          10.379390716552734,
          9.006985664367676,
          11.783941268920898,
          9.358207702636719,
          11.65850830078125,
          10.291749000549316,
          12.59684944152832,
          6.412472248077393,
          6.080616474151611,
          11.769670486450195,
          9.933882713317871,
          9.933162689208984,
          9.377443313598633,
          5.863743305206299,
          7.803206920623779,
          7.129951000213623,
          8.870027542114258,
          7.395898342132568,
          10.687026023864746,
          6.320606231689453,
          6.737792491912842,
          8.756522178649902,
          10.65023422241211,
          11.513039588928223,
          10.526268005371094,
          10.427207946777344,
          7.851990222930908,
          11.386894226074219,
          11.507278442382812,
          9.174821853637695,
          7.133554935455322,
          8.356527328491211,
          11.780282020568848,
          12.070544242858887,
          11.663870811462402,
          8.989262580871582,
          11.222864151000977,
          12.048206329345703,
          10.914837837219238,
          11.873540878295898,
          10.841224670410156,
          7.6069746017456055,
          12.052624702453613,
          8.470966339111328,
          7.907009124755859,
          6.527979373931885,
          9.8029203414917,
          11.309521675109863,
          10.1521635055542,
          8.560050964355469,
          11.30971908569336,
          11.172121047973633,
          8.059664726257324,
          11.110860824584961,
          11.847068786621094,
          10.186781883239746,
          5.723985195159912,
          8.412381172180176,
          8.043431282043457,
          12.065512657165527,
          10.24959945678711,
          9.245119094848633,
          8.195671081542969,
          7.196933269500732,
          10.766682624816895,
          8.655983924865723,
          11.162497520446777,
          10.82209300994873,
          10.433292388916016,
          9.605676651000977,
          9.545918464660645,
          10.317902565002441,
          7.721778392791748,
          9.746912956237793,
          11.664021492004395,
          10.957229614257812,
          10.535768508911133,
          11.732280731201172,
          9.287775039672852,
          7.580369472503662,
          11.304793357849121,
          6.987994194030762,
          7.410700798034668,
          7.238687038421631,
          8.86889934539795,
          11.396523475646973,
          9.796889305114746,
          7.47548246383667,
          10.477901458740234,
          12.026144027709961,
          8.030895233154297,
          11.504533767700195,
          9.262417793273926,
          11.418686866760254,
          10.923333168029785,
          11.613896369934082,
          7.093568801879883,
          6.8565778732299805,
          10.922324180603027,
          7.570259094238281,
          7.306052207946777,
          9.43384075164795,
          11.246424674987793,
          9.583097457885742,
          11.28867244720459,
          5.549305438995361,
          10.520448684692383,
          11.318324089050293,
          11.397490501403809,
          8.840900421142578,
          7.958397388458252,
          8.517616271972656,
          7.790862560272217,
          6.96533203125,
          11.33273696899414,
          8.960476875305176,
          10.624065399169922,
          7.367799758911133,
          11.71143627166748,
          12.33569049835205,
          10.413851737976074,
          11.71251106262207,
          11.13804817199707,
          8.832010269165039,
          6.055793762207031,
          7.411872386932373,
          8.11817741394043,
          7.170816421508789,
          5.965181350708008,
          10.511283874511719,
          10.94959545135498,
          11.846412658691406,
          11.891851425170898,
          8.54221248626709,
          11.260709762573242,
          11.126055717468262,
          8.625653266906738,
          12.726591110229492,
          12.302547454833984,
          8.5903902053833,
          12.381898880004883,
          10.780128479003906,
          9.16595458984375,
          10.889123916625977,
          10.758077621459961,
          9.00691032409668,
          5.752264976501465,
          9.909032821655273,
          10.735491752624512,
          9.054508209228516,
          9.27456283569336,
          11.941781997680664,
          5.849740028381348,
          5.843100070953369,
          9.267786979675293,
          9.533724784851074,
          10.829543113708496,
          10.899735450744629,
          10.13569164276123,
          11.711339950561523,
          11.885359764099121,
          7.693740367889404,
          7.966340065002441,
          10.069796562194824,
          12.043448448181152,
          11.244565963745117,
          7.968973159790039,
          9.374473571777344,
          7.4774675369262695,
          10.793323516845703,
          10.892330169677734,
          10.347139358520508,
          10.554527282714844,
          10.31264877319336,
          12.386713027954102,
          6.769599914550781,
          9.957581520080566,
          7.977619647979736,
          11.450324058532715,
          8.31430435180664,
          11.903594017028809,
          8.069173812866211,
          6.047832012176514,
          9.65778636932373,
          10.45831298828125,
          5.91562557220459,
          9.234044075012207,
          7.234860420227051,
          10.418045043945312,
          9.281050682067871,
          10.281488418579102,
          11.176807403564453,
          10.743661880493164,
          9.154183387756348,
          7.8315606117248535,
          7.026675224304199,
          8.997377395629883,
          10.8860445022583,
          9.393956184387207,
          11.985990524291992,
          9.594254493713379,
          8.367185592651367,
          7.420504093170166,
          7.6727824211120605,
          9.896004676818848,
          9.940735816955566,
          8.779827117919922,
          10.408513069152832,
          5.7388105392456055,
          9.217508316040039,
          11.02541446685791,
          10.652594566345215,
          7.860325813293457,
          5.609914302825928,
          10.593822479248047,
          5.744979381561279,
          8.864296913146973,
          6.650661945343018,
          11.806689262390137,
          10.522200584411621,
          7.202566146850586,
          8.751107215881348,
          9.509869575500488,
          10.910470008850098,
          10.708683013916016,
          12.55258560180664,
          7.464365482330322,
          9.088484764099121,
          10.693781852722168,
          7.313437461853027,
          10.230185508728027,
          5.7515740394592285,
          10.394148826599121,
          10.391854286193848,
          8.718488693237305,
          11.099018096923828,
          7.1500563621521,
          5.712712287902832,
          10.239378929138184,
          5.591002941131592,
          11.234336853027344,
          9.481910705566406,
          11.506200790405273,
          8.123876571655273,
          8.579747200012207,
          10.627443313598633,
          10.807804107666016,
          7.576848983764648,
          9.77246379852295,
          9.7310791015625,
          9.141085624694824,
          8.845016479492188,
          6.837856769561768,
          7.734569549560547,
          6.793921947479248,
          5.7380595207214355,
          10.570411682128906,
          11.475290298461914,
          11.213092803955078,
          7.606782913208008,
          12.059775352478027,
          12.000288963317871,
          10.052127838134766,
          11.245203971862793,
          11.954773902893066,
          11.648309707641602,
          5.607450008392334,
          10.360251426696777,
          7.336363315582275,
          10.944276809692383,
          11.92546272277832,
          9.204719543457031,
          9.573101997375488,
          11.613008499145508,
          10.606256484985352,
          9.942048072814941,
          11.423297882080078,
          11.334288597106934,
          10.220882415771484,
          9.528971672058105,
          8.691107749938965,
          11.03766918182373,
          8.581890106201172,
          11.640110969543457,
          8.457815170288086,
          11.769047737121582,
          8.496932983398438,
          7.896378993988037,
          5.669775009155273,
          11.538260459899902,
          10.850730895996094,
          10.157111167907715,
          12.024652481079102,
          10.808638572692871,
          12.756385803222656,
          8.09848403930664,
          11.53796100616455,
          11.946907043457031,
          11.109827041625977,
          12.58902645111084,
          8.989681243896484,
          10.66223430633545,
          8.258455276489258,
          8.722953796386719,
          8.757439613342285,
          8.496903419494629,
          10.600523948669434,
          9.124502182006836,
          10.684259414672852,
          8.574213027954102,
          11.491555213928223,
          12.318835258483887,
          10.690346717834473,
          7.956873416900635,
          9.057032585144043,
          10.258814811706543,
          11.693024635314941,
          11.090081214904785,
          7.4005126953125,
          10.808324813842773,
          8.63074779510498,
          5.684331893920898,
          11.722009658813477,
          6.144911766052246,
          11.588849067687988,
          9.343753814697266,
          10.46042251586914,
          5.780149936676025,
          11.241583824157715,
          9.647979736328125,
          12.176666259765625,
          8.735466003417969,
          10.836273193359375,
          11.293532371520996,
          11.266668319702148,
          6.921986103057861,
          10.170916557312012,
          10.302610397338867,
          7.749848365783691,
          5.600663661956787,
          5.951318740844727,
          7.9081573486328125,
          7.026597499847412,
          7.117046356201172,
          10.020493507385254,
          10.970173835754395,
          11.566357612609863,
          12.541850090026855,
          6.041647911071777,
          11.531966209411621,
          10.730450630187988,
          7.276065349578857,
          10.995033264160156,
          10.45409870147705,
          11.39206600189209,
          9.473915100097656,
          9.419459342956543,
          9.616043090820312,
          11.655073165893555,
          12.289078712463379,
          11.203292846679688,
          8.710138320922852,
          10.965797424316406,
          6.102433681488037,
          7.328422546386719,
          6.784296989440918,
          11.747629165649414,
          11.128448486328125,
          6.7871246337890625,
          7.928712368011475,
          10.073863983154297,
          8.790926933288574,
          12.552804946899414,
          8.543213844299316,
          10.291197776794434,
          7.112555980682373,
          10.964446067810059,
          10.870906829833984,
          11.157135963439941,
          7.935589790344238,
          11.611677169799805,
          10.733697891235352,
          11.065071105957031,
          8.486700057983398,
          11.506781578063965,
          10.49113655090332,
          7.676551818847656,
          7.483868598937988,
          11.736501693725586,
          10.97198486328125,
          7.983375549316406,
          7.208305835723877,
          8.496904373168945,
          10.642560005187988,
          12.11961841583252,
          7.034951210021973,
          6.416872501373291,
          12.014249801635742,
          7.61596155166626,
          10.504191398620605,
          7.409931182861328,
          7.0573577880859375,
          11.184236526489258,
          9.356127738952637,
          10.968637466430664,
          9.000770568847656,
          7.462012767791748,
          7.2425856590271,
          11.915005683898926,
          10.537412643432617,
          5.858942985534668,
          9.776616096496582,
          11.558496475219727,
          10.93217658996582,
          6.796554088592529,
          5.793890953063965,
          5.591835975646973,
          9.050329208374023,
          6.140513896942139,
          6.319962024688721,
          10.694735527038574,
          9.754043579101562,
          11.483141899108887,
          8.905106544494629,
          10.689482688903809,
          7.547129154205322,
          10.209501266479492,
          10.464045524597168,
          11.200554847717285,
          5.933517932891846,
          6.274994373321533,
          11.856484413146973,
          11.518033027648926,
          10.808353424072266,
          10.534087181091309,
          6.837710857391357,
          12.030218124389648,
          12.115711212158203,
          7.987090110778809,
          8.376712799072266,
          11.455376625061035,
          5.733615875244141,
          7.978662014007568,
          11.595940589904785,
          10.94894027709961,
          12.303266525268555,
          11.944173812866211,
          7.100944995880127,
          11.84533977508545,
          8.636589050292969,
          7.728013515472412,
          8.288622856140137,
          7.817070007324219,
          10.661964416503906,
          11.28545093536377,
          11.352270126342773,
          10.63267993927002,
          11.215771675109863,
          11.678963661193848,
          7.498187065124512,
          11.072105407714844,
          11.17989730834961,
          11.803508758544922,
          11.348995208740234,
          9.248093605041504,
          11.762103080749512,
          11.807271957397461,
          7.191749572753906,
          6.213515281677246,
          10.41300106048584,
          11.274166107177734,
          10.509624481201172,
          10.449155807495117,
          10.967628479003906,
          11.831427574157715,
          11.067273139953613,
          6.464249610900879,
          7.139352321624756,
          8.615367889404297,
          12.154170989990234,
          9.259648323059082,
          12.289894104003906,
          12.036149024963379,
          9.74633502960205,
          11.614645004272461,
          7.164956092834473,
          9.016006469726562,
          8.839387893676758,
          8.166648864746094,
          10.347529411315918,
          7.347634792327881,
          11.974130630493164,
          7.816254138946533,
          11.741344451904297,
          11.672707557678223,
          10.449954986572266,
          11.886594772338867,
          10.29440975189209,
          9.982865333557129,
          10.906519889831543,
          5.764714241027832,
          10.482653617858887,
          10.02597427368164,
          7.989082336425781,
          9.335022926330566,
          11.589333534240723,
          11.307323455810547,
          11.62183952331543,
          11.318981170654297,
          7.015976428985596,
          9.917008399963379,
          10.3912935256958,
          6.412890434265137,
          10.714885711669922,
          6.81021785736084,
          9.953861236572266,
          5.771541595458984,
          6.925175666809082,
          12.051254272460938,
          11.937417984008789,
          10.650140762329102,
          10.048892974853516,
          7.87193489074707,
          8.424249649047852,
          12.037692070007324,
          11.356520652770996,
          11.441128730773926,
          9.054464340209961,
          6.353757858276367,
          10.185674667358398,
          11.566000938415527,
          10.385566711425781,
          7.962827205657959,
          7.913525581359863,
          8.737959861755371,
          10.600692749023438,
          11.82320499420166,
          10.888201713562012,
          5.71602725982666,
          11.515450477600098,
          8.550320625305176,
          11.065461158752441,
          11.417588233947754,
          7.092009544372559,
          6.364304065704346,
          10.297686576843262,
          10.821736335754395,
          12.159260749816895,
          6.073535442352295,
          9.91230297088623,
          8.002766609191895,
          9.022643089294434,
          7.961182117462158,
          11.295992851257324,
          6.541286945343018,
          8.050753593444824,
          6.1519904136657715,
          8.404311180114746,
          5.579531192779541,
          12.189600944519043,
          8.059882164001465,
          10.691001892089844,
          11.548754692077637,
          11.229248046875,
          5.943531036376953,
          10.04550552368164,
          7.897538661956787,
          5.493068218231201,
          11.157268524169922,
          8.340521812438965,
          11.55694580078125,
          7.210071086883545,
          10.468928337097168,
          8.875657081604004,
          6.523119926452637,
          10.652155876159668,
          11.515052795410156,
          10.225979804992676,
          10.974757194519043,
          8.679048538208008,
          11.639354705810547,
          5.8846635818481445,
          9.628252983093262,
          12.265231132507324,
          8.343216896057129,
          11.432687759399414,
          10.72602367401123,
          7.695314884185791,
          11.299538612365723,
          10.921271324157715,
          7.4728288650512695,
          9.360644340515137,
          12.262700080871582,
          8.681951522827148,
          10.705009460449219,
          8.583429336547852,
          11.33123779296875,
          10.697136878967285,
          9.288755416870117,
          10.862865447998047,
          8.320460319519043,
          12.535669326782227,
          6.126733303070068,
          7.5213727951049805,
          10.33614730834961,
          10.355720520019531,
          7.146383285522461,
          11.80234146118164,
          11.272318840026855,
          5.837875843048096,
          11.304659843444824,
          9.068394660949707,
          9.100707054138184,
          8.403653144836426,
          11.061400413513184,
          9.543119430541992,
          9.452901840209961,
          10.675084114074707,
          10.470985412597656,
          5.896808624267578,
          11.317521095275879,
          8.184362411499023,
          8.821229934692383,
          6.782713413238525,
          10.663890838623047,
          10.6483793258667,
          8.179289817810059,
          8.155708312988281,
          11.593981742858887,
          12.33043098449707,
          11.725265502929688,
          12.107234001159668,
          10.854650497436523,
          7.126596450805664,
          10.764076232910156,
          8.822875022888184,
          8.502754211425781,
          11.222851753234863,
          6.842416286468506,
          11.758505821228027,
          5.920588493347168,
          11.4546537399292,
          11.168354034423828,
          10.10030460357666,
          9.76030445098877,
          6.136173725128174,
          10.33902645111084,
          9.08250904083252,
          9.937644004821777,
          11.360879898071289,
          10.237446784973145,
          10.6015625,
          8.0289945602417,
          11.494681358337402,
          11.072202682495117,
          6.910749912261963,
          10.577181816101074,
          9.689728736877441,
          6.903369903564453,
          8.505349159240723,
          10.759933471679688,
          10.714315414428711,
          12.039960861206055,
          5.725338459014893,
          6.99544620513916,
          11.007977485656738,
          8.748236656188965,
          10.50891399383545,
          10.596399307250977,
          10.246696472167969,
          8.71865463256836,
          10.314043045043945,
          11.150967597961426,
          10.919283866882324,
          11.355305671691895,
          5.635780334472656,
          11.68883228302002,
          11.62957763671875,
          11.534595489501953,
          10.384468078613281,
          10.551084518432617,
          5.715223789215088,
          9.242945671081543,
          11.85702896118164,
          9.87830924987793,
          11.472804069519043,
          8.502565383911133,
          11.021129608154297,
          11.200261116027832,
          7.245301246643066,
          5.5048298835754395,
          10.688054084777832,
          11.426223754882812,
          10.908940315246582,
          7.383261680603027,
          11.761375427246094,
          5.766944885253906,
          7.424544811248779,
          10.644791603088379,
          10.347824096679688,
          9.047819137573242,
          5.683937072753906,
          11.305450439453125,
          9.176859855651855,
          8.782004356384277,
          12.044503211975098,
          5.905224323272705,
          10.220171928405762,
          6.133429050445557,
          12.064077377319336,
          11.447903633117676,
          9.727544784545898,
          12.656712532043457,
          10.656560897827148,
          11.692402839660645,
          8.44102954864502,
          8.313104629516602,
          8.90025806427002,
          9.856574058532715,
          11.39578914642334,
          11.251790046691895,
          12.298039436340332,
          7.6331562995910645,
          8.771231651306152,
          9.52928352355957,
          9.979296684265137,
          11.510961532592773,
          11.09907341003418,
          5.693081855773926,
          10.320276260375977,
          12.006524085998535,
          12.693106651306152,
          10.272198677062988,
          7.9206624031066895,
          11.882033348083496,
          7.565186500549316,
          8.65437126159668,
          11.74389934539795,
          10.641944885253906,
          10.879308700561523,
          8.750194549560547,
          11.033907890319824,
          11.831290245056152,
          11.220643997192383,
          10.583234786987305,
          8.176384925842285,
          8.198058128356934,
          11.630720138549805,
          7.975229263305664,
          7.879820346832275,
          10.711996078491211,
          11.190452575683594,
          11.823322296142578,
          8.814908981323242,
          9.231840133666992,
          9.491959571838379,
          11.004767417907715,
          9.00532054901123,
          11.528765678405762,
          12.31057071685791,
          10.15162467956543,
          6.124656677246094,
          8.447349548339844,
          10.889243125915527,
          5.9283647537231445,
          6.159907341003418,
          8.958977699279785,
          7.46042013168335,
          11.617118835449219,
          10.212154388427734,
          8.237320899963379,
          10.348984718322754,
          8.54306697845459,
          11.487785339355469,
          11.175445556640625,
          10.315221786499023,
          9.33318042755127,
          7.503756046295166,
          6.646355628967285,
          10.509347915649414,
          10.463549613952637,
          8.5830078125,
          11.994561195373535,
          11.136382102966309,
          11.631382942199707,
          11.505521774291992,
          11.517749786376953,
          8.51738166809082,
          6.782680034637451,
          11.197851181030273,
          6.077396392822266,
          12.310918807983398,
          10.125883102416992,
          10.738899230957031,
          9.775464057922363,
          11.810566902160645,
          7.910002708435059,
          6.404119491577148,
          10.520451545715332,
          6.789609432220459,
          12.699075698852539,
          10.037941932678223,
          9.645779609680176,
          10.074079513549805,
          9.708568572998047,
          6.888047695159912,
          7.9491963386535645,
          8.6148042678833,
          5.943165302276611,
          8.139952659606934,
          11.569679260253906,
          11.346646308898926,
          11.459918975830078,
          11.570475578308105,
          10.734147071838379,
          11.252528190612793,
          6.00844669342041,
          11.61764907836914,
          11.37048053741455,
          5.826448440551758,
          5.862523078918457,
          8.1920166015625,
          11.56407356262207,
          10.896383285522461,
          11.863840103149414,
          11.181137084960938,
          11.716181755065918,
          11.050846099853516,
          10.582669258117676,
          11.470970153808594,
          11.869732856750488,
          6.097426414489746,
          8.034355163574219,
          6.268460750579834,
          11.443059921264648,
          10.1135892868042,
          6.8107194900512695,
          9.074889183044434,
          11.354501724243164,
          11.01876449584961,
          11.297876358032227,
          7.140554428100586,
          8.828176498413086,
          6.6017303466796875,
          11.852639198303223,
          8.269240379333496,
          8.970297813415527,
          9.068573951721191,
          11.303650856018066,
          10.954486846923828,
          10.104592323303223,
          7.770366668701172,
          9.132705688476562,
          12.11884593963623,
          6.043396949768066,
          12.154974937438965,
          9.276104927062988,
          7.190743923187256,
          6.370113372802734,
          10.993173599243164,
          11.877571105957031,
          11.533665657043457,
          7.471747398376465,
          11.44163990020752,
          10.266921997070312,
          11.318258285522461,
          10.005531311035156,
          11.792596817016602,
          12.08898639678955,
          11.035721778869629,
          5.508119106292725,
          5.716299057006836,
          10.287679672241211,
          11.658866882324219,
          11.431255340576172,
          11.29621696472168,
          5.549932956695557,
          9.138433456420898,
          11.169364929199219,
          9.431147575378418,
          12.00532054901123,
          10.400582313537598,
          7.414547920227051,
          8.330704689025879,
          8.97465991973877,
          10.400421142578125,
          10.048585891723633,
          7.940639495849609,
          10.666216850280762,
          9.230805397033691,
          8.820197105407715,
          9.942036628723145,
          7.131045341491699,
          12.037253379821777,
          7.34223747253418,
          7.788396835327148,
          6.745111465454102,
          12.482298851013184,
          7.547603607177734,
          8.645047187805176,
          9.234049797058105,
          11.987894058227539,
          11.069467544555664,
          10.075517654418945,
          11.204156875610352,
          10.580655097961426,
          8.275947570800781,
          7.751778602600098,
          7.034241676330566,
          8.974802017211914,
          7.260289669036865,
          10.79863166809082,
          11.312026977539062,
          5.726512908935547,
          8.232945442199707,
          10.69296932220459,
          11.300597190856934,
          9.297313690185547,
          8.26097583770752,
          10.35793399810791,
          11.44556999206543,
          11.082237243652344,
          6.352930068969727,
          8.37106704711914,
          9.366540908813477,
          11.12049674987793,
          10.74422836303711,
          9.429099082946777,
          11.296615600585938,
          11.331228256225586,
          10.496439933776855,
          7.012127876281738,
          9.964522361755371,
          8.825450897216797,
          9.95787239074707,
          9.060288429260254,
          9.664569854736328,
          8.671957015991211,
          8.924474716186523,
          9.388957023620605,
          11.242290496826172,
          8.705168724060059,
          8.844955444335938,
          10.429967880249023,
          5.946211338043213,
          9.135611534118652,
          10.787864685058594,
          11.543201446533203,
          6.845923900604248,
          6.001265525817871,
          8.667837142944336,
          10.936210632324219,
          9.991096496582031,
          8.009820938110352,
          6.6954264640808105,
          11.113035202026367,
          11.523886680603027,
          11.851461410522461,
          10.218149185180664,
          11.330465316772461,
          11.330573081970215,
          10.433825492858887,
          8.197620391845703,
          8.725540161132812,
          7.548525810241699,
          8.835050582885742,
          8.545563697814941,
          9.901006698608398,
          9.997357368469238,
          8.476082801818848,
          11.10644245147705,
          6.95318078994751,
          9.932506561279297,
          6.207694053649902,
          10.835123062133789,
          11.7693452835083,
          8.72311782836914,
          7.651780128479004,
          6.289958477020264,
          10.120923042297363,
          11.37233829498291,
          12.369300842285156,
          11.33865737915039,
          5.567770004272461,
          9.284753799438477,
          9.30116081237793,
          11.701638221740723,
          10.243650436401367,
          6.497859001159668,
          12.301907539367676,
          7.234015464782715,
          12.03170108795166,
          11.588465690612793,
          7.506564140319824,
          7.061154842376709,
          10.216934204101562,
          11.151211738586426,
          9.060968399047852,
          6.094237804412842,
          11.05156135559082,
          7.857719898223877,
          5.651234149932861,
          9.456990242004395,
          11.606670379638672,
          7.893618583679199,
          6.8413777351379395,
          11.922053337097168,
          11.09403133392334,
          11.682405471801758,
          9.140589714050293,
          7.137726306915283,
          11.501500129699707,
          11.966323852539062,
          8.737330436706543,
          11.644680976867676,
          10.577908515930176,
          10.526825904846191,
          7.726751327514648,
          9.394882202148438,
          11.461318969726562,
          7.644290924072266,
          8.482912063598633,
          10.701360702514648,
          6.148815631866455,
          9.561145782470703,
          8.643729209899902,
          9.760172843933105,
          11.794631004333496,
          7.285145282745361,
          9.940882682800293,
          7.793439865112305,
          11.63957691192627,
          9.137067794799805,
          7.961974620819092,
          10.370099067687988,
          6.828889846801758,
          11.070289611816406,
          9.95894718170166,
          11.531038284301758,
          11.535849571228027,
          8.769267082214355,
          10.983070373535156,
          10.161823272705078,
          10.822509765625,
          10.984131813049316,
          11.355223655700684,
          8.749889373779297,
          11.123802185058594,
          9.24421215057373,
          8.851728439331055,
          11.145706176757812,
          11.753702163696289,
          8.467053413391113,
          10.457967758178711,
          9.180887222290039,
          11.087067604064941,
          8.30918025970459,
          7.955456256866455,
          8.989097595214844,
          8.019338607788086,
          7.04368257522583,
          6.797519207000732,
          10.71241283416748,
          10.688522338867188,
          8.97732162475586,
          9.706465721130371,
          12.67992877960205
         ],
         "xaxis": "x",
         "y": [
          7.4985857009887695,
          12.808143615722656,
          13.070599555969238,
          12.340740203857422,
          12.980728149414062,
          9.097648620605469,
          7.589705467224121,
          11.5470609664917,
          10.62617301940918,
          12.906123161315918,
          12.004545211791992,
          10.498189926147461,
          8.246980667114258,
          13.109641075134277,
          12.200933456420898,
          9.114557266235352,
          11.645380973815918,
          10.9542236328125,
          12.521130561828613,
          9.75490951538086,
          6.889222145080566,
          10.197084426879883,
          12.435935974121094,
          13.214353561401367,
          10.083301544189453,
          9.948372840881348,
          14.008529663085938,
          13.2574462890625,
          9.728293418884277,
          11.492215156555176,
          13.763887405395508,
          11.116475105285645,
          11.761687278747559,
          7.1989593505859375,
          12.716353416442871,
          12.771259307861328,
          14.464960098266602,
          13.855653762817383,
          10.975140571594238,
          12.877060890197754,
          11.415066719055176,
          10.037549018859863,
          10.97646713256836,
          13.100278854370117,
          9.889399528503418,
          14.471409797668457,
          12.801258087158203,
          12.963784217834473,
          14.364838600158691,
          11.328947067260742,
          9.758228302001953,
          11.156535148620605,
          7.969059944152832,
          11.136754035949707,
          9.383977890014648,
          12.559531211853027,
          13.206426620483398,
          11.456674575805664,
          10.254465103149414,
          8.89214038848877,
          11.57484245300293,
          11.841742515563965,
          11.157519340515137,
          14.47050666809082,
          8.923198699951172,
          10.10022258758545,
          11.361959457397461,
          9.035843849182129,
          12.628804206848145,
          13.578667640686035,
          11.308697700500488,
          12.920884132385254,
          11.040521621704102,
          13.566844940185547,
          13.29105281829834,
          11.01059341430664,
          14.702954292297363,
          10.69652271270752,
          12.789161682128906,
          11.376330375671387,
          10.355376243591309,
          13.087300300598145,
          11.727341651916504,
          10.384455680847168,
          13.680242538452148,
          11.20199203491211,
          10.730204582214355,
          13.887946128845215,
          10.995577812194824,
          8.979244232177734,
          11.365876197814941,
          10.759576797485352,
          12.090588569641113,
          14.552417755126953,
          10.804978370666504,
          9.160429000854492,
          7.9805378913879395,
          12.007719039916992,
          13.667983055114746,
          12.94412899017334,
          11.544291496276855,
          10.008427619934082,
          9.188148498535156,
          8.45659065246582,
          8.440966606140137,
          9.973535537719727,
          11.026049613952637,
          12.961776733398438,
          8.792778968811035,
          6.947044372558594,
          10.056760787963867,
          10.693671226501465,
          12.017020225524902,
          10.159669876098633,
          11.826175689697266,
          14.217289924621582,
          7.7933735847473145,
          13.457611083984375,
          14.608240127563477,
          13.139261245727539,
          9.466456413269043,
          8.107932090759277,
          11.52634048461914,
          8.394645690917969,
          12.78313159942627,
          9.157896041870117,
          7.924300670623779,
          8.665964126586914,
          9.088031768798828,
          13.217042922973633,
          7.54078483581543,
          12.738012313842773,
          9.671875953674316,
          14.54460334777832,
          10.690155029296875,
          7.465093612670898,
          8.186347007751465,
          13.251652717590332,
          11.639941215515137,
          11.793367385864258,
          11.36097526550293,
          10.275918006896973,
          11.678688049316406,
          11.112909317016602,
          14.599170684814453,
          10.539690971374512,
          13.063133239746094,
          13.65727710723877,
          13.192159652709961,
          11.29817008972168,
          10.750117301940918,
          13.090692520141602,
          13.780694961547852,
          12.143501281738281,
          11.583144187927246,
          11.77331829071045,
          10.970315933227539,
          8.349113464355469,
          8.16611385345459,
          10.80833625793457,
          9.817562103271484,
          10.38459300994873,
          12.770626068115234,
          9.638705253601074,
          14.020915031433105,
          9.98574161529541,
          11.57469654083252,
          8.226446151733398,
          12.31113052368164,
          10.747162818908691,
          8.159309387207031,
          11.216245651245117,
          13.446399688720703,
          8.060291290283203,
          13.051074028015137,
          9.723756790161133,
          12.559019088745117,
          11.145651817321777,
          10.700507164001465,
          13.065217018127441,
          10.402138710021973,
          10.979925155639648,
          12.362043380737305,
          10.689178466796875,
          14.447884559631348,
          10.017367362976074,
          14.336272239685059,
          14.51272201538086,
          11.484264373779297,
          10.097524642944336,
          10.768900871276855,
          13.461365699768066,
          10.640934944152832,
          10.356438636779785,
          7.032522201538086,
          10.76268196105957,
          9.822129249572754,
          9.334123611450195,
          11.479894638061523,
          13.499028205871582,
          12.104133605957031,
          7.910967826843262,
          6.942864418029785,
          8.689108848571777,
          11.25129508972168,
          12.561068534851074,
          11.363337516784668,
          13.892735481262207,
          9.098990440368652,
          11.639581680297852,
          9.699554443359375,
          12.784468650817871,
          10.712559700012207,
          14.034255027770996,
          8.741299629211426,
          11.702309608459473,
          10.59874153137207,
          11.946864128112793,
          11.859525680541992,
          12.884910583496094,
          8.869729042053223,
          11.396605491638184,
          13.39003849029541,
          12.525714874267578,
          9.18355655670166,
          10.345996856689453,
          11.742987632751465,
          12.25131607055664,
          14.773348808288574,
          11.654777526855469,
          12.865080833435059,
          10.725584983825684,
          10.148797988891602,
          12.814762115478516,
          12.251919746398926,
          9.119527816772461,
          12.719962120056152,
          14.295947074890137,
          9.340580940246582,
          10.880388259887695,
          13.746805191040039,
          14.93069839477539,
          12.301523208618164,
          9.179536819458008,
          10.751626014709473,
          11.958023071289062,
          10.723453521728516,
          9.787599563598633,
          9.877368927001953,
          14.249537467956543,
          13.232224464416504,
          12.049919128417969,
          7.747230529785156,
          7.665210247039795,
          11.38286304473877,
          9.704296112060547,
          12.077546119689941,
          7.955646514892578,
          14.844161987304688,
          10.697075843811035,
          10.778360366821289,
          10.109679222106934,
          12.231319427490234,
          11.986610412597656,
          13.317523956298828,
          13.492156028747559,
          12.107220649719238,
          13.253814697265625,
          11.382525444030762,
          10.241236686706543,
          9.36141586303711,
          13.714885711669922,
          12.729846000671387,
          12.846760749816895,
          9.318586349487305,
          10.798616409301758,
          11.75916576385498,
          8.007058143615723,
          10.934613227844238,
          11.15823745727539,
          13.544835090637207,
          13.21043586730957,
          8.385200500488281,
          10.660378456115723,
          13.571325302124023,
          14.963428497314453,
          10.305357933044434,
          13.012697219848633,
          9.631516456604004,
          9.826920509338379,
          8.811904907226562,
          9.521523475646973,
          7.585552215576172,
          6.79691219329834,
          13.252873420715332,
          9.752143859863281,
          13.372014045715332,
          11.71258544921875,
          12.992727279663086,
          10.460515975952148,
          12.716548919677734,
          11.955536842346191,
          8.918931007385254,
          11.286688804626465,
          11.164320945739746,
          11.601405143737793,
          10.860469818115234,
          14.099960327148438,
          10.725807189941406,
          11.744772911071777,
          10.228678703308105,
          9.240887641906738,
          8.509282112121582,
          8.468070983886719,
          9.025821685791016,
          8.472153663635254,
          14.920376777648926,
          14.298920631408691,
          13.442927360534668,
          13.69581413269043,
          11.944046974182129,
          12.939787864685059,
          12.485161781311035,
          9.873176574707031,
          10.779474258422852,
          12.960319519042969,
          9.786189079284668,
          11.051040649414062,
          13.830904006958008,
          9.313039779663086,
          10.760109901428223,
          11.367778778076172,
          11.704343795776367,
          14.786548614501953,
          11.361384391784668,
          14.063613891601562,
          10.965144157409668,
          10.678637504577637,
          7.8037028312683105,
          12.152395248413086,
          11.680033683776855,
          11.508909225463867,
          8.683003425598145,
          13.536498069763184,
          9.42317008972168,
          10.317545890808105,
          8.955079078674316,
          10.365970611572266,
          11.058831214904785,
          8.041605949401855,
          11.562800407409668,
          14.817070960998535,
          13.00534439086914,
          13.186851501464844,
          7.542090892791748,
          7.708780765533447,
          13.914047241210938,
          7.518099308013916,
          7.345682144165039,
          11.530190467834473,
          9.802391052246094,
          13.550921440124512,
          12.120284080505371,
          7.548975944519043,
          8.498002052307129,
          9.71330451965332,
          10.158857345581055,
          8.46934700012207,
          8.47900104522705,
          11.778757095336914,
          8.257287979125977,
          10.675703048706055,
          7.59467887878418,
          8.46712589263916,
          14.418149948120117,
          8.745716094970703,
          8.67769718170166,
          13.38349437713623,
          11.38913345336914,
          10.681985855102539,
          11.847137451171875,
          11.543679237365723,
          12.972825050354004,
          14.911535263061523,
          10.461606979370117,
          7.876061916351318,
          12.477067947387695,
          12.736292839050293,
          11.675647735595703,
          11.154762268066406,
          13.338678359985352,
          12.304275512695312,
          12.932992935180664,
          7.5199785232543945,
          13.811026573181152,
          9.428969383239746,
          9.370721817016602,
          11.358025550842285,
          11.733281135559082,
          14.043231964111328,
          13.528666496276855,
          13.069847106933594,
          11.76005744934082,
          8.147204399108887,
          13.503800392150879,
          11.723973274230957,
          8.563586235046387,
          12.613982200622559,
          13.636274337768555,
          12.288863182067871,
          13.503150939941406,
          11.873286247253418,
          14.07835578918457,
          7.996030807495117,
          11.11031723022461,
          12.269346237182617,
          10.94001293182373,
          13.217047691345215,
          8.795384407043457,
          10.20867919921875,
          11.83610725402832,
          13.012537956237793,
          8.673805236816406,
          11.402782440185547,
          7.569435119628906,
          14.080635070800781,
          10.758722305297852,
          11.301827430725098,
          10.412498474121094,
          10.470697402954102,
          10.922537803649902,
          9.953143119812012,
          11.768728256225586,
          11.698885917663574,
          9.182506561279297,
          11.921728134155273,
          8.923599243164062,
          10.62890625,
          11.16811466217041,
          11.584405899047852,
          13.448797225952148,
          10.807403564453125,
          14.041812896728516,
          12.600851058959961,
          11.008146286010742,
          13.838085174560547,
          10.42243480682373,
          7.8388285636901855,
          7.641834735870361,
          6.913821220397949,
          10.943527221679688,
          8.671568870544434,
          12.528396606445312,
          11.165559768676758,
          9.08259391784668,
          12.375168800354004,
          10.010454177856445,
          12.555301666259766,
          11.726773262023926,
          8.406068801879883,
          9.218186378479004,
          9.960450172424316,
          12.597433090209961,
          12.208211898803711,
          10.570149421691895,
          13.045012474060059,
          11.224308013916016,
          11.420269966125488,
          8.445944786071777,
          9.506142616271973,
          7.649929523468018,
          8.199419975280762,
          11.833191871643066,
          9.544853210449219,
          8.362879753112793,
          7.580659866333008,
          10.315013885498047,
          11.086854934692383,
          10.51500129699707,
          11.434717178344727,
          11.361733436584473,
          12.271490097045898,
          12.780303955078125,
          9.079911231994629,
          9.253629684448242,
          11.948193550109863,
          12.054585456848145,
          11.38656997680664,
          13.119255065917969,
          10.943233489990234,
          13.921707153320312,
          12.880309104919434,
          13.478357315063477,
          10.050301551818848,
          13.04921817779541,
          14.560714721679688,
          12.927184104919434,
          12.732579231262207,
          9.883667945861816,
          13.695995330810547,
          8.635002136230469,
          9.944146156311035,
          13.664566040039062,
          11.776512145996094,
          9.998473167419434,
          14.105093002319336,
          14.618237495422363,
          10.317679405212402,
          11.403739929199219,
          11.675183296203613,
          7.735314846038818,
          11.307378768920898,
          10.866883277893066,
          11.482036590576172,
          12.015613555908203,
          13.245304107666016,
          9.485458374023438,
          12.170863151550293,
          9.237627029418945,
          10.695539474487305,
          13.245882034301758,
          14.61820125579834,
          10.661895751953125,
          11.79448127746582,
          10.215458869934082,
          11.983490943908691,
          12.894277572631836,
          13.669273376464844,
          11.583839416503906,
          12.731761932373047,
          11.418042182922363,
          11.059757232666016,
          12.804464340209961,
          14.228196144104004,
          10.825483322143555,
          12.931367874145508,
          7.415915012359619,
          13.141550064086914,
          12.400839805603027,
          9.98593807220459,
          10.122861862182617,
          11.105396270751953,
          10.155027389526367,
          12.5018310546875,
          11.005203247070312,
          12.580435752868652,
          10.92681884765625,
          7.868412971496582,
          9.47947883605957,
          11.794037818908691,
          11.148237228393555,
          12.269668579101562,
          10.026283264160156,
          10.518566131591797,
          10.79426383972168,
          14.470120429992676,
          12.050482749938965,
          10.12196159362793,
          7.571531295776367,
          10.61398983001709,
          11.545702934265137,
          11.952361106872559,
          13.188925743103027,
          10.5448637008667,
          10.523411750793457,
          14.254023551940918,
          12.70468521118164,
          12.540596008300781,
          10.649413108825684,
          11.090569496154785,
          8.492796897888184,
          9.88235855102539,
          13.922654151916504,
          7.111714839935303,
          12.5421724319458,
          12.374349594116211,
          8.74643325805664,
          13.506753921508789,
          8.502748489379883,
          8.686585426330566,
          9.392241477966309,
          12.534231185913086,
          13.874802589416504,
          12.659878730773926,
          7.8400139808654785,
          10.988675117492676,
          7.564754486083984,
          12.791560173034668,
          12.780235290527344,
          7.636500835418701,
          13.651632308959961,
          10.14232063293457,
          12.849494934082031,
          10.949013710021973,
          14.254011154174805,
          10.494232177734375,
          8.23770809173584,
          10.792258262634277,
          12.078875541687012,
          7.4877471923828125,
          7.615690231323242,
          9.33157730102539,
          9.789165496826172,
          10.467123031616211,
          11.294087409973145,
          11.185976028442383,
          14.407024383544922,
          9.59702205657959,
          8.461434364318848,
          11.831291198730469,
          11.389430046081543,
          11.42407512664795,
          14.249507904052734,
          12.668000221252441,
          11.011982917785645,
          11.841814994812012,
          13.470674514770508,
          13.24567699432373,
          11.032526969909668,
          13.174539566040039,
          12.273987770080566,
          11.704498291015625,
          13.141385078430176,
          12.619470596313477,
          11.524882316589355,
          13.177375793457031,
          10.924860954284668,
          11.361283302307129,
          14.090032577514648,
          7.6228156089782715,
          13.227532386779785,
          10.777949333190918,
          7.8246564865112305,
          10.809737205505371,
          10.003725051879883,
          7.809600830078125,
          9.859477996826172,
          11.884632110595703,
          11.292552947998047,
          14.090356826782227,
          13.3180570602417,
          11.272904396057129,
          11.734569549560547,
          8.308813095092773,
          11.445886611938477,
          9.717354774475098,
          7.762367248535156,
          11.293426513671875,
          11.468728065490723,
          11.265276908874512,
          10.466680526733398,
          11.729350090026855,
          12.98847484588623,
          8.273630142211914,
          9.480073928833008,
          12.47325325012207,
          13.161905288696289,
          11.509925842285156,
          13.082518577575684,
          10.387187004089355,
          11.415163040161133,
          7.760891437530518,
          11.470173835754395,
          7.83488130569458,
          9.257545471191406,
          13.705594062805176,
          12.274951934814453,
          9.497171401977539,
          12.027050018310547,
          12.660545349121094,
          13.208785057067871,
          9.617918014526367,
          8.167409896850586,
          7.388497829437256,
          11.71548843383789,
          7.417518138885498,
          12.506522178649902,
          12.788022994995117,
          8.49561595916748,
          12.81529712677002,
          12.121943473815918,
          7.752939701080322,
          14.047829627990723,
          13.739426612854004,
          7.650203227996826,
          12.959470748901367,
          8.148876190185547,
          12.806421279907227,
          9.931473731994629,
          13.348162651062012,
          8.116973876953125,
          8.456049919128418,
          10.522886276245117,
          12.86409854888916,
          13.058206558227539,
          9.990525245666504,
          9.510788917541504,
          13.873144149780273,
          10.901291847229004,
          9.185872077941895,
          11.301944732666016,
          14.18445110321045,
          12.002517700195312,
          13.789474487304688,
          13.554006576538086,
          8.733868598937988,
          10.563233375549316,
          8.079890251159668,
          11.828169822692871,
          11.568279266357422,
          13.882176399230957,
          10.971447944641113,
          11.127686500549316,
          12.353472709655762,
          12.024704933166504,
          8.783161163330078,
          12.36475944519043,
          13.443270683288574,
          9.45527172088623,
          11.819351196289062,
          12.647638320922852,
          12.847257614135742,
          10.71745491027832,
          7.514883995056152,
          11.447152137756348,
          11.79256820678711,
          9.315679550170898,
          13.35409164428711,
          8.753763198852539,
          8.211068153381348,
          13.966135025024414,
          10.780496597290039,
          10.687012672424316,
          11.378434181213379,
          11.60617733001709,
          8.131095886230469,
          10.654728889465332,
          10.017727851867676,
          10.636934280395508,
          8.14522933959961,
          8.710498809814453,
          9.258621215820312,
          11.697566032409668,
          14.36792278289795,
          12.743705749511719,
          13.56213092803955,
          11.199138641357422,
          10.684809684753418,
          9.054376602172852,
          8.045454025268555,
          8.637646675109863,
          9.661102294921875,
          7.479902267456055,
          8.341325759887695,
          10.384971618652344,
          12.733497619628906,
          11.109686851501465,
          11.075959205627441,
          10.08732795715332,
          12.414653778076172,
          12.404153823852539,
          9.21008586883545,
          14.328864097595215,
          7.118715763092041,
          10.900211334228516,
          9.214237213134766,
          8.74773120880127,
          9.027716636657715,
          11.842361450195312,
          7.528212070465088,
          7.374418258666992,
          14.031076431274414,
          10.787385940551758,
          11.062546730041504,
          10.827780723571777,
          11.585894584655762,
          14.492975234985352,
          9.297398567199707,
          11.512639045715332,
          10.959976196289062,
          13.338651657104492,
          10.379732131958008,
          13.392595291137695,
          11.404008865356445,
          12.949773788452148,
          8.42039966583252,
          10.932230949401855,
          8.685739517211914,
          9.218766212463379,
          10.991291999816895,
          8.583878517150879,
          14.243884086608887,
          11.403011322021484,
          12.619110107421875,
          11.886626243591309,
          12.403971672058105,
          11.410313606262207,
          7.408170223236084,
          7.4696197509765625,
          12.083605766296387,
          12.016162872314453,
          10.630675315856934,
          12.727075576782227,
          9.70474910736084,
          9.594975471496582,
          12.910534858703613,
          13.821284294128418,
          9.033914566040039,
          12.7406587600708,
          12.530068397521973,
          13.572229385375977,
          7.234614849090576,
          10.60023021697998,
          9.213397026062012,
          12.507866859436035,
          11.177038192749023,
          8.82278060913086,
          9.913026809692383,
          8.914937019348145,
          9.7356538772583,
          7.821910858154297,
          11.840678215026855,
          9.334871292114258,
          7.870253562927246,
          13.391772270202637,
          10.997354507446289,
          13.001497268676758,
          10.222434043884277,
          8.953034400939941,
          9.219799995422363,
          9.365876197814941,
          10.641741752624512,
          7.664102554321289,
          13.500354766845703,
          13.81031322479248,
          14.469801902770996,
          14.012843132019043,
          8.040857315063477,
          10.24592399597168,
          11.746912956237793,
          10.166058540344238,
          9.086609840393066,
          9.179882049560547,
          11.160634994506836,
          12.237771987915039,
          14.459283828735352,
          9.44283676147461,
          10.759872436523438,
          9.79422664642334,
          11.288167953491211,
          13.579684257507324,
          11.383920669555664,
          10.725173950195312,
          13.087234497070312,
          10.010112762451172,
          12.456111907958984,
          12.50533390045166,
          11.347322463989258,
          11.922381401062012,
          10.791308403015137,
          9.743796348571777,
          13.531357765197754,
          13.795117378234863,
          8.863965034484863,
          11.059151649475098,
          9.117587089538574,
          14.397725105285645,
          13.929951667785645,
          11.52403450012207,
          13.500020027160645,
          8.735954284667969,
          8.548051834106445,
          10.991724014282227,
          14.19597053527832,
          8.15121841430664,
          13.139437675476074,
          14.818079948425293,
          14.057665824890137,
          10.600703239440918,
          11.396709442138672,
          11.768828392028809,
          9.696784019470215,
          10.868483543395996,
          11.079109191894531,
          13.045757293701172,
          13.437938690185547,
          14.906458854675293,
          9.042268753051758,
          9.373236656188965,
          9.609236717224121,
          10.44894027709961,
          11.287261009216309,
          10.387412071228027,
          12.753207206726074,
          11.836610794067383,
          9.368346214294434,
          11.296493530273438,
          9.048595428466797,
          9.009733200073242,
          10.155763626098633,
          13.493618965148926,
          10.723485946655273,
          9.024787902832031,
          7.370372295379639,
          8.238983154296875,
          8.903005599975586,
          10.384236335754395,
          11.454692840576172,
          14.295063018798828,
          10.947920799255371,
          12.578682899475098,
          9.17733383178711,
          11.793384552001953,
          12.041634559631348,
          8.83726978302002,
          10.595383644104004,
          12.160223007202148,
          14.091218948364258,
          14.56756591796875,
          13.139841079711914,
          13.457181930541992,
          12.017294883728027,
          13.365023612976074,
          10.05737018585205,
          9.969521522521973,
          10.638907432556152,
          12.0881986618042,
          8.108986854553223,
          11.636634826660156,
          10.839921951293945,
          6.898654937744141,
          8.002360343933105,
          10.032254219055176,
          12.819331169128418,
          11.533106803894043,
          7.467084884643555,
          8.923128128051758,
          13.764859199523926,
          11.672212600708008,
          9.635701179504395,
          8.956491470336914,
          14.054184913635254,
          10.408958435058594,
          13.94382381439209,
          9.940932273864746,
          10.91730785369873,
          11.409713745117188,
          10.85857105255127,
          11.497710227966309,
          11.589376449584961,
          13.232403755187988,
          12.33963394165039,
          12.854231834411621,
          13.891831398010254,
          13.428047180175781,
          8.664822578430176,
          13.836921691894531,
          10.618813514709473,
          7.490078449249268,
          9.336814880371094,
          14.487922668457031,
          12.70235824584961,
          13.860090255737305,
          11.455551147460938,
          10.759770393371582,
          10.838566780090332,
          13.990240097045898,
          13.167997360229492,
          7.737878799438477,
          11.485407829284668,
          11.941533088684082,
          8.229844093322754,
          10.296465873718262,
          7.849761009216309,
          10.714112281799316,
          13.676695823669434,
          12.861069679260254,
          10.702459335327148,
          9.803906440734863,
          12.20048713684082,
          10.448514938354492,
          12.809120178222656,
          9.696575164794922,
          10.540059089660645,
          8.47901725769043,
          11.344664573669434,
          7.472394943237305,
          13.533702850341797,
          13.003486633300781,
          10.735528945922852,
          12.80556583404541,
          10.373744010925293,
          11.018775939941406,
          10.29826545715332,
          13.522706031799316,
          12.168981552124023,
          12.983573913574219,
          9.829131126403809,
          12.05920696258545,
          9.566023826599121,
          8.962953567504883,
          11.237333297729492,
          13.598254203796387,
          8.917295455932617,
          10.83598518371582,
          12.989775657653809,
          10.720584869384766,
          11.568434715270996,
          13.522757530212402,
          13.407038688659668,
          8.292801856994629,
          11.476791381835938,
          11.055545806884766,
          11.985852241516113,
          13.385553359985352,
          11.346574783325195,
          13.256866455078125,
          12.96436882019043,
          13.287308692932129,
          8.187448501586914,
          8.762551307678223,
          7.81647253036499,
          12.547256469726562,
          13.064082145690918,
          11.961904525756836,
          10.60932731628418,
          9.445554733276367,
          10.618424415588379,
          12.608451843261719,
          9.367378234863281,
          11.509824752807617,
          13.586268424987793,
          9.437186241149902,
          10.245820045471191,
          9.230133056640625,
          12.013017654418945,
          14.014176368713379,
          10.860129356384277,
          7.756695747375488,
          14.037548065185547,
          7.761448383331299,
          9.65903091430664,
          11.893057823181152,
          9.65906810760498,
          10.260475158691406,
          10.54092788696289,
          10.715143203735352,
          10.157532691955566,
          8.162801742553711,
          12.42988395690918,
          14.121445655822754,
          8.800206184387207,
          14.320334434509277,
          12.266680717468262,
          10.311971664428711,
          10.92346477508545,
          12.216020584106445,
          13.257867813110352,
          9.401742935180664,
          7.7151594161987305,
          13.067524909973145,
          9.322081565856934,
          8.044307708740234,
          13.006692886352539,
          9.274032592773438,
          8.448502540588379,
          11.180831909179688,
          12.203058242797852,
          9.188989639282227,
          12.20008373260498,
          11.548462867736816,
          11.177279472351074,
          10.489004135131836,
          13.01257038116455,
          13.313469886779785,
          12.70702075958252,
          11.777933120727539,
          11.05685806274414,
          9.426029205322266,
          12.84124755859375,
          13.254829406738281,
          11.567373275756836,
          10.727850914001465,
          13.251073837280273,
          12.375969886779785,
          14.133695602416992,
          9.48347282409668,
          8.484833717346191,
          10.27582836151123,
          11.730299949645996,
          7.114788055419922,
          10.030996322631836,
          10.011609077453613,
          12.882451057434082,
          11.766644477844238,
          8.159109115600586,
          13.03162956237793,
          11.891345024108887,
          10.853267669677734,
          10.33731746673584,
          7.541735649108887,
          10.259110450744629,
          11.91240406036377,
          11.535383224487305,
          13.71169376373291,
          7.49694299697876,
          7.564440727233887,
          12.893094062805176,
          13.547760963439941,
          13.433581352233887,
          9.9156494140625,
          10.710545539855957,
          14.280986785888672,
          9.733162879943848,
          8.183752059936523,
          12.925467491149902,
          10.662933349609375,
          6.786998271942139,
          13.519187927246094,
          11.505990982055664,
          12.792607307434082,
          10.374751091003418,
          9.298223495483398,
          13.30565071105957,
          14.483427047729492,
          12.102675437927246,
          11.8585205078125,
          11.141027450561523,
          10.076010704040527,
          10.643774032592773,
          13.70765209197998,
          13.725988388061523,
          11.35936450958252,
          10.46829605102539,
          14.60071086883545,
          9.982213020324707,
          9.819125175476074,
          13.68298053741455,
          9.858585357666016,
          11.405255317687988,
          8.44188117980957,
          9.439889907836914,
          8.676900863647461,
          8.2009859085083,
          11.361214637756348,
          10.38554859161377,
          14.451231002807617,
          8.311125755310059,
          13.88608169555664,
          12.759725570678711,
          12.634033203125,
          11.17315673828125,
          8.304381370544434,
          13.018473625183105,
          9.722562789916992,
          12.855189323425293,
          8.84528636932373,
          12.613442420959473,
          10.872370719909668,
          13.417192459106445
         ],
         "yaxis": "y"
        }
       ],
       "layout": {
        "annotations": [
         {
          "font": {
           "size": 16
          },
          "showarrow": false,
          "text": "Topics by HDBSCAN Cluster",
          "x": 0.5,
          "xanchor": "center",
          "xref": "paper",
          "y": 1,
          "yanchor": "bottom",
          "yref": "paper"
         }
        ],
        "height": 1000,
        "plot_bgcolor": "rgba(250,250,250,1)",
        "template": {
         "data": {
          "bar": [
           {
            "error_x": {
             "color": "#2a3f5f"
            },
            "error_y": {
             "color": "#2a3f5f"
            },
            "marker": {
             "line": {
              "color": "#E5ECF6",
              "width": 0.5
             },
             "pattern": {
              "fillmode": "overlay",
              "size": 10,
              "solidity": 0.2
             }
            },
            "type": "bar"
           }
          ],
          "barpolar": [
           {
            "marker": {
             "line": {
              "color": "#E5ECF6",
              "width": 0.5
             },
             "pattern": {
              "fillmode": "overlay",
              "size": 10,
              "solidity": 0.2
             }
            },
            "type": "barpolar"
           }
          ],
          "carpet": [
           {
            "aaxis": {
             "endlinecolor": "#2a3f5f",
             "gridcolor": "white",
             "linecolor": "white",
             "minorgridcolor": "white",
             "startlinecolor": "#2a3f5f"
            },
            "baxis": {
             "endlinecolor": "#2a3f5f",
             "gridcolor": "white",
             "linecolor": "white",
             "minorgridcolor": "white",
             "startlinecolor": "#2a3f5f"
            },
            "type": "carpet"
           }
          ],
          "choropleth": [
           {
            "colorbar": {
             "outlinewidth": 0,
             "ticks": ""
            },
            "type": "choropleth"
           }
          ],
          "contour": [
           {
            "colorbar": {
             "outlinewidth": 0,
             "ticks": ""
            },
            "colorscale": [
             [
              0,
              "#0d0887"
             ],
             [
              0.1111111111111111,
              "#46039f"
             ],
             [
              0.2222222222222222,
              "#7201a8"
             ],
             [
              0.3333333333333333,
              "#9c179e"
             ],
             [
              0.4444444444444444,
              "#bd3786"
             ],
             [
              0.5555555555555556,
              "#d8576b"
             ],
             [
              0.6666666666666666,
              "#ed7953"
             ],
             [
              0.7777777777777778,
              "#fb9f3a"
             ],
             [
              0.8888888888888888,
              "#fdca26"
             ],
             [
              1,
              "#f0f921"
             ]
            ],
            "type": "contour"
           }
          ],
          "contourcarpet": [
           {
            "colorbar": {
             "outlinewidth": 0,
             "ticks": ""
            },
            "type": "contourcarpet"
           }
          ],
          "heatmap": [
           {
            "colorbar": {
             "outlinewidth": 0,
             "ticks": ""
            },
            "colorscale": [
             [
              0,
              "#0d0887"
             ],
             [
              0.1111111111111111,
              "#46039f"
             ],
             [
              0.2222222222222222,
              "#7201a8"
             ],
             [
              0.3333333333333333,
              "#9c179e"
             ],
             [
              0.4444444444444444,
              "#bd3786"
             ],
             [
              0.5555555555555556,
              "#d8576b"
             ],
             [
              0.6666666666666666,
              "#ed7953"
             ],
             [
              0.7777777777777778,
              "#fb9f3a"
             ],
             [
              0.8888888888888888,
              "#fdca26"
             ],
             [
              1,
              "#f0f921"
             ]
            ],
            "type": "heatmap"
           }
          ],
          "heatmapgl": [
           {
            "colorbar": {
             "outlinewidth": 0,
             "ticks": ""
            },
            "colorscale": [
             [
              0,
              "#0d0887"
             ],
             [
              0.1111111111111111,
              "#46039f"
             ],
             [
              0.2222222222222222,
              "#7201a8"
             ],
             [
              0.3333333333333333,
              "#9c179e"
             ],
             [
              0.4444444444444444,
              "#bd3786"
             ],
             [
              0.5555555555555556,
              "#d8576b"
             ],
             [
              0.6666666666666666,
              "#ed7953"
             ],
             [
              0.7777777777777778,
              "#fb9f3a"
             ],
             [
              0.8888888888888888,
              "#fdca26"
             ],
             [
              1,
              "#f0f921"
             ]
            ],
            "type": "heatmapgl"
           }
          ],
          "histogram": [
           {
            "marker": {
             "pattern": {
              "fillmode": "overlay",
              "size": 10,
              "solidity": 0.2
             }
            },
            "type": "histogram"
           }
          ],
          "histogram2d": [
           {
            "colorbar": {
             "outlinewidth": 0,
             "ticks": ""
            },
            "colorscale": [
             [
              0,
              "#0d0887"
             ],
             [
              0.1111111111111111,
              "#46039f"
             ],
             [
              0.2222222222222222,
              "#7201a8"
             ],
             [
              0.3333333333333333,
              "#9c179e"
             ],
             [
              0.4444444444444444,
              "#bd3786"
             ],
             [
              0.5555555555555556,
              "#d8576b"
             ],
             [
              0.6666666666666666,
              "#ed7953"
             ],
             [
              0.7777777777777778,
              "#fb9f3a"
             ],
             [
              0.8888888888888888,
              "#fdca26"
             ],
             [
              1,
              "#f0f921"
             ]
            ],
            "type": "histogram2d"
           }
          ],
          "histogram2dcontour": [
           {
            "colorbar": {
             "outlinewidth": 0,
             "ticks": ""
            },
            "colorscale": [
             [
              0,
              "#0d0887"
             ],
             [
              0.1111111111111111,
              "#46039f"
             ],
             [
              0.2222222222222222,
              "#7201a8"
             ],
             [
              0.3333333333333333,
              "#9c179e"
             ],
             [
              0.4444444444444444,
              "#bd3786"
             ],
             [
              0.5555555555555556,
              "#d8576b"
             ],
             [
              0.6666666666666666,
              "#ed7953"
             ],
             [
              0.7777777777777778,
              "#fb9f3a"
             ],
             [
              0.8888888888888888,
              "#fdca26"
             ],
             [
              1,
              "#f0f921"
             ]
            ],
            "type": "histogram2dcontour"
           }
          ],
          "mesh3d": [
           {
            "colorbar": {
             "outlinewidth": 0,
             "ticks": ""
            },
            "type": "mesh3d"
           }
          ],
          "parcoords": [
           {
            "line": {
             "colorbar": {
              "outlinewidth": 0,
              "ticks": ""
             }
            },
            "type": "parcoords"
           }
          ],
          "pie": [
           {
            "automargin": true,
            "type": "pie"
           }
          ],
          "scatter": [
           {
            "fillpattern": {
             "fillmode": "overlay",
             "size": 10,
             "solidity": 0.2
            },
            "type": "scatter"
           }
          ],
          "scatter3d": [
           {
            "line": {
             "colorbar": {
              "outlinewidth": 0,
              "ticks": ""
             }
            },
            "marker": {
             "colorbar": {
              "outlinewidth": 0,
              "ticks": ""
             }
            },
            "type": "scatter3d"
           }
          ],
          "scattercarpet": [
           {
            "marker": {
             "colorbar": {
              "outlinewidth": 0,
              "ticks": ""
             }
            },
            "type": "scattercarpet"
           }
          ],
          "scattergeo": [
           {
            "marker": {
             "colorbar": {
              "outlinewidth": 0,
              "ticks": ""
             }
            },
            "type": "scattergeo"
           }
          ],
          "scattergl": [
           {
            "marker": {
             "colorbar": {
              "outlinewidth": 0,
              "ticks": ""
             }
            },
            "type": "scattergl"
           }
          ],
          "scattermapbox": [
           {
            "marker": {
             "colorbar": {
              "outlinewidth": 0,
              "ticks": ""
             }
            },
            "type": "scattermapbox"
           }
          ],
          "scatterpolar": [
           {
            "marker": {
             "colorbar": {
              "outlinewidth": 0,
              "ticks": ""
             }
            },
            "type": "scatterpolar"
           }
          ],
          "scatterpolargl": [
           {
            "marker": {
             "colorbar": {
              "outlinewidth": 0,
              "ticks": ""
             }
            },
            "type": "scatterpolargl"
           }
          ],
          "scatterternary": [
           {
            "marker": {
             "colorbar": {
              "outlinewidth": 0,
              "ticks": ""
             }
            },
            "type": "scatterternary"
           }
          ],
          "surface": [
           {
            "colorbar": {
             "outlinewidth": 0,
             "ticks": ""
            },
            "colorscale": [
             [
              0,
              "#0d0887"
             ],
             [
              0.1111111111111111,
              "#46039f"
             ],
             [
              0.2222222222222222,
              "#7201a8"
             ],
             [
              0.3333333333333333,
              "#9c179e"
             ],
             [
              0.4444444444444444,
              "#bd3786"
             ],
             [
              0.5555555555555556,
              "#d8576b"
             ],
             [
              0.6666666666666666,
              "#ed7953"
             ],
             [
              0.7777777777777778,
              "#fb9f3a"
             ],
             [
              0.8888888888888888,
              "#fdca26"
             ],
             [
              1,
              "#f0f921"
             ]
            ],
            "type": "surface"
           }
          ],
          "table": [
           {
            "cells": {
             "fill": {
              "color": "#EBF0F8"
             },
             "line": {
              "color": "white"
             }
            },
            "header": {
             "fill": {
              "color": "#C8D4E3"
             },
             "line": {
              "color": "white"
             }
            },
            "type": "table"
           }
          ]
         },
         "layout": {
          "annotationdefaults": {
           "arrowcolor": "#2a3f5f",
           "arrowhead": 0,
           "arrowwidth": 1
          },
          "autotypenumbers": "strict",
          "coloraxis": {
           "colorbar": {
            "outlinewidth": 0,
            "ticks": ""
           }
          },
          "colorscale": {
           "diverging": [
            [
             0,
             "#8e0152"
            ],
            [
             0.1,
             "#c51b7d"
            ],
            [
             0.2,
             "#de77ae"
            ],
            [
             0.3,
             "#f1b6da"
            ],
            [
             0.4,
             "#fde0ef"
            ],
            [
             0.5,
             "#f7f7f7"
            ],
            [
             0.6,
             "#e6f5d0"
            ],
            [
             0.7,
             "#b8e186"
            ],
            [
             0.8,
             "#7fbc41"
            ],
            [
             0.9,
             "#4d9221"
            ],
            [
             1,
             "#276419"
            ]
           ],
           "sequential": [
            [
             0,
             "#0d0887"
            ],
            [
             0.1111111111111111,
             "#46039f"
            ],
            [
             0.2222222222222222,
             "#7201a8"
            ],
            [
             0.3333333333333333,
             "#9c179e"
            ],
            [
             0.4444444444444444,
             "#bd3786"
            ],
            [
             0.5555555555555556,
             "#d8576b"
            ],
            [
             0.6666666666666666,
             "#ed7953"
            ],
            [
             0.7777777777777778,
             "#fb9f3a"
            ],
            [
             0.8888888888888888,
             "#fdca26"
            ],
            [
             1,
             "#f0f921"
            ]
           ],
           "sequentialminus": [
            [
             0,
             "#0d0887"
            ],
            [
             0.1111111111111111,
             "#46039f"
            ],
            [
             0.2222222222222222,
             "#7201a8"
            ],
            [
             0.3333333333333333,
             "#9c179e"
            ],
            [
             0.4444444444444444,
             "#bd3786"
            ],
            [
             0.5555555555555556,
             "#d8576b"
            ],
            [
             0.6666666666666666,
             "#ed7953"
            ],
            [
             0.7777777777777778,
             "#fb9f3a"
            ],
            [
             0.8888888888888888,
             "#fdca26"
            ],
            [
             1,
             "#f0f921"
            ]
           ]
          },
          "colorway": [
           "#636efa",
           "#EF553B",
           "#00cc96",
           "#ab63fa",
           "#FFA15A",
           "#19d3f3",
           "#FF6692",
           "#B6E880",
           "#FF97FF",
           "#FECB52"
          ],
          "font": {
           "color": "#2a3f5f"
          },
          "geo": {
           "bgcolor": "white",
           "lakecolor": "white",
           "landcolor": "#E5ECF6",
           "showlakes": true,
           "showland": true,
           "subunitcolor": "white"
          },
          "hoverlabel": {
           "align": "left"
          },
          "hovermode": "closest",
          "mapbox": {
           "style": "light"
          },
          "paper_bgcolor": "white",
          "plot_bgcolor": "#E5ECF6",
          "polar": {
           "angularaxis": {
            "gridcolor": "white",
            "linecolor": "white",
            "ticks": ""
           },
           "bgcolor": "#E5ECF6",
           "radialaxis": {
            "gridcolor": "white",
            "linecolor": "white",
            "ticks": ""
           }
          },
          "scene": {
           "xaxis": {
            "backgroundcolor": "#E5ECF6",
            "gridcolor": "white",
            "gridwidth": 2,
            "linecolor": "white",
            "showbackground": true,
            "ticks": "",
            "zerolinecolor": "white"
           },
           "yaxis": {
            "backgroundcolor": "#E5ECF6",
            "gridcolor": "white",
            "gridwidth": 2,
            "linecolor": "white",
            "showbackground": true,
            "ticks": "",
            "zerolinecolor": "white"
           },
           "zaxis": {
            "backgroundcolor": "#E5ECF6",
            "gridcolor": "white",
            "gridwidth": 2,
            "linecolor": "white",
            "showbackground": true,
            "ticks": "",
            "zerolinecolor": "white"
           }
          },
          "shapedefaults": {
           "line": {
            "color": "#2a3f5f"
           }
          },
          "ternary": {
           "aaxis": {
            "gridcolor": "white",
            "linecolor": "white",
            "ticks": ""
           },
           "baxis": {
            "gridcolor": "white",
            "linecolor": "white",
            "ticks": ""
           },
           "bgcolor": "#E5ECF6",
           "caxis": {
            "gridcolor": "white",
            "linecolor": "white",
            "ticks": ""
           }
          },
          "title": {
           "x": 0.05
          },
          "xaxis": {
           "automargin": true,
           "gridcolor": "white",
           "linecolor": "white",
           "ticks": "",
           "title": {
            "standoff": 15
           },
           "zerolinecolor": "white",
           "zerolinewidth": 2
          },
          "yaxis": {
           "automargin": true,
           "gridcolor": "white",
           "linecolor": "white",
           "ticks": "",
           "title": {
            "standoff": 15
           },
           "zerolinecolor": "white",
           "zerolinewidth": 2
          }
         }
        },
        "width": 1000,
        "xaxis": {
         "anchor": "y",
         "domain": [
          0,
          1
         ],
         "visible": false
        },
        "yaxis": {
         "anchor": "x",
         "domain": [
          0,
          1
         ],
         "visible": false
        }
       }
      }
     },
     "metadata": {},
     "output_type": "display_data"
    }
   ],
   "source": [
    "trace_cluster_2d, trace_outlier_2d = result_tracer_wrapper(embs_2d, clusters_2d.labels_, df[\"title_clean\"].to_numpy())\n",
    "\n",
    "\n",
    "col11 = [trace_cluster_2d, trace_outlier_2d]\n",
    "\n",
    "\n",
    "row1 = [col11]\n",
    "\n",
    "\n",
    "trace_list = [row1]\n",
    "\n",
    "fig = subplotter(trace_list, [\"Topics by HDBSCAN Cluster\", ])\n",
    "\n",
    "fig_show_save(fig, \"topics-by-hdbscan-clusters\")"
   ]
  },
  {
   "cell_type": "markdown",
   "metadata": {},
   "source": [
    "\"\"\"\n",
    "result_2d = result_df_maker(embs_2d, clusters_2d.labels_, df[\"title_clean\"].to_numpy())\n",
    "\n",
    "result_2d[[\"cluster_label\", \"topics\"]].groupby([\"cluster_label\", \"topics\"])[\"topics\"].count().reset_index(name=\"vidoes_count\").sort_values(by=\"vidoes_count\", ascending=False).head(20)\n",
    "\"\"\""
   ]
  },
  {
   "cell_type": "code",
   "execution_count": null,
   "metadata": {},
   "outputs": [
    {
     "data": {
      "text/html": [
       "<div>\n",
       "<style scoped>\n",
       "    .dataframe tbody tr th:only-of-type {\n",
       "        vertical-align: middle;\n",
       "    }\n",
       "\n",
       "    .dataframe tbody tr th {\n",
       "        vertical-align: top;\n",
       "    }\n",
       "\n",
       "    .dataframe thead th {\n",
       "        text-align: right;\n",
       "    }\n",
       "</style>\n",
       "<table border=\"1\" class=\"dataframe\">\n",
       "  <thead>\n",
       "    <tr style=\"text-align: right;\">\n",
       "      <th></th>\n",
       "      <th>cluster_id</th>\n",
       "      <th>title</th>\n",
       "      <th>title_clean</th>\n",
       "      <th>embs</th>\n",
       "      <th>embs_2d</th>\n",
       "    </tr>\n",
       "  </thead>\n",
       "  <tbody>\n",
       "    <tr>\n",
       "      <th>0</th>\n",
       "      <td>-1</td>\n",
       "      <td>[Narcos - Season 4 | Teaser [HD] I Netflix, John Mayer - New Light (Premium Content!), 世界で一番切れるパスタの包丁を作りたい！, singing the same song 6 years later.., The Ultimate Red Lip Look | Nicole Guerriero, Th...</td>\n",
       "      <td>[narcos  season 4  teaser hd i netflix, john mayer  new light premium content, 世界で一番切れるパスタの包丁を作りたい, singing the same song 6 years later, the ultimate red lip look  nicole guerriero, the weirdest m...</td>\n",
       "      <td>[[-0.0667129, 0.06655551, -0.026436742, -0.0069335666, -0.00504826, 0.016876755, 0.0023019437, 0.006201012, -0.014044925, 0.01971911, 0.0012816396, -0.04646158, -0.015638025, 0.073019825, 0.009613...</td>\n",
       "      <td>[[11.840066, 7.4985857], [11.953117, 12.808144], [10.026723, 13.0706], [11.4126835, 12.34074], [7.718423, 12.980728], [7.3262234, 9.097649], [11.038841, 7.5897055], [11.416008, 11.547061], [8.0286...</td>\n",
       "    </tr>\n",
       "    <tr>\n",
       "      <th>1</th>\n",
       "      <td>0</td>\n",
       "      <td>[Real Madrid vs. Liverpool | 2017-18 UEFA Champions League Final Highlights, PSG 1-2 Real Madrid | RONALDO &amp; HIS TEAMMATES IN THE DRESSING ROOM: Celebrations, Roma vs. Liverpool | 2017-18 UEFA Cha...</td>\n",
       "      <td>[real madrid vs liverpool  201718 uefa champions league final highlights, psg 12 real madrid  ronaldo  his teammates in the dressing room celebrations, roma vs liverpool  201718 uefa champions lea...</td>\n",
       "      <td>[[-0.0269576, -0.06661856, 0.014376589, 0.01771011, 0.020629233, 0.008125495, -0.099945396, 0.041083433, -0.039946366, -0.007319208, -0.006689946, 0.025209751, 0.03762367, -0.053506248, 0.04864922...</td>\n",
       "      <td>[[8.741208, 6.6592283], [8.701977, 6.6592607], [8.733076, 6.6889124], [8.665647, 6.8511167], [8.798641, 6.662543], [8.783636, 6.75002], [8.727512, 6.7018895], [8.674904, 6.674897], [8.76352, 6.706...</td>\n",
       "    </tr>\n",
       "    <tr>\n",
       "      <th>2</th>\n",
       "      <td>1</td>\n",
       "      <td>[Top 10 Plays of the Night: January 6, 2018, Top 10 Plays of the Night: January 27, 2018, Let's talk about Colin Kaepernick | Chart Party, Never Bet Your Money On Another Man's Game, Top 5 Plays o...</td>\n",
       "      <td>[top 10 plays of the night january 6 2018, top 10 plays of the night january 27 2018, lets talk about colin kaepernick  chart party, never bet your money on another mans game, top 5 plays of the n...</td>\n",
       "      <td>[[-0.046044108, 0.026989933, -0.014179003, -0.021738028, -0.011217805, -0.029685352, -0.0053041033, 0.03616013, 0.014296963, -0.023670096, 0.01899161, 0.047746863, 0.019091759, 0.025366396, 0.0493...</td>\n",
       "      <td>[[9.450432, 7.3553696], [9.452858, 7.3683295], [9.488768, 7.381989], [9.402591, 7.333701], [9.422234, 7.3112636], [9.423366, 7.323855], [9.511345, 7.2999], [9.479753, 7.2313175], [9.396548, 7.4073...</td>\n",
       "    </tr>\n",
       "  </tbody>\n",
       "</table>\n",
       "</div>"
      ],
      "text/plain": [
       "   cluster_id  \\\n",
       "0          -1   \n",
       "1           0   \n",
       "2           1   \n",
       "\n",
       "                                                                                                                                                                                                     title  \\\n",
       "0  [Narcos - Season 4 | Teaser [HD] I Netflix, John Mayer - New Light (Premium Content!), 世界で一番切れるパスタの包丁を作りたい！, singing the same song 6 years later.., The Ultimate Red Lip Look | Nicole Guerriero, Th...   \n",
       "1  [Real Madrid vs. Liverpool | 2017-18 UEFA Champions League Final Highlights, PSG 1-2 Real Madrid | RONALDO & HIS TEAMMATES IN THE DRESSING ROOM: Celebrations, Roma vs. Liverpool | 2017-18 UEFA Cha...   \n",
       "2  [Top 10 Plays of the Night: January 6, 2018, Top 10 Plays of the Night: January 27, 2018, Let's talk about Colin Kaepernick | Chart Party, Never Bet Your Money On Another Man's Game, Top 5 Plays o...   \n",
       "\n",
       "                                                                                                                                                                                               title_clean  \\\n",
       "0  [narcos  season 4  teaser hd i netflix, john mayer  new light premium content, 世界で一番切れるパスタの包丁を作りたい, singing the same song 6 years later, the ultimate red lip look  nicole guerriero, the weirdest m...   \n",
       "1  [real madrid vs liverpool  201718 uefa champions league final highlights, psg 12 real madrid  ronaldo  his teammates in the dressing room celebrations, roma vs liverpool  201718 uefa champions lea...   \n",
       "2  [top 10 plays of the night january 6 2018, top 10 plays of the night january 27 2018, lets talk about colin kaepernick  chart party, never bet your money on another mans game, top 5 plays of the n...   \n",
       "\n",
       "                                                                                                                                                                                                      embs  \\\n",
       "0  [[-0.0667129, 0.06655551, -0.026436742, -0.0069335666, -0.00504826, 0.016876755, 0.0023019437, 0.006201012, -0.014044925, 0.01971911, 0.0012816396, -0.04646158, -0.015638025, 0.073019825, 0.009613...   \n",
       "1  [[-0.0269576, -0.06661856, 0.014376589, 0.01771011, 0.020629233, 0.008125495, -0.099945396, 0.041083433, -0.039946366, -0.007319208, -0.006689946, 0.025209751, 0.03762367, -0.053506248, 0.04864922...   \n",
       "2  [[-0.046044108, 0.026989933, -0.014179003, -0.021738028, -0.011217805, -0.029685352, -0.0053041033, 0.03616013, 0.014296963, -0.023670096, 0.01899161, 0.047746863, 0.019091759, 0.025366396, 0.0493...   \n",
       "\n",
       "                                                                                                                                                                                                   embs_2d  \n",
       "0  [[11.840066, 7.4985857], [11.953117, 12.808144], [10.026723, 13.0706], [11.4126835, 12.34074], [7.718423, 12.980728], [7.3262234, 9.097649], [11.038841, 7.5897055], [11.416008, 11.547061], [8.0286...  \n",
       "1  [[8.741208, 6.6592283], [8.701977, 6.6592607], [8.733076, 6.6889124], [8.665647, 6.8511167], [8.798641, 6.662543], [8.783636, 6.75002], [8.727512, 6.7018895], [8.674904, 6.674897], [8.76352, 6.706...  \n",
       "2  [[9.450432, 7.3553696], [9.452858, 7.3683295], [9.488768, 7.381989], [9.402591, 7.333701], [9.422234, 7.3112636], [9.423366, 7.323855], [9.511345, 7.2999], [9.479753, 7.2313175], [9.396548, 7.4073...  "
      ]
     },
     "execution_count": 45,
     "metadata": {},
     "output_type": "execute_result"
    }
   ],
   "source": [
    "dfcg = df.groupby([\"cluster_id\"])\n",
    "\n",
    "dfcg = dfcg.agg(list)\n",
    "\n",
    "dfcg = dfcg.reset_index()\n",
    "\n",
    "dfcg.head(3)"
   ]
  },
  {
   "cell_type": "code",
   "execution_count": null,
   "metadata": {},
   "outputs": [],
   "source": []
  }
 ],
 "metadata": {
  "kernelspec": {
   "display_name": "Python 3.8.13 ('intro-ai')",
   "language": "python",
   "name": "python3"
  },
  "language_info": {
   "codemirror_mode": {
    "name": "ipython",
    "version": 3
   },
   "file_extension": ".py",
   "mimetype": "text/x-python",
   "name": "python",
   "nbconvert_exporter": "python",
   "pygments_lexer": "ipython3",
   "version": "3.8.13"
  },
  "orig_nbformat": 4,
  "vscode": {
   "interpreter": {
    "hash": "7336542e46cdec7a015690b381a1d77fd074013d53588a80d1821394daf14732"
   }
  }
 },
 "nbformat": 4,
 "nbformat_minor": 2
}
